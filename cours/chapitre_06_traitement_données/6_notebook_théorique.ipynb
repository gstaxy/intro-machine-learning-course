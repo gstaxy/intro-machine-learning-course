{
 "cells": [
  {
   "cell_type": "markdown",
   "metadata": {
    "id": "eHEs3B8podl8"
   },
   "source": [
    "# Atelier théorique #6 - **Préparation des données**\n",
    "\n",
    "### Objectifs de cette leçon\n",
    "1. Explorer les types de données dans un contexte de programmation\n",
    "2. Se familiariser avec la préparation de données\n",
    "3. Introduire les méthodes de transformation des données\n",
    "4. Comprendre l'importance de préparer les données\n",
    "\n",
    "Exemple de jeu de données avec tous les types de données :\n",
    "https://www.kaggle.com/c/titanic-dataset/data?select=titanic_test.csv "
   ]
  },
  {
   "cell_type": "markdown",
   "metadata": {
    "id": "oe2OyX_ar0oK"
   },
   "source": [
    "## Théorie : Types de données\n",
    "\n",
    "On a déjà vu les types de données dans pandas dans les leçons précédentes. On va maintenant voir comment il est important de bien les interpréter dans un jeu de données avant de commencer à faire des analyses plus poussées.\n",
    "\n",
    "> *Parfois, le type de données pré-défini pour une variable peut être erroné. Il faut donc l'ajuster manuellement.* "
   ]
  },
  {
   "cell_type": "code",
   "execution_count": null,
   "metadata": {
    "id": "OLI3BW-Qr66B"
   },
   "outputs": [],
   "source": [
    "# Créer un jeu de données exemple pour montrer les différents types de données\n",
    "import numpy as np\n",
    "import pandas as pd\n",
    "\n",
    "myarray = np.array([[4, 2.90, 'hard', 'hard', 'cat', True], \n",
    "                    [8, 4.87, 'easy', 'easy', 'dog', True],\n",
    "                    [18, 7.43, 'easy', 'easy','dog', False],\n",
    "                    [10, 1.57, 'medium', 'medium', 'snake', True],\n",
    "                    [3, 20.00, 'easy', 'easy', 'snake', False],\n",
    "                    [5, 9.32, 'medium', 'medium', 'dog', True]])\n",
    "\n",
    "colnames = ['num_discrete', 'num_continuous', 'cat_ordinal_1', 'cat_ordinal_2', 'cat_nominal', 'cat_binary']\n",
    "\n",
    "data_types = pd.DataFrame(myarray, columns=colnames)"
   ]
  },
  {
   "cell_type": "code",
   "execution_count": null,
   "metadata": {
    "colab": {
     "base_uri": "https://localhost:8080/",
     "height": 237
    },
    "executionInfo": {
     "elapsed": 307,
     "status": "ok",
     "timestamp": 1641850663871,
     "user": {
      "displayName": "Carl Grandmont",
      "photoUrl": "https://lh3.googleusercontent.com/a-/AOh14GiDPL6ta2d4oBPET8l9vFCvaEwSvBpDv9VBpjeXPw=s64",
      "userId": "07472538960919752630"
     },
     "user_tz": 300
    },
    "id": "xzTJaLtpr68d",
    "outputId": "29c69b66-1053-46a8-e687-ecbd29810e12"
   },
   "outputs": [
    {
     "data": {
      "text/html": [
       "\n",
       "  <div id=\"df-b5b9689c-97a6-4003-b2aa-56447a48456c\">\n",
       "    <div class=\"colab-df-container\">\n",
       "      <div>\n",
       "<style scoped>\n",
       "    .dataframe tbody tr th:only-of-type {\n",
       "        vertical-align: middle;\n",
       "    }\n",
       "\n",
       "    .dataframe tbody tr th {\n",
       "        vertical-align: top;\n",
       "    }\n",
       "\n",
       "    .dataframe thead th {\n",
       "        text-align: right;\n",
       "    }\n",
       "</style>\n",
       "<table border=\"1\" class=\"dataframe\">\n",
       "  <thead>\n",
       "    <tr style=\"text-align: right;\">\n",
       "      <th></th>\n",
       "      <th>num_discrete</th>\n",
       "      <th>num_continuous</th>\n",
       "      <th>cat_ordinal_1</th>\n",
       "      <th>cat_ordinal_2</th>\n",
       "      <th>cat_nominal</th>\n",
       "      <th>cat_binary</th>\n",
       "    </tr>\n",
       "  </thead>\n",
       "  <tbody>\n",
       "    <tr>\n",
       "      <th>0</th>\n",
       "      <td>4</td>\n",
       "      <td>2.9</td>\n",
       "      <td>hard</td>\n",
       "      <td>hard</td>\n",
       "      <td>cat</td>\n",
       "      <td>True</td>\n",
       "    </tr>\n",
       "    <tr>\n",
       "      <th>1</th>\n",
       "      <td>8</td>\n",
       "      <td>4.87</td>\n",
       "      <td>easy</td>\n",
       "      <td>easy</td>\n",
       "      <td>dog</td>\n",
       "      <td>True</td>\n",
       "    </tr>\n",
       "    <tr>\n",
       "      <th>2</th>\n",
       "      <td>18</td>\n",
       "      <td>7.43</td>\n",
       "      <td>easy</td>\n",
       "      <td>easy</td>\n",
       "      <td>dog</td>\n",
       "      <td>False</td>\n",
       "    </tr>\n",
       "    <tr>\n",
       "      <th>3</th>\n",
       "      <td>10</td>\n",
       "      <td>1.57</td>\n",
       "      <td>medium</td>\n",
       "      <td>medium</td>\n",
       "      <td>snake</td>\n",
       "      <td>True</td>\n",
       "    </tr>\n",
       "    <tr>\n",
       "      <th>4</th>\n",
       "      <td>3</td>\n",
       "      <td>20.0</td>\n",
       "      <td>easy</td>\n",
       "      <td>easy</td>\n",
       "      <td>snake</td>\n",
       "      <td>False</td>\n",
       "    </tr>\n",
       "    <tr>\n",
       "      <th>5</th>\n",
       "      <td>5</td>\n",
       "      <td>9.32</td>\n",
       "      <td>medium</td>\n",
       "      <td>medium</td>\n",
       "      <td>dog</td>\n",
       "      <td>True</td>\n",
       "    </tr>\n",
       "  </tbody>\n",
       "</table>\n",
       "</div>\n",
       "      <button class=\"colab-df-convert\" onclick=\"convertToInteractive('df-b5b9689c-97a6-4003-b2aa-56447a48456c')\"\n",
       "              title=\"Convert this dataframe to an interactive table.\"\n",
       "              style=\"display:none;\">\n",
       "        \n",
       "  <svg xmlns=\"http://www.w3.org/2000/svg\" height=\"24px\"viewBox=\"0 0 24 24\"\n",
       "       width=\"24px\">\n",
       "    <path d=\"M0 0h24v24H0V0z\" fill=\"none\"/>\n",
       "    <path d=\"M18.56 5.44l.94 2.06.94-2.06 2.06-.94-2.06-.94-.94-2.06-.94 2.06-2.06.94zm-11 1L8.5 8.5l.94-2.06 2.06-.94-2.06-.94L8.5 2.5l-.94 2.06-2.06.94zm10 10l.94 2.06.94-2.06 2.06-.94-2.06-.94-.94-2.06-.94 2.06-2.06.94z\"/><path d=\"M17.41 7.96l-1.37-1.37c-.4-.4-.92-.59-1.43-.59-.52 0-1.04.2-1.43.59L10.3 9.45l-7.72 7.72c-.78.78-.78 2.05 0 2.83L4 21.41c.39.39.9.59 1.41.59.51 0 1.02-.2 1.41-.59l7.78-7.78 2.81-2.81c.8-.78.8-2.07 0-2.86zM5.41 20L4 18.59l7.72-7.72 1.47 1.35L5.41 20z\"/>\n",
       "  </svg>\n",
       "      </button>\n",
       "      \n",
       "  <style>\n",
       "    .colab-df-container {\n",
       "      display:flex;\n",
       "      flex-wrap:wrap;\n",
       "      gap: 12px;\n",
       "    }\n",
       "\n",
       "    .colab-df-convert {\n",
       "      background-color: #E8F0FE;\n",
       "      border: none;\n",
       "      border-radius: 50%;\n",
       "      cursor: pointer;\n",
       "      display: none;\n",
       "      fill: #1967D2;\n",
       "      height: 32px;\n",
       "      padding: 0 0 0 0;\n",
       "      width: 32px;\n",
       "    }\n",
       "\n",
       "    .colab-df-convert:hover {\n",
       "      background-color: #E2EBFA;\n",
       "      box-shadow: 0px 1px 2px rgba(60, 64, 67, 0.3), 0px 1px 3px 1px rgba(60, 64, 67, 0.15);\n",
       "      fill: #174EA6;\n",
       "    }\n",
       "\n",
       "    [theme=dark] .colab-df-convert {\n",
       "      background-color: #3B4455;\n",
       "      fill: #D2E3FC;\n",
       "    }\n",
       "\n",
       "    [theme=dark] .colab-df-convert:hover {\n",
       "      background-color: #434B5C;\n",
       "      box-shadow: 0px 1px 3px 1px rgba(0, 0, 0, 0.15);\n",
       "      filter: drop-shadow(0px 1px 2px rgba(0, 0, 0, 0.3));\n",
       "      fill: #FFFFFF;\n",
       "    }\n",
       "  </style>\n",
       "\n",
       "      <script>\n",
       "        const buttonEl =\n",
       "          document.querySelector('#df-b5b9689c-97a6-4003-b2aa-56447a48456c button.colab-df-convert');\n",
       "        buttonEl.style.display =\n",
       "          google.colab.kernel.accessAllowed ? 'block' : 'none';\n",
       "\n",
       "        async function convertToInteractive(key) {\n",
       "          const element = document.querySelector('#df-b5b9689c-97a6-4003-b2aa-56447a48456c');\n",
       "          const dataTable =\n",
       "            await google.colab.kernel.invokeFunction('convertToInteractive',\n",
       "                                                     [key], {});\n",
       "          if (!dataTable) return;\n",
       "\n",
       "          const docLinkHtml = 'Like what you see? Visit the ' +\n",
       "            '<a target=\"_blank\" href=https://colab.research.google.com/notebooks/data_table.ipynb>data table notebook</a>'\n",
       "            + ' to learn more about interactive tables.';\n",
       "          element.innerHTML = '';\n",
       "          dataTable['output_type'] = 'display_data';\n",
       "          await google.colab.output.renderOutput(dataTable, element);\n",
       "          const docLink = document.createElement('div');\n",
       "          docLink.innerHTML = docLinkHtml;\n",
       "          element.appendChild(docLink);\n",
       "        }\n",
       "      </script>\n",
       "    </div>\n",
       "  </div>\n",
       "  "
      ],
      "text/plain": [
       "  num_discrete num_continuous  ... cat_nominal cat_binary\n",
       "0            4            2.9  ...         cat       True\n",
       "1            8           4.87  ...         dog       True\n",
       "2           18           7.43  ...         dog      False\n",
       "3           10           1.57  ...       snake       True\n",
       "4            3           20.0  ...       snake      False\n",
       "5            5           9.32  ...         dog       True\n",
       "\n",
       "[6 rows x 6 columns]"
      ]
     },
     "execution_count": 2,
     "metadata": {},
     "output_type": "execute_result"
    }
   ],
   "source": [
    "# Jeter un coup d'oeil au jeu de données\n",
    "data_types.head(6)"
   ]
  },
  {
   "cell_type": "code",
   "execution_count": null,
   "metadata": {
    "colab": {
     "base_uri": "https://localhost:8080/"
    },
    "executionInfo": {
     "elapsed": 288,
     "status": "ok",
     "timestamp": 1641850677312,
     "user": {
      "displayName": "Carl Grandmont",
      "photoUrl": "https://lh3.googleusercontent.com/a-/AOh14GiDPL6ta2d4oBPET8l9vFCvaEwSvBpDv9VBpjeXPw=s64",
      "userId": "07472538960919752630"
     },
     "user_tz": 300
    },
    "id": "NNrtSkNvwiIH",
    "outputId": "c015a939-8722-4084-bb33-16e682c4c86b"
   },
   "outputs": [
    {
     "data": {
      "text/plain": [
       "num_discrete      object\n",
       "num_continuous    object\n",
       "cat_ordinal_1     object\n",
       "cat_ordinal_2     object\n",
       "cat_nominal       object\n",
       "cat_binary        object\n",
       "dtype: object"
      ]
     },
     "execution_count": 3,
     "metadata": {},
     "output_type": "execute_result"
    }
   ],
   "source": [
    "# Extraire le type de données pour chaque variable\n",
    "data_types.dtypes"
   ]
  },
  {
   "cell_type": "code",
   "execution_count": null,
   "metadata": {
    "colab": {
     "base_uri": "https://localhost:8080/"
    },
    "executionInfo": {
     "elapsed": 291,
     "status": "ok",
     "timestamp": 1641850691988,
     "user": {
      "displayName": "Carl Grandmont",
      "photoUrl": "https://lh3.googleusercontent.com/a-/AOh14GiDPL6ta2d4oBPET8l9vFCvaEwSvBpDv9VBpjeXPw=s64",
      "userId": "07472538960919752630"
     },
     "user_tz": 300
    },
    "id": "yZvCyj0ZVfFj",
    "outputId": "59e58aba-5419-483c-84d2-74c3beb55ec5"
   },
   "outputs": [
    {
     "name": "stdout",
     "output_type": "stream",
     "text": [
      "<class 'pandas.core.frame.DataFrame'>\n",
      "RangeIndex: 6 entries, 0 to 5\n",
      "Data columns (total 6 columns):\n",
      " #   Column          Non-Null Count  Dtype \n",
      "---  ------          --------------  ----- \n",
      " 0   num_discrete    6 non-null      object\n",
      " 1   num_continuous  6 non-null      object\n",
      " 2   cat_ordinal_1   6 non-null      object\n",
      " 3   cat_ordinal_2   6 non-null      object\n",
      " 4   cat_nominal     6 non-null      object\n",
      " 5   cat_binary      6 non-null      object\n",
      "dtypes: object(6)\n",
      "memory usage: 416.0+ bytes\n"
     ]
    }
   ],
   "source": [
    "data_types.info()"
   ]
  },
  {
   "cell_type": "code",
   "execution_count": null,
   "metadata": {
    "id": "zracrvRXwn3l"
   },
   "outputs": [],
   "source": [
    "# Convertir les variables au bon type de données lorsque nécessaire\n",
    "data_types['num_discrete'] = data_types['num_discrete'].astype(dtype='int')\n",
    "data_types['num_continuous'] = data_types['num_continuous'].astype(dtype='float')"
   ]
  },
  {
   "cell_type": "code",
   "execution_count": null,
   "metadata": {
    "colab": {
     "base_uri": "https://localhost:8080/"
    },
    "executionInfo": {
     "elapsed": 280,
     "status": "ok",
     "timestamp": 1641850699473,
     "user": {
      "displayName": "Carl Grandmont",
      "photoUrl": "https://lh3.googleusercontent.com/a-/AOh14GiDPL6ta2d4oBPET8l9vFCvaEwSvBpDv9VBpjeXPw=s64",
      "userId": "07472538960919752630"
     },
     "user_tz": 300
    },
    "id": "ZbItyv27xEEe",
    "outputId": "18016a19-2b40-4fdc-ce16-7a0306ab2c5b"
   },
   "outputs": [
    {
     "data": {
      "text/plain": [
       "num_discrete        int64\n",
       "num_continuous    float64\n",
       "cat_ordinal_1      object\n",
       "cat_ordinal_2      object\n",
       "cat_nominal        object\n",
       "cat_binary         object\n",
       "dtype: object"
      ]
     },
     "execution_count": 6,
     "metadata": {},
     "output_type": "execute_result"
    }
   ],
   "source": [
    "# Extraire le type de données modifié pour chaque variable\n",
    "data_types.dtypes"
   ]
  },
  {
   "cell_type": "code",
   "execution_count": null,
   "metadata": {
    "colab": {
     "base_uri": "https://localhost:8080/",
     "height": 206
    },
    "executionInfo": {
     "elapsed": 282,
     "status": "ok",
     "timestamp": 1641850703757,
     "user": {
      "displayName": "Carl Grandmont",
      "photoUrl": "https://lh3.googleusercontent.com/a-/AOh14GiDPL6ta2d4oBPET8l9vFCvaEwSvBpDv9VBpjeXPw=s64",
      "userId": "07472538960919752630"
     },
     "user_tz": 300
    },
    "id": "3sccy_gmCq1U",
    "outputId": "cd3d1cad-768c-4250-9ff9-a257b29e7941"
   },
   "outputs": [
    {
     "data": {
      "text/html": [
       "\n",
       "  <div id=\"df-93d3d37f-e292-448b-8760-42c9d8545a86\">\n",
       "    <div class=\"colab-df-container\">\n",
       "      <div>\n",
       "<style scoped>\n",
       "    .dataframe tbody tr th:only-of-type {\n",
       "        vertical-align: middle;\n",
       "    }\n",
       "\n",
       "    .dataframe tbody tr th {\n",
       "        vertical-align: top;\n",
       "    }\n",
       "\n",
       "    .dataframe thead th {\n",
       "        text-align: right;\n",
       "    }\n",
       "</style>\n",
       "<table border=\"1\" class=\"dataframe\">\n",
       "  <thead>\n",
       "    <tr style=\"text-align: right;\">\n",
       "      <th></th>\n",
       "      <th>num_discrete</th>\n",
       "      <th>num_continuous</th>\n",
       "      <th>cat_ordinal_1</th>\n",
       "      <th>cat_ordinal_2</th>\n",
       "      <th>cat_nominal</th>\n",
       "      <th>cat_binary</th>\n",
       "    </tr>\n",
       "  </thead>\n",
       "  <tbody>\n",
       "    <tr>\n",
       "      <th>0</th>\n",
       "      <td>4</td>\n",
       "      <td>2.90</td>\n",
       "      <td>hard</td>\n",
       "      <td>hard</td>\n",
       "      <td>cat</td>\n",
       "      <td>True</td>\n",
       "    </tr>\n",
       "    <tr>\n",
       "      <th>1</th>\n",
       "      <td>8</td>\n",
       "      <td>4.87</td>\n",
       "      <td>easy</td>\n",
       "      <td>easy</td>\n",
       "      <td>dog</td>\n",
       "      <td>True</td>\n",
       "    </tr>\n",
       "    <tr>\n",
       "      <th>2</th>\n",
       "      <td>18</td>\n",
       "      <td>7.43</td>\n",
       "      <td>easy</td>\n",
       "      <td>easy</td>\n",
       "      <td>dog</td>\n",
       "      <td>False</td>\n",
       "    </tr>\n",
       "    <tr>\n",
       "      <th>3</th>\n",
       "      <td>10</td>\n",
       "      <td>1.57</td>\n",
       "      <td>medium</td>\n",
       "      <td>medium</td>\n",
       "      <td>snake</td>\n",
       "      <td>True</td>\n",
       "    </tr>\n",
       "    <tr>\n",
       "      <th>4</th>\n",
       "      <td>3</td>\n",
       "      <td>20.00</td>\n",
       "      <td>easy</td>\n",
       "      <td>easy</td>\n",
       "      <td>snake</td>\n",
       "      <td>False</td>\n",
       "    </tr>\n",
       "  </tbody>\n",
       "</table>\n",
       "</div>\n",
       "      <button class=\"colab-df-convert\" onclick=\"convertToInteractive('df-93d3d37f-e292-448b-8760-42c9d8545a86')\"\n",
       "              title=\"Convert this dataframe to an interactive table.\"\n",
       "              style=\"display:none;\">\n",
       "        \n",
       "  <svg xmlns=\"http://www.w3.org/2000/svg\" height=\"24px\"viewBox=\"0 0 24 24\"\n",
       "       width=\"24px\">\n",
       "    <path d=\"M0 0h24v24H0V0z\" fill=\"none\"/>\n",
       "    <path d=\"M18.56 5.44l.94 2.06.94-2.06 2.06-.94-2.06-.94-.94-2.06-.94 2.06-2.06.94zm-11 1L8.5 8.5l.94-2.06 2.06-.94-2.06-.94L8.5 2.5l-.94 2.06-2.06.94zm10 10l.94 2.06.94-2.06 2.06-.94-2.06-.94-.94-2.06-.94 2.06-2.06.94z\"/><path d=\"M17.41 7.96l-1.37-1.37c-.4-.4-.92-.59-1.43-.59-.52 0-1.04.2-1.43.59L10.3 9.45l-7.72 7.72c-.78.78-.78 2.05 0 2.83L4 21.41c.39.39.9.59 1.41.59.51 0 1.02-.2 1.41-.59l7.78-7.78 2.81-2.81c.8-.78.8-2.07 0-2.86zM5.41 20L4 18.59l7.72-7.72 1.47 1.35L5.41 20z\"/>\n",
       "  </svg>\n",
       "      </button>\n",
       "      \n",
       "  <style>\n",
       "    .colab-df-container {\n",
       "      display:flex;\n",
       "      flex-wrap:wrap;\n",
       "      gap: 12px;\n",
       "    }\n",
       "\n",
       "    .colab-df-convert {\n",
       "      background-color: #E8F0FE;\n",
       "      border: none;\n",
       "      border-radius: 50%;\n",
       "      cursor: pointer;\n",
       "      display: none;\n",
       "      fill: #1967D2;\n",
       "      height: 32px;\n",
       "      padding: 0 0 0 0;\n",
       "      width: 32px;\n",
       "    }\n",
       "\n",
       "    .colab-df-convert:hover {\n",
       "      background-color: #E2EBFA;\n",
       "      box-shadow: 0px 1px 2px rgba(60, 64, 67, 0.3), 0px 1px 3px 1px rgba(60, 64, 67, 0.15);\n",
       "      fill: #174EA6;\n",
       "    }\n",
       "\n",
       "    [theme=dark] .colab-df-convert {\n",
       "      background-color: #3B4455;\n",
       "      fill: #D2E3FC;\n",
       "    }\n",
       "\n",
       "    [theme=dark] .colab-df-convert:hover {\n",
       "      background-color: #434B5C;\n",
       "      box-shadow: 0px 1px 3px 1px rgba(0, 0, 0, 0.15);\n",
       "      filter: drop-shadow(0px 1px 2px rgba(0, 0, 0, 0.3));\n",
       "      fill: #FFFFFF;\n",
       "    }\n",
       "  </style>\n",
       "\n",
       "      <script>\n",
       "        const buttonEl =\n",
       "          document.querySelector('#df-93d3d37f-e292-448b-8760-42c9d8545a86 button.colab-df-convert');\n",
       "        buttonEl.style.display =\n",
       "          google.colab.kernel.accessAllowed ? 'block' : 'none';\n",
       "\n",
       "        async function convertToInteractive(key) {\n",
       "          const element = document.querySelector('#df-93d3d37f-e292-448b-8760-42c9d8545a86');\n",
       "          const dataTable =\n",
       "            await google.colab.kernel.invokeFunction('convertToInteractive',\n",
       "                                                     [key], {});\n",
       "          if (!dataTable) return;\n",
       "\n",
       "          const docLinkHtml = 'Like what you see? Visit the ' +\n",
       "            '<a target=\"_blank\" href=https://colab.research.google.com/notebooks/data_table.ipynb>data table notebook</a>'\n",
       "            + ' to learn more about interactive tables.';\n",
       "          element.innerHTML = '';\n",
       "          dataTable['output_type'] = 'display_data';\n",
       "          await google.colab.output.renderOutput(dataTable, element);\n",
       "          const docLink = document.createElement('div');\n",
       "          docLink.innerHTML = docLinkHtml;\n",
       "          element.appendChild(docLink);\n",
       "        }\n",
       "      </script>\n",
       "    </div>\n",
       "  </div>\n",
       "  "
      ],
      "text/plain": [
       "   num_discrete  num_continuous  ... cat_nominal cat_binary\n",
       "0             4            2.90  ...         cat       True\n",
       "1             8            4.87  ...         dog       True\n",
       "2            18            7.43  ...         dog      False\n",
       "3            10            1.57  ...       snake       True\n",
       "4             3           20.00  ...       snake      False\n",
       "\n",
       "[5 rows x 6 columns]"
      ]
     },
     "execution_count": 7,
     "metadata": {},
     "output_type": "execute_result"
    }
   ],
   "source": [
    "data_types.head()"
   ]
  },
  {
   "cell_type": "markdown",
   "metadata": {
    "id": "7NBKq77p_2q-"
   },
   "source": [
    "### Encoder une variable binaire (boolean)\n",
    "\n",
    "Dans notre cas, on a une variable boolean True ou False.\n",
    "\n",
    "On peut donc remplacer True par 1 et False par 0."
   ]
  },
  {
   "cell_type": "code",
   "execution_count": null,
   "metadata": {
    "colab": {
     "base_uri": "https://localhost:8080/",
     "height": 237
    },
    "executionInfo": {
     "elapsed": 260,
     "status": "ok",
     "timestamp": 1641850729613,
     "user": {
      "displayName": "Carl Grandmont",
      "photoUrl": "https://lh3.googleusercontent.com/a-/AOh14GiDPL6ta2d4oBPET8l9vFCvaEwSvBpDv9VBpjeXPw=s64",
      "userId": "07472538960919752630"
     },
     "user_tz": 300
    },
    "id": "4OhCPvKn__xU",
    "outputId": "cacf4159-9460-4af6-a096-578e961b451a"
   },
   "outputs": [
    {
     "data": {
      "text/html": [
       "\n",
       "  <div id=\"df-2ee8c154-5f8b-4229-a49e-2500a5eea5a5\">\n",
       "    <div class=\"colab-df-container\">\n",
       "      <div>\n",
       "<style scoped>\n",
       "    .dataframe tbody tr th:only-of-type {\n",
       "        vertical-align: middle;\n",
       "    }\n",
       "\n",
       "    .dataframe tbody tr th {\n",
       "        vertical-align: top;\n",
       "    }\n",
       "\n",
       "    .dataframe thead th {\n",
       "        text-align: right;\n",
       "    }\n",
       "</style>\n",
       "<table border=\"1\" class=\"dataframe\">\n",
       "  <thead>\n",
       "    <tr style=\"text-align: right;\">\n",
       "      <th></th>\n",
       "      <th>num_discrete</th>\n",
       "      <th>num_continuous</th>\n",
       "      <th>cat_ordinal_1</th>\n",
       "      <th>cat_ordinal_2</th>\n",
       "      <th>cat_nominal</th>\n",
       "      <th>cat_binary</th>\n",
       "    </tr>\n",
       "  </thead>\n",
       "  <tbody>\n",
       "    <tr>\n",
       "      <th>0</th>\n",
       "      <td>4</td>\n",
       "      <td>2.90</td>\n",
       "      <td>hard</td>\n",
       "      <td>hard</td>\n",
       "      <td>cat</td>\n",
       "      <td>1</td>\n",
       "    </tr>\n",
       "    <tr>\n",
       "      <th>1</th>\n",
       "      <td>8</td>\n",
       "      <td>4.87</td>\n",
       "      <td>easy</td>\n",
       "      <td>easy</td>\n",
       "      <td>dog</td>\n",
       "      <td>1</td>\n",
       "    </tr>\n",
       "    <tr>\n",
       "      <th>2</th>\n",
       "      <td>18</td>\n",
       "      <td>7.43</td>\n",
       "      <td>easy</td>\n",
       "      <td>easy</td>\n",
       "      <td>dog</td>\n",
       "      <td>0</td>\n",
       "    </tr>\n",
       "    <tr>\n",
       "      <th>3</th>\n",
       "      <td>10</td>\n",
       "      <td>1.57</td>\n",
       "      <td>medium</td>\n",
       "      <td>medium</td>\n",
       "      <td>snake</td>\n",
       "      <td>1</td>\n",
       "    </tr>\n",
       "    <tr>\n",
       "      <th>4</th>\n",
       "      <td>3</td>\n",
       "      <td>20.00</td>\n",
       "      <td>easy</td>\n",
       "      <td>easy</td>\n",
       "      <td>snake</td>\n",
       "      <td>0</td>\n",
       "    </tr>\n",
       "    <tr>\n",
       "      <th>5</th>\n",
       "      <td>5</td>\n",
       "      <td>9.32</td>\n",
       "      <td>medium</td>\n",
       "      <td>medium</td>\n",
       "      <td>dog</td>\n",
       "      <td>1</td>\n",
       "    </tr>\n",
       "  </tbody>\n",
       "</table>\n",
       "</div>\n",
       "      <button class=\"colab-df-convert\" onclick=\"convertToInteractive('df-2ee8c154-5f8b-4229-a49e-2500a5eea5a5')\"\n",
       "              title=\"Convert this dataframe to an interactive table.\"\n",
       "              style=\"display:none;\">\n",
       "        \n",
       "  <svg xmlns=\"http://www.w3.org/2000/svg\" height=\"24px\"viewBox=\"0 0 24 24\"\n",
       "       width=\"24px\">\n",
       "    <path d=\"M0 0h24v24H0V0z\" fill=\"none\"/>\n",
       "    <path d=\"M18.56 5.44l.94 2.06.94-2.06 2.06-.94-2.06-.94-.94-2.06-.94 2.06-2.06.94zm-11 1L8.5 8.5l.94-2.06 2.06-.94-2.06-.94L8.5 2.5l-.94 2.06-2.06.94zm10 10l.94 2.06.94-2.06 2.06-.94-2.06-.94-.94-2.06-.94 2.06-2.06.94z\"/><path d=\"M17.41 7.96l-1.37-1.37c-.4-.4-.92-.59-1.43-.59-.52 0-1.04.2-1.43.59L10.3 9.45l-7.72 7.72c-.78.78-.78 2.05 0 2.83L4 21.41c.39.39.9.59 1.41.59.51 0 1.02-.2 1.41-.59l7.78-7.78 2.81-2.81c.8-.78.8-2.07 0-2.86zM5.41 20L4 18.59l7.72-7.72 1.47 1.35L5.41 20z\"/>\n",
       "  </svg>\n",
       "      </button>\n",
       "      \n",
       "  <style>\n",
       "    .colab-df-container {\n",
       "      display:flex;\n",
       "      flex-wrap:wrap;\n",
       "      gap: 12px;\n",
       "    }\n",
       "\n",
       "    .colab-df-convert {\n",
       "      background-color: #E8F0FE;\n",
       "      border: none;\n",
       "      border-radius: 50%;\n",
       "      cursor: pointer;\n",
       "      display: none;\n",
       "      fill: #1967D2;\n",
       "      height: 32px;\n",
       "      padding: 0 0 0 0;\n",
       "      width: 32px;\n",
       "    }\n",
       "\n",
       "    .colab-df-convert:hover {\n",
       "      background-color: #E2EBFA;\n",
       "      box-shadow: 0px 1px 2px rgba(60, 64, 67, 0.3), 0px 1px 3px 1px rgba(60, 64, 67, 0.15);\n",
       "      fill: #174EA6;\n",
       "    }\n",
       "\n",
       "    [theme=dark] .colab-df-convert {\n",
       "      background-color: #3B4455;\n",
       "      fill: #D2E3FC;\n",
       "    }\n",
       "\n",
       "    [theme=dark] .colab-df-convert:hover {\n",
       "      background-color: #434B5C;\n",
       "      box-shadow: 0px 1px 3px 1px rgba(0, 0, 0, 0.15);\n",
       "      filter: drop-shadow(0px 1px 2px rgba(0, 0, 0, 0.3));\n",
       "      fill: #FFFFFF;\n",
       "    }\n",
       "  </style>\n",
       "\n",
       "      <script>\n",
       "        const buttonEl =\n",
       "          document.querySelector('#df-2ee8c154-5f8b-4229-a49e-2500a5eea5a5 button.colab-df-convert');\n",
       "        buttonEl.style.display =\n",
       "          google.colab.kernel.accessAllowed ? 'block' : 'none';\n",
       "\n",
       "        async function convertToInteractive(key) {\n",
       "          const element = document.querySelector('#df-2ee8c154-5f8b-4229-a49e-2500a5eea5a5');\n",
       "          const dataTable =\n",
       "            await google.colab.kernel.invokeFunction('convertToInteractive',\n",
       "                                                     [key], {});\n",
       "          if (!dataTable) return;\n",
       "\n",
       "          const docLinkHtml = 'Like what you see? Visit the ' +\n",
       "            '<a target=\"_blank\" href=https://colab.research.google.com/notebooks/data_table.ipynb>data table notebook</a>'\n",
       "            + ' to learn more about interactive tables.';\n",
       "          element.innerHTML = '';\n",
       "          dataTable['output_type'] = 'display_data';\n",
       "          await google.colab.output.renderOutput(dataTable, element);\n",
       "          const docLink = document.createElement('div');\n",
       "          docLink.innerHTML = docLinkHtml;\n",
       "          element.appendChild(docLink);\n",
       "        }\n",
       "      </script>\n",
       "    </div>\n",
       "  </div>\n",
       "  "
      ],
      "text/plain": [
       "   num_discrete  num_continuous  ... cat_nominal cat_binary\n",
       "0             4            2.90  ...         cat          1\n",
       "1             8            4.87  ...         dog          1\n",
       "2            18            7.43  ...         dog          0\n",
       "3            10            1.57  ...       snake          1\n",
       "4             3           20.00  ...       snake          0\n",
       "5             5            9.32  ...         dog          1\n",
       "\n",
       "[6 rows x 6 columns]"
      ]
     },
     "execution_count": 8,
     "metadata": {},
     "output_type": "execute_result"
    }
   ],
   "source": [
    "data_types['cat_binary'] = data_types['cat_binary'].replace(['True', 'False'], [1, 0])\n",
    "\n",
    "data_types.head(6)"
   ]
  },
  {
   "cell_type": "markdown",
   "metadata": {
    "id": "LyBUKC4wDeG_"
   },
   "source": [
    "### Encoder une variable catégorique ordinale\n",
    "\n",
    "Utiliser un encodeur de variable de 0 à n-catégories (exemple avec `cat_ordinal`).\n",
    "  * Faire attention : Un tel encodage fera en sorte que l'algorithme interprètera les données de façon ordonnée.\n",
    "\n",
    "> **IMPORTANT** :\n",
    " Les catégories numériques associées aux étiquettes textuelles ne seront pas nécessairement dans le bon ordre."
   ]
  },
  {
   "cell_type": "code",
   "execution_count": null,
   "metadata": {
    "colab": {
     "base_uri": "https://localhost:8080/",
     "height": 237
    },
    "executionInfo": {
     "elapsed": 645,
     "status": "ok",
     "timestamp": 1641850848358,
     "user": {
      "displayName": "Carl Grandmont",
      "photoUrl": "https://lh3.googleusercontent.com/a-/AOh14GiDPL6ta2d4oBPET8l9vFCvaEwSvBpDv9VBpjeXPw=s64",
      "userId": "07472538960919752630"
     },
     "user_tz": 300
    },
    "id": "t-5Jjq6BDxv1",
    "outputId": "e8c96ca1-af79-42ba-f3d5-6d964a25cc09"
   },
   "outputs": [
    {
     "data": {
      "text/html": [
       "\n",
       "  <div id=\"df-1943bcfb-b634-4980-bed3-5521b6e8252d\">\n",
       "    <div class=\"colab-df-container\">\n",
       "      <div>\n",
       "<style scoped>\n",
       "    .dataframe tbody tr th:only-of-type {\n",
       "        vertical-align: middle;\n",
       "    }\n",
       "\n",
       "    .dataframe tbody tr th {\n",
       "        vertical-align: top;\n",
       "    }\n",
       "\n",
       "    .dataframe thead th {\n",
       "        text-align: right;\n",
       "    }\n",
       "</style>\n",
       "<table border=\"1\" class=\"dataframe\">\n",
       "  <thead>\n",
       "    <tr style=\"text-align: right;\">\n",
       "      <th></th>\n",
       "      <th>num_discrete</th>\n",
       "      <th>num_continuous</th>\n",
       "      <th>cat_ordinal_1</th>\n",
       "      <th>cat_ordinal_2</th>\n",
       "      <th>cat_nominal</th>\n",
       "      <th>cat_binary</th>\n",
       "    </tr>\n",
       "  </thead>\n",
       "  <tbody>\n",
       "    <tr>\n",
       "      <th>0</th>\n",
       "      <td>4</td>\n",
       "      <td>2.90</td>\n",
       "      <td>1</td>\n",
       "      <td>hard</td>\n",
       "      <td>cat</td>\n",
       "      <td>1</td>\n",
       "    </tr>\n",
       "    <tr>\n",
       "      <th>1</th>\n",
       "      <td>8</td>\n",
       "      <td>4.87</td>\n",
       "      <td>0</td>\n",
       "      <td>easy</td>\n",
       "      <td>dog</td>\n",
       "      <td>1</td>\n",
       "    </tr>\n",
       "    <tr>\n",
       "      <th>2</th>\n",
       "      <td>18</td>\n",
       "      <td>7.43</td>\n",
       "      <td>0</td>\n",
       "      <td>easy</td>\n",
       "      <td>dog</td>\n",
       "      <td>0</td>\n",
       "    </tr>\n",
       "    <tr>\n",
       "      <th>3</th>\n",
       "      <td>10</td>\n",
       "      <td>1.57</td>\n",
       "      <td>2</td>\n",
       "      <td>medium</td>\n",
       "      <td>snake</td>\n",
       "      <td>1</td>\n",
       "    </tr>\n",
       "    <tr>\n",
       "      <th>4</th>\n",
       "      <td>3</td>\n",
       "      <td>20.00</td>\n",
       "      <td>0</td>\n",
       "      <td>easy</td>\n",
       "      <td>snake</td>\n",
       "      <td>0</td>\n",
       "    </tr>\n",
       "    <tr>\n",
       "      <th>5</th>\n",
       "      <td>5</td>\n",
       "      <td>9.32</td>\n",
       "      <td>2</td>\n",
       "      <td>medium</td>\n",
       "      <td>dog</td>\n",
       "      <td>1</td>\n",
       "    </tr>\n",
       "  </tbody>\n",
       "</table>\n",
       "</div>\n",
       "      <button class=\"colab-df-convert\" onclick=\"convertToInteractive('df-1943bcfb-b634-4980-bed3-5521b6e8252d')\"\n",
       "              title=\"Convert this dataframe to an interactive table.\"\n",
       "              style=\"display:none;\">\n",
       "        \n",
       "  <svg xmlns=\"http://www.w3.org/2000/svg\" height=\"24px\"viewBox=\"0 0 24 24\"\n",
       "       width=\"24px\">\n",
       "    <path d=\"M0 0h24v24H0V0z\" fill=\"none\"/>\n",
       "    <path d=\"M18.56 5.44l.94 2.06.94-2.06 2.06-.94-2.06-.94-.94-2.06-.94 2.06-2.06.94zm-11 1L8.5 8.5l.94-2.06 2.06-.94-2.06-.94L8.5 2.5l-.94 2.06-2.06.94zm10 10l.94 2.06.94-2.06 2.06-.94-2.06-.94-.94-2.06-.94 2.06-2.06.94z\"/><path d=\"M17.41 7.96l-1.37-1.37c-.4-.4-.92-.59-1.43-.59-.52 0-1.04.2-1.43.59L10.3 9.45l-7.72 7.72c-.78.78-.78 2.05 0 2.83L4 21.41c.39.39.9.59 1.41.59.51 0 1.02-.2 1.41-.59l7.78-7.78 2.81-2.81c.8-.78.8-2.07 0-2.86zM5.41 20L4 18.59l7.72-7.72 1.47 1.35L5.41 20z\"/>\n",
       "  </svg>\n",
       "      </button>\n",
       "      \n",
       "  <style>\n",
       "    .colab-df-container {\n",
       "      display:flex;\n",
       "      flex-wrap:wrap;\n",
       "      gap: 12px;\n",
       "    }\n",
       "\n",
       "    .colab-df-convert {\n",
       "      background-color: #E8F0FE;\n",
       "      border: none;\n",
       "      border-radius: 50%;\n",
       "      cursor: pointer;\n",
       "      display: none;\n",
       "      fill: #1967D2;\n",
       "      height: 32px;\n",
       "      padding: 0 0 0 0;\n",
       "      width: 32px;\n",
       "    }\n",
       "\n",
       "    .colab-df-convert:hover {\n",
       "      background-color: #E2EBFA;\n",
       "      box-shadow: 0px 1px 2px rgba(60, 64, 67, 0.3), 0px 1px 3px 1px rgba(60, 64, 67, 0.15);\n",
       "      fill: #174EA6;\n",
       "    }\n",
       "\n",
       "    [theme=dark] .colab-df-convert {\n",
       "      background-color: #3B4455;\n",
       "      fill: #D2E3FC;\n",
       "    }\n",
       "\n",
       "    [theme=dark] .colab-df-convert:hover {\n",
       "      background-color: #434B5C;\n",
       "      box-shadow: 0px 1px 3px 1px rgba(0, 0, 0, 0.15);\n",
       "      filter: drop-shadow(0px 1px 2px rgba(0, 0, 0, 0.3));\n",
       "      fill: #FFFFFF;\n",
       "    }\n",
       "  </style>\n",
       "\n",
       "      <script>\n",
       "        const buttonEl =\n",
       "          document.querySelector('#df-1943bcfb-b634-4980-bed3-5521b6e8252d button.colab-df-convert');\n",
       "        buttonEl.style.display =\n",
       "          google.colab.kernel.accessAllowed ? 'block' : 'none';\n",
       "\n",
       "        async function convertToInteractive(key) {\n",
       "          const element = document.querySelector('#df-1943bcfb-b634-4980-bed3-5521b6e8252d');\n",
       "          const dataTable =\n",
       "            await google.colab.kernel.invokeFunction('convertToInteractive',\n",
       "                                                     [key], {});\n",
       "          if (!dataTable) return;\n",
       "\n",
       "          const docLinkHtml = 'Like what you see? Visit the ' +\n",
       "            '<a target=\"_blank\" href=https://colab.research.google.com/notebooks/data_table.ipynb>data table notebook</a>'\n",
       "            + ' to learn more about interactive tables.';\n",
       "          element.innerHTML = '';\n",
       "          dataTable['output_type'] = 'display_data';\n",
       "          await google.colab.output.renderOutput(dataTable, element);\n",
       "          const docLink = document.createElement('div');\n",
       "          docLink.innerHTML = docLinkHtml;\n",
       "          element.appendChild(docLink);\n",
       "        }\n",
       "      </script>\n",
       "    </div>\n",
       "  </div>\n",
       "  "
      ],
      "text/plain": [
       "   num_discrete  num_continuous  ...  cat_nominal cat_binary\n",
       "0             4            2.90  ...          cat          1\n",
       "1             8            4.87  ...          dog          1\n",
       "2            18            7.43  ...          dog          0\n",
       "3            10            1.57  ...        snake          1\n",
       "4             3           20.00  ...        snake          0\n",
       "5             5            9.32  ...          dog          1\n",
       "\n",
       "[6 rows x 6 columns]"
      ]
     },
     "execution_count": 9,
     "metadata": {},
     "output_type": "execute_result"
    }
   ],
   "source": [
    "# Utiliser une suite de nombre en partant de 0\n",
    "from sklearn.preprocessing import LabelEncoder\n",
    "\n",
    "# Activer l'encodeur de variable LabelEncoder\n",
    "label_encoder = LabelEncoder()\n",
    "\n",
    "data_types['cat_ordinal_1'] = label_encoder.fit_transform(data_types['cat_ordinal_1'])\n",
    "\n",
    "data_types.head(6)"
   ]
  },
  {
   "cell_type": "markdown",
   "metadata": {
    "id": "c_7-uBYTNs19"
   },
   "source": [
    "On voit ici que les valeurs dans la colonne cat_ordinal ne suit pas une logique étant easy=0, medium=1 et hard=2.\n",
    "\n",
    "Il faut donc faire l'encodage manuellement."
   ]
  },
  {
   "cell_type": "code",
   "execution_count": null,
   "metadata": {
    "colab": {
     "base_uri": "https://localhost:8080/",
     "height": 237
    },
    "executionInfo": {
     "elapsed": 276,
     "status": "ok",
     "timestamp": 1641850898099,
     "user": {
      "displayName": "Carl Grandmont",
      "photoUrl": "https://lh3.googleusercontent.com/a-/AOh14GiDPL6ta2d4oBPET8l9vFCvaEwSvBpDv9VBpjeXPw=s64",
      "userId": "07472538960919752630"
     },
     "user_tz": 300
    },
    "id": "8oytrn_ZSPa0",
    "outputId": "a69a12b9-1af1-438c-8a60-4c516088ac5b"
   },
   "outputs": [
    {
     "data": {
      "text/html": [
       "\n",
       "  <div id=\"df-7e70df0d-df39-4e1d-bc7a-ec634d140e4d\">\n",
       "    <div class=\"colab-df-container\">\n",
       "      <div>\n",
       "<style scoped>\n",
       "    .dataframe tbody tr th:only-of-type {\n",
       "        vertical-align: middle;\n",
       "    }\n",
       "\n",
       "    .dataframe tbody tr th {\n",
       "        vertical-align: top;\n",
       "    }\n",
       "\n",
       "    .dataframe thead th {\n",
       "        text-align: right;\n",
       "    }\n",
       "</style>\n",
       "<table border=\"1\" class=\"dataframe\">\n",
       "  <thead>\n",
       "    <tr style=\"text-align: right;\">\n",
       "      <th></th>\n",
       "      <th>num_discrete</th>\n",
       "      <th>num_continuous</th>\n",
       "      <th>cat_ordinal_1</th>\n",
       "      <th>cat_ordinal_2</th>\n",
       "      <th>cat_nominal</th>\n",
       "      <th>cat_binary</th>\n",
       "    </tr>\n",
       "  </thead>\n",
       "  <tbody>\n",
       "    <tr>\n",
       "      <th>0</th>\n",
       "      <td>4</td>\n",
       "      <td>2.90</td>\n",
       "      <td>1</td>\n",
       "      <td>2</td>\n",
       "      <td>cat</td>\n",
       "      <td>1</td>\n",
       "    </tr>\n",
       "    <tr>\n",
       "      <th>1</th>\n",
       "      <td>8</td>\n",
       "      <td>4.87</td>\n",
       "      <td>0</td>\n",
       "      <td>0</td>\n",
       "      <td>dog</td>\n",
       "      <td>1</td>\n",
       "    </tr>\n",
       "    <tr>\n",
       "      <th>2</th>\n",
       "      <td>18</td>\n",
       "      <td>7.43</td>\n",
       "      <td>0</td>\n",
       "      <td>0</td>\n",
       "      <td>dog</td>\n",
       "      <td>0</td>\n",
       "    </tr>\n",
       "    <tr>\n",
       "      <th>3</th>\n",
       "      <td>10</td>\n",
       "      <td>1.57</td>\n",
       "      <td>2</td>\n",
       "      <td>1</td>\n",
       "      <td>snake</td>\n",
       "      <td>1</td>\n",
       "    </tr>\n",
       "    <tr>\n",
       "      <th>4</th>\n",
       "      <td>3</td>\n",
       "      <td>20.00</td>\n",
       "      <td>0</td>\n",
       "      <td>0</td>\n",
       "      <td>snake</td>\n",
       "      <td>0</td>\n",
       "    </tr>\n",
       "    <tr>\n",
       "      <th>5</th>\n",
       "      <td>5</td>\n",
       "      <td>9.32</td>\n",
       "      <td>2</td>\n",
       "      <td>1</td>\n",
       "      <td>dog</td>\n",
       "      <td>1</td>\n",
       "    </tr>\n",
       "  </tbody>\n",
       "</table>\n",
       "</div>\n",
       "      <button class=\"colab-df-convert\" onclick=\"convertToInteractive('df-7e70df0d-df39-4e1d-bc7a-ec634d140e4d')\"\n",
       "              title=\"Convert this dataframe to an interactive table.\"\n",
       "              style=\"display:none;\">\n",
       "        \n",
       "  <svg xmlns=\"http://www.w3.org/2000/svg\" height=\"24px\"viewBox=\"0 0 24 24\"\n",
       "       width=\"24px\">\n",
       "    <path d=\"M0 0h24v24H0V0z\" fill=\"none\"/>\n",
       "    <path d=\"M18.56 5.44l.94 2.06.94-2.06 2.06-.94-2.06-.94-.94-2.06-.94 2.06-2.06.94zm-11 1L8.5 8.5l.94-2.06 2.06-.94-2.06-.94L8.5 2.5l-.94 2.06-2.06.94zm10 10l.94 2.06.94-2.06 2.06-.94-2.06-.94-.94-2.06-.94 2.06-2.06.94z\"/><path d=\"M17.41 7.96l-1.37-1.37c-.4-.4-.92-.59-1.43-.59-.52 0-1.04.2-1.43.59L10.3 9.45l-7.72 7.72c-.78.78-.78 2.05 0 2.83L4 21.41c.39.39.9.59 1.41.59.51 0 1.02-.2 1.41-.59l7.78-7.78 2.81-2.81c.8-.78.8-2.07 0-2.86zM5.41 20L4 18.59l7.72-7.72 1.47 1.35L5.41 20z\"/>\n",
       "  </svg>\n",
       "      </button>\n",
       "      \n",
       "  <style>\n",
       "    .colab-df-container {\n",
       "      display:flex;\n",
       "      flex-wrap:wrap;\n",
       "      gap: 12px;\n",
       "    }\n",
       "\n",
       "    .colab-df-convert {\n",
       "      background-color: #E8F0FE;\n",
       "      border: none;\n",
       "      border-radius: 50%;\n",
       "      cursor: pointer;\n",
       "      display: none;\n",
       "      fill: #1967D2;\n",
       "      height: 32px;\n",
       "      padding: 0 0 0 0;\n",
       "      width: 32px;\n",
       "    }\n",
       "\n",
       "    .colab-df-convert:hover {\n",
       "      background-color: #E2EBFA;\n",
       "      box-shadow: 0px 1px 2px rgba(60, 64, 67, 0.3), 0px 1px 3px 1px rgba(60, 64, 67, 0.15);\n",
       "      fill: #174EA6;\n",
       "    }\n",
       "\n",
       "    [theme=dark] .colab-df-convert {\n",
       "      background-color: #3B4455;\n",
       "      fill: #D2E3FC;\n",
       "    }\n",
       "\n",
       "    [theme=dark] .colab-df-convert:hover {\n",
       "      background-color: #434B5C;\n",
       "      box-shadow: 0px 1px 3px 1px rgba(0, 0, 0, 0.15);\n",
       "      filter: drop-shadow(0px 1px 2px rgba(0, 0, 0, 0.3));\n",
       "      fill: #FFFFFF;\n",
       "    }\n",
       "  </style>\n",
       "\n",
       "      <script>\n",
       "        const buttonEl =\n",
       "          document.querySelector('#df-7e70df0d-df39-4e1d-bc7a-ec634d140e4d button.colab-df-convert');\n",
       "        buttonEl.style.display =\n",
       "          google.colab.kernel.accessAllowed ? 'block' : 'none';\n",
       "\n",
       "        async function convertToInteractive(key) {\n",
       "          const element = document.querySelector('#df-7e70df0d-df39-4e1d-bc7a-ec634d140e4d');\n",
       "          const dataTable =\n",
       "            await google.colab.kernel.invokeFunction('convertToInteractive',\n",
       "                                                     [key], {});\n",
       "          if (!dataTable) return;\n",
       "\n",
       "          const docLinkHtml = 'Like what you see? Visit the ' +\n",
       "            '<a target=\"_blank\" href=https://colab.research.google.com/notebooks/data_table.ipynb>data table notebook</a>'\n",
       "            + ' to learn more about interactive tables.';\n",
       "          element.innerHTML = '';\n",
       "          dataTable['output_type'] = 'display_data';\n",
       "          await google.colab.output.renderOutput(dataTable, element);\n",
       "          const docLink = document.createElement('div');\n",
       "          docLink.innerHTML = docLinkHtml;\n",
       "          element.appendChild(docLink);\n",
       "        }\n",
       "      </script>\n",
       "    </div>\n",
       "  </div>\n",
       "  "
      ],
      "text/plain": [
       "   num_discrete  num_continuous  ...  cat_nominal  cat_binary\n",
       "0             4            2.90  ...          cat           1\n",
       "1             8            4.87  ...          dog           1\n",
       "2            18            7.43  ...          dog           0\n",
       "3            10            1.57  ...        snake           1\n",
       "4             3           20.00  ...        snake           0\n",
       "5             5            9.32  ...          dog           1\n",
       "\n",
       "[6 rows x 6 columns]"
      ]
     },
     "execution_count": 10,
     "metadata": {},
     "output_type": "execute_result"
    }
   ],
   "source": [
    "data_types['cat_ordinal_2'] = data_types['cat_ordinal_2'].replace(['easy', 'medium', 'hard'], [0,1,2])\n",
    "\n",
    "data_types.head(6)"
   ]
  },
  {
   "cell_type": "markdown",
   "metadata": {
    "id": "EBIISvC7JbR6"
   },
   "source": [
    "### Encoder une variable catégorique nominale\n",
    "\n",
    "Utiliser un encodeur \"one-hot\" (exemple avec `cat_nominal`).\n",
    "  * Préférable pour éviter une interprétation ordonnée de la variable encodée."
   ]
  },
  {
   "cell_type": "code",
   "execution_count": null,
   "metadata": {
    "colab": {
     "base_uri": "https://localhost:8080/",
     "height": 301
    },
    "executionInfo": {
     "elapsed": 330,
     "status": "ok",
     "timestamp": 1641850971655,
     "user": {
      "displayName": "Carl Grandmont",
      "photoUrl": "https://lh3.googleusercontent.com/a-/AOh14GiDPL6ta2d4oBPET8l9vFCvaEwSvBpDv9VBpjeXPw=s64",
      "userId": "07472538960919752630"
     },
     "user_tz": 300
    },
    "id": "XovXFGW5FiXs",
    "outputId": "dc5c9fc5-6aba-4e00-b968-78b1947cf3dc"
   },
   "outputs": [
    {
     "data": {
      "text/html": [
       "\n",
       "  <div id=\"df-ba76e594-7040-4d2a-9303-2c5cb5a3088f\">\n",
       "    <div class=\"colab-df-container\">\n",
       "      <div>\n",
       "<style scoped>\n",
       "    .dataframe tbody tr th:only-of-type {\n",
       "        vertical-align: middle;\n",
       "    }\n",
       "\n",
       "    .dataframe tbody tr th {\n",
       "        vertical-align: top;\n",
       "    }\n",
       "\n",
       "    .dataframe thead th {\n",
       "        text-align: right;\n",
       "    }\n",
       "</style>\n",
       "<table border=\"1\" class=\"dataframe\">\n",
       "  <thead>\n",
       "    <tr style=\"text-align: right;\">\n",
       "      <th></th>\n",
       "      <th>num_discrete</th>\n",
       "      <th>num_continuous</th>\n",
       "      <th>cat_ordinal_1</th>\n",
       "      <th>cat_ordinal_2</th>\n",
       "      <th>cat_binary</th>\n",
       "      <th>cat_nominal_cat</th>\n",
       "      <th>cat_nominal_dog</th>\n",
       "      <th>cat_nominal_snake</th>\n",
       "    </tr>\n",
       "  </thead>\n",
       "  <tbody>\n",
       "    <tr>\n",
       "      <th>0</th>\n",
       "      <td>4</td>\n",
       "      <td>2.90</td>\n",
       "      <td>1</td>\n",
       "      <td>2</td>\n",
       "      <td>1</td>\n",
       "      <td>1</td>\n",
       "      <td>0</td>\n",
       "      <td>0</td>\n",
       "    </tr>\n",
       "    <tr>\n",
       "      <th>1</th>\n",
       "      <td>8</td>\n",
       "      <td>4.87</td>\n",
       "      <td>0</td>\n",
       "      <td>0</td>\n",
       "      <td>1</td>\n",
       "      <td>0</td>\n",
       "      <td>1</td>\n",
       "      <td>0</td>\n",
       "    </tr>\n",
       "    <tr>\n",
       "      <th>2</th>\n",
       "      <td>18</td>\n",
       "      <td>7.43</td>\n",
       "      <td>0</td>\n",
       "      <td>0</td>\n",
       "      <td>0</td>\n",
       "      <td>0</td>\n",
       "      <td>1</td>\n",
       "      <td>0</td>\n",
       "    </tr>\n",
       "    <tr>\n",
       "      <th>3</th>\n",
       "      <td>10</td>\n",
       "      <td>1.57</td>\n",
       "      <td>2</td>\n",
       "      <td>1</td>\n",
       "      <td>1</td>\n",
       "      <td>0</td>\n",
       "      <td>0</td>\n",
       "      <td>1</td>\n",
       "    </tr>\n",
       "    <tr>\n",
       "      <th>4</th>\n",
       "      <td>3</td>\n",
       "      <td>20.00</td>\n",
       "      <td>0</td>\n",
       "      <td>0</td>\n",
       "      <td>0</td>\n",
       "      <td>0</td>\n",
       "      <td>0</td>\n",
       "      <td>1</td>\n",
       "    </tr>\n",
       "    <tr>\n",
       "      <th>5</th>\n",
       "      <td>5</td>\n",
       "      <td>9.32</td>\n",
       "      <td>2</td>\n",
       "      <td>1</td>\n",
       "      <td>1</td>\n",
       "      <td>0</td>\n",
       "      <td>1</td>\n",
       "      <td>0</td>\n",
       "    </tr>\n",
       "  </tbody>\n",
       "</table>\n",
       "</div>\n",
       "      <button class=\"colab-df-convert\" onclick=\"convertToInteractive('df-ba76e594-7040-4d2a-9303-2c5cb5a3088f')\"\n",
       "              title=\"Convert this dataframe to an interactive table.\"\n",
       "              style=\"display:none;\">\n",
       "        \n",
       "  <svg xmlns=\"http://www.w3.org/2000/svg\" height=\"24px\"viewBox=\"0 0 24 24\"\n",
       "       width=\"24px\">\n",
       "    <path d=\"M0 0h24v24H0V0z\" fill=\"none\"/>\n",
       "    <path d=\"M18.56 5.44l.94 2.06.94-2.06 2.06-.94-2.06-.94-.94-2.06-.94 2.06-2.06.94zm-11 1L8.5 8.5l.94-2.06 2.06-.94-2.06-.94L8.5 2.5l-.94 2.06-2.06.94zm10 10l.94 2.06.94-2.06 2.06-.94-2.06-.94-.94-2.06-.94 2.06-2.06.94z\"/><path d=\"M17.41 7.96l-1.37-1.37c-.4-.4-.92-.59-1.43-.59-.52 0-1.04.2-1.43.59L10.3 9.45l-7.72 7.72c-.78.78-.78 2.05 0 2.83L4 21.41c.39.39.9.59 1.41.59.51 0 1.02-.2 1.41-.59l7.78-7.78 2.81-2.81c.8-.78.8-2.07 0-2.86zM5.41 20L4 18.59l7.72-7.72 1.47 1.35L5.41 20z\"/>\n",
       "  </svg>\n",
       "      </button>\n",
       "      \n",
       "  <style>\n",
       "    .colab-df-container {\n",
       "      display:flex;\n",
       "      flex-wrap:wrap;\n",
       "      gap: 12px;\n",
       "    }\n",
       "\n",
       "    .colab-df-convert {\n",
       "      background-color: #E8F0FE;\n",
       "      border: none;\n",
       "      border-radius: 50%;\n",
       "      cursor: pointer;\n",
       "      display: none;\n",
       "      fill: #1967D2;\n",
       "      height: 32px;\n",
       "      padding: 0 0 0 0;\n",
       "      width: 32px;\n",
       "    }\n",
       "\n",
       "    .colab-df-convert:hover {\n",
       "      background-color: #E2EBFA;\n",
       "      box-shadow: 0px 1px 2px rgba(60, 64, 67, 0.3), 0px 1px 3px 1px rgba(60, 64, 67, 0.15);\n",
       "      fill: #174EA6;\n",
       "    }\n",
       "\n",
       "    [theme=dark] .colab-df-convert {\n",
       "      background-color: #3B4455;\n",
       "      fill: #D2E3FC;\n",
       "    }\n",
       "\n",
       "    [theme=dark] .colab-df-convert:hover {\n",
       "      background-color: #434B5C;\n",
       "      box-shadow: 0px 1px 3px 1px rgba(0, 0, 0, 0.15);\n",
       "      filter: drop-shadow(0px 1px 2px rgba(0, 0, 0, 0.3));\n",
       "      fill: #FFFFFF;\n",
       "    }\n",
       "  </style>\n",
       "\n",
       "      <script>\n",
       "        const buttonEl =\n",
       "          document.querySelector('#df-ba76e594-7040-4d2a-9303-2c5cb5a3088f button.colab-df-convert');\n",
       "        buttonEl.style.display =\n",
       "          google.colab.kernel.accessAllowed ? 'block' : 'none';\n",
       "\n",
       "        async function convertToInteractive(key) {\n",
       "          const element = document.querySelector('#df-ba76e594-7040-4d2a-9303-2c5cb5a3088f');\n",
       "          const dataTable =\n",
       "            await google.colab.kernel.invokeFunction('convertToInteractive',\n",
       "                                                     [key], {});\n",
       "          if (!dataTable) return;\n",
       "\n",
       "          const docLinkHtml = 'Like what you see? Visit the ' +\n",
       "            '<a target=\"_blank\" href=https://colab.research.google.com/notebooks/data_table.ipynb>data table notebook</a>'\n",
       "            + ' to learn more about interactive tables.';\n",
       "          element.innerHTML = '';\n",
       "          dataTable['output_type'] = 'display_data';\n",
       "          await google.colab.output.renderOutput(dataTable, element);\n",
       "          const docLink = document.createElement('div');\n",
       "          docLink.innerHTML = docLinkHtml;\n",
       "          element.appendChild(docLink);\n",
       "        }\n",
       "      </script>\n",
       "    </div>\n",
       "  </div>\n",
       "  "
      ],
      "text/plain": [
       "   num_discrete  num_continuous  ...  cat_nominal_dog  cat_nominal_snake\n",
       "0             4            2.90  ...                0                  0\n",
       "1             8            4.87  ...                1                  0\n",
       "2            18            7.43  ...                1                  0\n",
       "3            10            1.57  ...                0                  1\n",
       "4             3           20.00  ...                0                  1\n",
       "5             5            9.32  ...                1                  0\n",
       "\n",
       "[6 rows x 8 columns]"
      ]
     },
     "execution_count": 11,
     "metadata": {},
     "output_type": "execute_result"
    }
   ],
   "source": [
    "# Utiliser un encodeur One Hot\n",
    "data_types = pd.get_dummies(data_types, columns=['cat_nominal'])\n",
    "data_types.head(6)"
   ]
  },
  {
   "cell_type": "markdown",
   "metadata": {
    "id": "DpaWXDZK0ruV"
   },
   "source": [
    "## Pratique : Préparer l'environnement de travail"
   ]
  },
  {
   "cell_type": "code",
   "execution_count": null,
   "metadata": {
    "id": "fix4h2o_XRQZ"
   },
   "outputs": [],
   "source": [
    "# Importer la librairie pandas\n",
    "import pandas as pd\n",
    "\n",
    "# Télécharger le jeu de données\n",
    "data = pd.read_csv('diabetes.csv')\n",
    "\n",
    "# Remplacer le nom des colonnes\n",
    "colnames = ['preg', 'plas', 'pres', 'skin', 'test', 'mass', 'pedi', 'age', 'class']\n",
    "data.columns = colnames"
   ]
  },
  {
   "cell_type": "code",
   "execution_count": null,
   "metadata": {
    "colab": {
     "base_uri": "https://localhost:8080/",
     "height": 206
    },
    "executionInfo": {
     "elapsed": 269,
     "status": "ok",
     "timestamp": 1641851037682,
     "user": {
      "displayName": "Carl Grandmont",
      "photoUrl": "https://lh3.googleusercontent.com/a-/AOh14GiDPL6ta2d4oBPET8l9vFCvaEwSvBpDv9VBpjeXPw=s64",
      "userId": "07472538960919752630"
     },
     "user_tz": 300
    },
    "id": "9NbnMG8d761Y",
    "outputId": "0658b88c-499d-4bd8-e7c8-aaf9e16f42a1"
   },
   "outputs": [
    {
     "data": {
      "text/html": [
       "\n",
       "  <div id=\"df-26190f23-6104-44e1-ac0c-a073d8c4aa71\">\n",
       "    <div class=\"colab-df-container\">\n",
       "      <div>\n",
       "<style scoped>\n",
       "    .dataframe tbody tr th:only-of-type {\n",
       "        vertical-align: middle;\n",
       "    }\n",
       "\n",
       "    .dataframe tbody tr th {\n",
       "        vertical-align: top;\n",
       "    }\n",
       "\n",
       "    .dataframe thead th {\n",
       "        text-align: right;\n",
       "    }\n",
       "</style>\n",
       "<table border=\"1\" class=\"dataframe\">\n",
       "  <thead>\n",
       "    <tr style=\"text-align: right;\">\n",
       "      <th></th>\n",
       "      <th>preg</th>\n",
       "      <th>plas</th>\n",
       "      <th>pres</th>\n",
       "      <th>skin</th>\n",
       "      <th>test</th>\n",
       "      <th>mass</th>\n",
       "      <th>pedi</th>\n",
       "      <th>age</th>\n",
       "      <th>class</th>\n",
       "    </tr>\n",
       "  </thead>\n",
       "  <tbody>\n",
       "    <tr>\n",
       "      <th>0</th>\n",
       "      <td>6</td>\n",
       "      <td>148</td>\n",
       "      <td>72</td>\n",
       "      <td>35</td>\n",
       "      <td>0</td>\n",
       "      <td>33.6</td>\n",
       "      <td>0.627</td>\n",
       "      <td>50</td>\n",
       "      <td>1</td>\n",
       "    </tr>\n",
       "    <tr>\n",
       "      <th>1</th>\n",
       "      <td>1</td>\n",
       "      <td>85</td>\n",
       "      <td>66</td>\n",
       "      <td>29</td>\n",
       "      <td>0</td>\n",
       "      <td>26.6</td>\n",
       "      <td>0.351</td>\n",
       "      <td>31</td>\n",
       "      <td>0</td>\n",
       "    </tr>\n",
       "    <tr>\n",
       "      <th>2</th>\n",
       "      <td>8</td>\n",
       "      <td>183</td>\n",
       "      <td>64</td>\n",
       "      <td>0</td>\n",
       "      <td>0</td>\n",
       "      <td>23.3</td>\n",
       "      <td>0.672</td>\n",
       "      <td>32</td>\n",
       "      <td>1</td>\n",
       "    </tr>\n",
       "    <tr>\n",
       "      <th>3</th>\n",
       "      <td>1</td>\n",
       "      <td>89</td>\n",
       "      <td>66</td>\n",
       "      <td>23</td>\n",
       "      <td>94</td>\n",
       "      <td>28.1</td>\n",
       "      <td>0.167</td>\n",
       "      <td>21</td>\n",
       "      <td>0</td>\n",
       "    </tr>\n",
       "    <tr>\n",
       "      <th>4</th>\n",
       "      <td>0</td>\n",
       "      <td>137</td>\n",
       "      <td>40</td>\n",
       "      <td>35</td>\n",
       "      <td>168</td>\n",
       "      <td>43.1</td>\n",
       "      <td>2.288</td>\n",
       "      <td>33</td>\n",
       "      <td>1</td>\n",
       "    </tr>\n",
       "  </tbody>\n",
       "</table>\n",
       "</div>\n",
       "      <button class=\"colab-df-convert\" onclick=\"convertToInteractive('df-26190f23-6104-44e1-ac0c-a073d8c4aa71')\"\n",
       "              title=\"Convert this dataframe to an interactive table.\"\n",
       "              style=\"display:none;\">\n",
       "        \n",
       "  <svg xmlns=\"http://www.w3.org/2000/svg\" height=\"24px\"viewBox=\"0 0 24 24\"\n",
       "       width=\"24px\">\n",
       "    <path d=\"M0 0h24v24H0V0z\" fill=\"none\"/>\n",
       "    <path d=\"M18.56 5.44l.94 2.06.94-2.06 2.06-.94-2.06-.94-.94-2.06-.94 2.06-2.06.94zm-11 1L8.5 8.5l.94-2.06 2.06-.94-2.06-.94L8.5 2.5l-.94 2.06-2.06.94zm10 10l.94 2.06.94-2.06 2.06-.94-2.06-.94-.94-2.06-.94 2.06-2.06.94z\"/><path d=\"M17.41 7.96l-1.37-1.37c-.4-.4-.92-.59-1.43-.59-.52 0-1.04.2-1.43.59L10.3 9.45l-7.72 7.72c-.78.78-.78 2.05 0 2.83L4 21.41c.39.39.9.59 1.41.59.51 0 1.02-.2 1.41-.59l7.78-7.78 2.81-2.81c.8-.78.8-2.07 0-2.86zM5.41 20L4 18.59l7.72-7.72 1.47 1.35L5.41 20z\"/>\n",
       "  </svg>\n",
       "      </button>\n",
       "      \n",
       "  <style>\n",
       "    .colab-df-container {\n",
       "      display:flex;\n",
       "      flex-wrap:wrap;\n",
       "      gap: 12px;\n",
       "    }\n",
       "\n",
       "    .colab-df-convert {\n",
       "      background-color: #E8F0FE;\n",
       "      border: none;\n",
       "      border-radius: 50%;\n",
       "      cursor: pointer;\n",
       "      display: none;\n",
       "      fill: #1967D2;\n",
       "      height: 32px;\n",
       "      padding: 0 0 0 0;\n",
       "      width: 32px;\n",
       "    }\n",
       "\n",
       "    .colab-df-convert:hover {\n",
       "      background-color: #E2EBFA;\n",
       "      box-shadow: 0px 1px 2px rgba(60, 64, 67, 0.3), 0px 1px 3px 1px rgba(60, 64, 67, 0.15);\n",
       "      fill: #174EA6;\n",
       "    }\n",
       "\n",
       "    [theme=dark] .colab-df-convert {\n",
       "      background-color: #3B4455;\n",
       "      fill: #D2E3FC;\n",
       "    }\n",
       "\n",
       "    [theme=dark] .colab-df-convert:hover {\n",
       "      background-color: #434B5C;\n",
       "      box-shadow: 0px 1px 3px 1px rgba(0, 0, 0, 0.15);\n",
       "      filter: drop-shadow(0px 1px 2px rgba(0, 0, 0, 0.3));\n",
       "      fill: #FFFFFF;\n",
       "    }\n",
       "  </style>\n",
       "\n",
       "      <script>\n",
       "        const buttonEl =\n",
       "          document.querySelector('#df-26190f23-6104-44e1-ac0c-a073d8c4aa71 button.colab-df-convert');\n",
       "        buttonEl.style.display =\n",
       "          google.colab.kernel.accessAllowed ? 'block' : 'none';\n",
       "\n",
       "        async function convertToInteractive(key) {\n",
       "          const element = document.querySelector('#df-26190f23-6104-44e1-ac0c-a073d8c4aa71');\n",
       "          const dataTable =\n",
       "            await google.colab.kernel.invokeFunction('convertToInteractive',\n",
       "                                                     [key], {});\n",
       "          if (!dataTable) return;\n",
       "\n",
       "          const docLinkHtml = 'Like what you see? Visit the ' +\n",
       "            '<a target=\"_blank\" href=https://colab.research.google.com/notebooks/data_table.ipynb>data table notebook</a>'\n",
       "            + ' to learn more about interactive tables.';\n",
       "          element.innerHTML = '';\n",
       "          dataTable['output_type'] = 'display_data';\n",
       "          await google.colab.output.renderOutput(dataTable, element);\n",
       "          const docLink = document.createElement('div');\n",
       "          docLink.innerHTML = docLinkHtml;\n",
       "          element.appendChild(docLink);\n",
       "        }\n",
       "      </script>\n",
       "    </div>\n",
       "  </div>\n",
       "  "
      ],
      "text/plain": [
       "   preg  plas  pres  skin  test  mass   pedi  age  class\n",
       "0     6   148    72    35     0  33.6  0.627   50      1\n",
       "1     1    85    66    29     0  26.6  0.351   31      0\n",
       "2     8   183    64     0     0  23.3  0.672   32      1\n",
       "3     1    89    66    23    94  28.1  0.167   21      0\n",
       "4     0   137    40    35   168  43.1  2.288   33      1"
      ]
     },
     "execution_count": 14,
     "metadata": {},
     "output_type": "execute_result"
    }
   ],
   "source": [
    "data.head()"
   ]
  },
  {
   "cell_type": "code",
   "execution_count": null,
   "metadata": {
    "colab": {
     "base_uri": "https://localhost:8080/"
    },
    "executionInfo": {
     "elapsed": 257,
     "status": "ok",
     "timestamp": 1641851043038,
     "user": {
      "displayName": "Carl Grandmont",
      "photoUrl": "https://lh3.googleusercontent.com/a-/AOh14GiDPL6ta2d4oBPET8l9vFCvaEwSvBpDv9VBpjeXPw=s64",
      "userId": "07472538960919752630"
     },
     "user_tz": 300
    },
    "id": "NU9lEO849Nmw",
    "outputId": "193ce98f-9d76-4e5d-bf72-2b48cf3436ae"
   },
   "outputs": [
    {
     "data": {
      "text/plain": [
       "preg       int64\n",
       "plas       int64\n",
       "pres       int64\n",
       "skin       int64\n",
       "test       int64\n",
       "mass     float64\n",
       "pedi     float64\n",
       "age        int64\n",
       "class      int64\n",
       "dtype: object"
      ]
     },
     "execution_count": 15,
     "metadata": {},
     "output_type": "execute_result"
    }
   ],
   "source": [
    "data.dtypes"
   ]
  },
  {
   "cell_type": "markdown",
   "metadata": {
    "id": "zPlaT65h1FxI"
   },
   "source": [
    "## Application des méthodes de transformation\n",
    "\n",
    "### 4 méthodes pour préparer des données numériques :\n",
    "1. Redimensionner les données (rescale)\n",
    "2. Standardiser les données (standardize)\n",
    "3. Normaliser les données (normalize)\n",
    "5. Binariser les données (binarize)"
   ]
  },
  {
   "cell_type": "markdown",
   "metadata": {
    "id": "iu5CaD2kEkXa"
   },
   "source": [
    "### Données pour exemple plus concret\n",
    "\n",
    "Afin de visualiser un peu mieux le résultat de chacunes des méthodes, nous allons utiliser un array artificiel."
   ]
  },
  {
   "cell_type": "code",
   "execution_count": null,
   "metadata": {
    "colab": {
     "base_uri": "https://localhost:8080/"
    },
    "executionInfo": {
     "elapsed": 276,
     "status": "ok",
     "timestamp": 1641851117832,
     "user": {
      "displayName": "Carl Grandmont",
      "photoUrl": "https://lh3.googleusercontent.com/a-/AOh14GiDPL6ta2d4oBPET8l9vFCvaEwSvBpDv9VBpjeXPw=s64",
      "userId": "07472538960919752630"
     },
     "user_tz": 300
    },
    "id": "z2yxXAVP7zEu",
    "outputId": "766f77f0-05a3-4076-bc41-cefa63a32b70"
   },
   "outputs": [
    {
     "name": "stdout",
     "output_type": "stream",
     "text": [
      "[  0  25  50  75 100]\n"
     ]
    }
   ],
   "source": [
    "# Créer un array comme exemple\n",
    "myarray = np.array([0, 25, 50, 75, 100])\n",
    "print(myarray)"
   ]
  },
  {
   "cell_type": "code",
   "execution_count": null,
   "metadata": {
    "colab": {
     "base_uri": "https://localhost:8080/"
    },
    "executionInfo": {
     "elapsed": 297,
     "status": "ok",
     "timestamp": 1641851555680,
     "user": {
      "displayName": "Carl Grandmont",
      "photoUrl": "https://lh3.googleusercontent.com/a-/AOh14GiDPL6ta2d4oBPET8l9vFCvaEwSvBpDv9VBpjeXPw=s64",
      "userId": "07472538960919752630"
     },
     "user_tz": 300
    },
    "id": "GQx7jjMI82dr",
    "outputId": "c60b4686-e0c3-497a-a84c-127e998a668d"
   },
   "outputs": [
    {
     "name": "stdout",
     "output_type": "stream",
     "text": [
      "[[  0]\n",
      " [ 25]\n",
      " [ 50]\n",
      " [ 75]\n",
      " [100]]\n"
     ]
    }
   ],
   "source": [
    "# Transformer l'array pour en faire l'éuivalent d'une colonne\n",
    "myarray = myarray.reshape(-1, 1)\n",
    "print(myarray)"
   ]
  },
  {
   "cell_type": "markdown",
   "metadata": {
    "id": "rLeEu4ebE6TE"
   },
   "source": [
    "## 6.0 Préparer des données numériques\n",
    "\n",
    "Avant de pouvoir préparer les données, on doit les organiser en deux catégories:\n",
    "1. Valeurs d'entrées\n",
    "2. Valeurs de sortie"
   ]
  },
  {
   "cell_type": "code",
   "execution_count": null,
   "metadata": {
    "id": "02T5aiBj16wz"
   },
   "outputs": [],
   "source": [
    "import numpy as np\n",
    "from numpy import set_printoptions"
   ]
  },
  {
   "cell_type": "code",
   "execution_count": null,
   "metadata": {
    "id": "mBkA-5w11FK3"
   },
   "outputs": [],
   "source": [
    "# Transposer la table de données en array numpy\n",
    "data_array = data.values"
   ]
  },
  {
   "cell_type": "code",
   "execution_count": null,
   "metadata": {
    "colab": {
     "base_uri": "https://localhost:8080/"
    },
    "executionInfo": {
     "elapsed": 253,
     "status": "ok",
     "timestamp": 1641851618332,
     "user": {
      "displayName": "Carl Grandmont",
      "photoUrl": "https://lh3.googleusercontent.com/a-/AOh14GiDPL6ta2d4oBPET8l9vFCvaEwSvBpDv9VBpjeXPw=s64",
      "userId": "07472538960919752630"
     },
     "user_tz": 300
    },
    "id": "Mhc2-6o31_zm",
    "outputId": "e1fca53a-1d7c-4e5d-be1f-e3d537aa69ef"
   },
   "outputs": [
    {
     "data": {
      "text/plain": [
       "(768, 9)"
      ]
     },
     "execution_count": 20,
     "metadata": {},
     "output_type": "execute_result"
    }
   ],
   "source": [
    "# Aperçu de la structure de la table de données\n",
    "data_array.shape"
   ]
  },
  {
   "cell_type": "code",
   "execution_count": null,
   "metadata": {
    "colab": {
     "base_uri": "https://localhost:8080/",
     "height": 206
    },
    "executionInfo": {
     "elapsed": 13,
     "status": "ok",
     "timestamp": 1641851620156,
     "user": {
      "displayName": "Carl Grandmont",
      "photoUrl": "https://lh3.googleusercontent.com/a-/AOh14GiDPL6ta2d4oBPET8l9vFCvaEwSvBpDv9VBpjeXPw=s64",
      "userId": "07472538960919752630"
     },
     "user_tz": 300
    },
    "id": "0HnTg_kaMTpw",
    "outputId": "0c3363ed-88ec-419b-eb9c-368c6676e809"
   },
   "outputs": [
    {
     "data": {
      "text/html": [
       "\n",
       "  <div id=\"df-d662f9f6-bd13-4687-9e77-2c06bf586d69\">\n",
       "    <div class=\"colab-df-container\">\n",
       "      <div>\n",
       "<style scoped>\n",
       "    .dataframe tbody tr th:only-of-type {\n",
       "        vertical-align: middle;\n",
       "    }\n",
       "\n",
       "    .dataframe tbody tr th {\n",
       "        vertical-align: top;\n",
       "    }\n",
       "\n",
       "    .dataframe thead th {\n",
       "        text-align: right;\n",
       "    }\n",
       "</style>\n",
       "<table border=\"1\" class=\"dataframe\">\n",
       "  <thead>\n",
       "    <tr style=\"text-align: right;\">\n",
       "      <th></th>\n",
       "      <th>preg</th>\n",
       "      <th>plas</th>\n",
       "      <th>pres</th>\n",
       "      <th>skin</th>\n",
       "      <th>test</th>\n",
       "      <th>mass</th>\n",
       "      <th>pedi</th>\n",
       "      <th>age</th>\n",
       "      <th>class</th>\n",
       "    </tr>\n",
       "  </thead>\n",
       "  <tbody>\n",
       "    <tr>\n",
       "      <th>0</th>\n",
       "      <td>6</td>\n",
       "      <td>148</td>\n",
       "      <td>72</td>\n",
       "      <td>35</td>\n",
       "      <td>0</td>\n",
       "      <td>33.6</td>\n",
       "      <td>0.627</td>\n",
       "      <td>50</td>\n",
       "      <td>1</td>\n",
       "    </tr>\n",
       "    <tr>\n",
       "      <th>1</th>\n",
       "      <td>1</td>\n",
       "      <td>85</td>\n",
       "      <td>66</td>\n",
       "      <td>29</td>\n",
       "      <td>0</td>\n",
       "      <td>26.6</td>\n",
       "      <td>0.351</td>\n",
       "      <td>31</td>\n",
       "      <td>0</td>\n",
       "    </tr>\n",
       "    <tr>\n",
       "      <th>2</th>\n",
       "      <td>8</td>\n",
       "      <td>183</td>\n",
       "      <td>64</td>\n",
       "      <td>0</td>\n",
       "      <td>0</td>\n",
       "      <td>23.3</td>\n",
       "      <td>0.672</td>\n",
       "      <td>32</td>\n",
       "      <td>1</td>\n",
       "    </tr>\n",
       "    <tr>\n",
       "      <th>3</th>\n",
       "      <td>1</td>\n",
       "      <td>89</td>\n",
       "      <td>66</td>\n",
       "      <td>23</td>\n",
       "      <td>94</td>\n",
       "      <td>28.1</td>\n",
       "      <td>0.167</td>\n",
       "      <td>21</td>\n",
       "      <td>0</td>\n",
       "    </tr>\n",
       "    <tr>\n",
       "      <th>4</th>\n",
       "      <td>0</td>\n",
       "      <td>137</td>\n",
       "      <td>40</td>\n",
       "      <td>35</td>\n",
       "      <td>168</td>\n",
       "      <td>43.1</td>\n",
       "      <td>2.288</td>\n",
       "      <td>33</td>\n",
       "      <td>1</td>\n",
       "    </tr>\n",
       "  </tbody>\n",
       "</table>\n",
       "</div>\n",
       "      <button class=\"colab-df-convert\" onclick=\"convertToInteractive('df-d662f9f6-bd13-4687-9e77-2c06bf586d69')\"\n",
       "              title=\"Convert this dataframe to an interactive table.\"\n",
       "              style=\"display:none;\">\n",
       "        \n",
       "  <svg xmlns=\"http://www.w3.org/2000/svg\" height=\"24px\"viewBox=\"0 0 24 24\"\n",
       "       width=\"24px\">\n",
       "    <path d=\"M0 0h24v24H0V0z\" fill=\"none\"/>\n",
       "    <path d=\"M18.56 5.44l.94 2.06.94-2.06 2.06-.94-2.06-.94-.94-2.06-.94 2.06-2.06.94zm-11 1L8.5 8.5l.94-2.06 2.06-.94-2.06-.94L8.5 2.5l-.94 2.06-2.06.94zm10 10l.94 2.06.94-2.06 2.06-.94-2.06-.94-.94-2.06-.94 2.06-2.06.94z\"/><path d=\"M17.41 7.96l-1.37-1.37c-.4-.4-.92-.59-1.43-.59-.52 0-1.04.2-1.43.59L10.3 9.45l-7.72 7.72c-.78.78-.78 2.05 0 2.83L4 21.41c.39.39.9.59 1.41.59.51 0 1.02-.2 1.41-.59l7.78-7.78 2.81-2.81c.8-.78.8-2.07 0-2.86zM5.41 20L4 18.59l7.72-7.72 1.47 1.35L5.41 20z\"/>\n",
       "  </svg>\n",
       "      </button>\n",
       "      \n",
       "  <style>\n",
       "    .colab-df-container {\n",
       "      display:flex;\n",
       "      flex-wrap:wrap;\n",
       "      gap: 12px;\n",
       "    }\n",
       "\n",
       "    .colab-df-convert {\n",
       "      background-color: #E8F0FE;\n",
       "      border: none;\n",
       "      border-radius: 50%;\n",
       "      cursor: pointer;\n",
       "      display: none;\n",
       "      fill: #1967D2;\n",
       "      height: 32px;\n",
       "      padding: 0 0 0 0;\n",
       "      width: 32px;\n",
       "    }\n",
       "\n",
       "    .colab-df-convert:hover {\n",
       "      background-color: #E2EBFA;\n",
       "      box-shadow: 0px 1px 2px rgba(60, 64, 67, 0.3), 0px 1px 3px 1px rgba(60, 64, 67, 0.15);\n",
       "      fill: #174EA6;\n",
       "    }\n",
       "\n",
       "    [theme=dark] .colab-df-convert {\n",
       "      background-color: #3B4455;\n",
       "      fill: #D2E3FC;\n",
       "    }\n",
       "\n",
       "    [theme=dark] .colab-df-convert:hover {\n",
       "      background-color: #434B5C;\n",
       "      box-shadow: 0px 1px 3px 1px rgba(0, 0, 0, 0.15);\n",
       "      filter: drop-shadow(0px 1px 2px rgba(0, 0, 0, 0.3));\n",
       "      fill: #FFFFFF;\n",
       "    }\n",
       "  </style>\n",
       "\n",
       "      <script>\n",
       "        const buttonEl =\n",
       "          document.querySelector('#df-d662f9f6-bd13-4687-9e77-2c06bf586d69 button.colab-df-convert');\n",
       "        buttonEl.style.display =\n",
       "          google.colab.kernel.accessAllowed ? 'block' : 'none';\n",
       "\n",
       "        async function convertToInteractive(key) {\n",
       "          const element = document.querySelector('#df-d662f9f6-bd13-4687-9e77-2c06bf586d69');\n",
       "          const dataTable =\n",
       "            await google.colab.kernel.invokeFunction('convertToInteractive',\n",
       "                                                     [key], {});\n",
       "          if (!dataTable) return;\n",
       "\n",
       "          const docLinkHtml = 'Like what you see? Visit the ' +\n",
       "            '<a target=\"_blank\" href=https://colab.research.google.com/notebooks/data_table.ipynb>data table notebook</a>'\n",
       "            + ' to learn more about interactive tables.';\n",
       "          element.innerHTML = '';\n",
       "          dataTable['output_type'] = 'display_data';\n",
       "          await google.colab.output.renderOutput(dataTable, element);\n",
       "          const docLink = document.createElement('div');\n",
       "          docLink.innerHTML = docLinkHtml;\n",
       "          element.appendChild(docLink);\n",
       "        }\n",
       "      </script>\n",
       "    </div>\n",
       "  </div>\n",
       "  "
      ],
      "text/plain": [
       "   preg  plas  pres  skin  test  mass   pedi  age  class\n",
       "0     6   148    72    35     0  33.6  0.627   50      1\n",
       "1     1    85    66    29     0  26.6  0.351   31      0\n",
       "2     8   183    64     0     0  23.3  0.672   32      1\n",
       "3     1    89    66    23    94  28.1  0.167   21      0\n",
       "4     0   137    40    35   168  43.1  2.288   33      1"
      ]
     },
     "execution_count": 21,
     "metadata": {},
     "output_type": "execute_result"
    }
   ],
   "source": [
    "data.head()"
   ]
  },
  {
   "cell_type": "code",
   "execution_count": null,
   "metadata": {
    "colab": {
     "base_uri": "https://localhost:8080/"
    },
    "executionInfo": {
     "elapsed": 270,
     "status": "ok",
     "timestamp": 1641851628208,
     "user": {
      "displayName": "Carl Grandmont",
      "photoUrl": "https://lh3.googleusercontent.com/a-/AOh14GiDPL6ta2d4oBPET8l9vFCvaEwSvBpDv9VBpjeXPw=s64",
      "userId": "07472538960919752630"
     },
     "user_tz": 300
    },
    "id": "pBs-TVYQ2PhT",
    "outputId": "6317b787-7505-47c2-d7cf-20e757fa206d"
   },
   "outputs": [
    {
     "data": {
      "text/plain": [
       "(768, 8)"
      ]
     },
     "execution_count": 22,
     "metadata": {},
     "output_type": "execute_result"
    }
   ],
   "source": [
    "# Sélectionner les valeurs d'entrée (X)\n",
    "X = data_array[:,0:8]\n",
    "X.shape"
   ]
  },
  {
   "cell_type": "code",
   "execution_count": null,
   "metadata": {
    "colab": {
     "base_uri": "https://localhost:8080/"
    },
    "executionInfo": {
     "elapsed": 270,
     "status": "ok",
     "timestamp": 1641851629570,
     "user": {
      "displayName": "Carl Grandmont",
      "photoUrl": "https://lh3.googleusercontent.com/a-/AOh14GiDPL6ta2d4oBPET8l9vFCvaEwSvBpDv9VBpjeXPw=s64",
      "userId": "07472538960919752630"
     },
     "user_tz": 300
    },
    "id": "oAD26mzX2liv",
    "outputId": "644b6ed4-2d81-440c-ad2b-341ff114b7d8"
   },
   "outputs": [
    {
     "data": {
      "text/plain": [
       "(768,)"
      ]
     },
     "execution_count": 23,
     "metadata": {},
     "output_type": "execute_result"
    }
   ],
   "source": [
    "# Sélectionner les valeurs de sortie (Y)\n",
    "Y = data_array[:,8]\n",
    "Y.shape"
   ]
  },
  {
   "cell_type": "code",
   "execution_count": null,
   "metadata": {
    "colab": {
     "base_uri": "https://localhost:8080/"
    },
    "executionInfo": {
     "elapsed": 283,
     "status": "ok",
     "timestamp": 1641851675600,
     "user": {
      "displayName": "Carl Grandmont",
      "photoUrl": "https://lh3.googleusercontent.com/a-/AOh14GiDPL6ta2d4oBPET8l9vFCvaEwSvBpDv9VBpjeXPw=s64",
      "userId": "07472538960919752630"
     },
     "user_tz": 300
    },
    "id": "7sKXdBxf7mOF",
    "outputId": "e84095ca-95e2-4c23-eb65-595a8f8f8a34"
   },
   "outputs": [
    {
     "name": "stdout",
     "output_type": "stream",
     "text": [
      "[[  6.    148.     72.     35.      0.     33.6     0.627  50.      1.   ]\n",
      " [  1.     85.     66.     29.      0.     26.6     0.351  31.      0.   ]\n",
      " [  8.    183.     64.      0.      0.     23.3     0.672  32.      1.   ]\n",
      " [  1.     89.     66.     23.     94.     28.1     0.167  21.      0.   ]\n",
      " [  0.    137.     40.     35.    168.     43.1     2.288  33.      1.   ]]\n"
     ]
    }
   ],
   "source": [
    "# Imprimer les valeurs brutes de X \n",
    "set_printoptions(precision=3, suppress=True)\n",
    "print(data_array[0:5,:])"
   ]
  },
  {
   "cell_type": "markdown",
   "metadata": {
    "id": "QPHjLCca0INW"
   },
   "source": [
    "## 6.1 Redimensionner les données"
   ]
  },
  {
   "cell_type": "code",
   "execution_count": null,
   "metadata": {
    "id": "bjBfMjWJYOy4"
   },
   "outputs": [],
   "source": [
    "from sklearn.preprocessing import MinMaxScaler"
   ]
  },
  {
   "cell_type": "code",
   "execution_count": null,
   "metadata": {
    "colab": {
     "base_uri": "https://localhost:8080/"
    },
    "executionInfo": {
     "elapsed": 258,
     "status": "ok",
     "timestamp": 1641851698289,
     "user": {
      "displayName": "Carl Grandmont",
      "photoUrl": "https://lh3.googleusercontent.com/a-/AOh14GiDPL6ta2d4oBPET8l9vFCvaEwSvBpDv9VBpjeXPw=s64",
      "userId": "07472538960919752630"
     },
     "user_tz": 300
    },
    "id": "ZbPuk_FU8D4p",
    "outputId": "d5ea896b-82cb-4f43-ab5e-eb00a028cceb"
   },
   "outputs": [
    {
     "name": "stdout",
     "output_type": "stream",
     "text": [
      "myarray: \n",
      " [[  0]\n",
      " [ 25]\n",
      " [ 50]\n",
      " [ 75]\n",
      " [100]] \n",
      "\n",
      " myarray_minmax: \n",
      " [[0.  ]\n",
      " [0.25]\n",
      " [0.5 ]\n",
      " [0.75]\n",
      " [1.  ]]\n"
     ]
    }
   ],
   "source": [
    "# Exemple avec le array simple\n",
    "minmax_scaler = MinMaxScaler(feature_range=(0, 1))\n",
    "myarray_minmax = minmax_scaler.fit_transform(myarray)\n",
    "print(f'myarray: \\n {myarray} \\n\\n myarray_minmax: \\n {myarray_minmax}')"
   ]
  },
  {
   "cell_type": "code",
   "execution_count": null,
   "metadata": {
    "colab": {
     "base_uri": "https://localhost:8080/"
    },
    "executionInfo": {
     "elapsed": 412,
     "status": "ok",
     "timestamp": 1641851717769,
     "user": {
      "displayName": "Carl Grandmont",
      "photoUrl": "https://lh3.googleusercontent.com/a-/AOh14GiDPL6ta2d4oBPET8l9vFCvaEwSvBpDv9VBpjeXPw=s64",
      "userId": "07472538960919752630"
     },
     "user_tz": 300
    },
    "id": "jaHzb0biYcJe",
    "outputId": "f79bcc86-b5f8-40e8-d376-880cfab87046"
   },
   "outputs": [
    {
     "name": "stdout",
     "output_type": "stream",
     "text": [
      "[[0.353 0.744 0.59  0.354 0.    0.501 0.234 0.483]\n",
      " [0.059 0.427 0.541 0.293 0.    0.396 0.117 0.167]\n",
      " [0.471 0.92  0.525 0.    0.    0.347 0.254 0.183]\n",
      " [0.059 0.447 0.541 0.232 0.111 0.419 0.038 0.   ]\n",
      " [0.    0.688 0.328 0.354 0.199 0.642 0.944 0.2  ]]\n"
     ]
    }
   ],
   "source": [
    "# Activer minmaxscaler avec un intervalle de 0 à 1\n",
    "scaler = MinMaxScaler(feature_range=(0, 1))\n",
    "\n",
    "# Transformer les données\n",
    "X_scaled = scaler.fit_transform(X)\n",
    "\n",
    "# Imprimer les valeurs d'entrée transformées (5 premières lignes seulement)\n",
    "set_printoptions(precision=3)\n",
    "print(X_scaled[0:5,:])"
   ]
  },
  {
   "cell_type": "code",
   "execution_count": null,
   "metadata": {
    "colab": {
     "base_uri": "https://localhost:8080/"
    },
    "executionInfo": {
     "elapsed": 272,
     "status": "ok",
     "timestamp": 1641851719813,
     "user": {
      "displayName": "Carl Grandmont",
      "photoUrl": "https://lh3.googleusercontent.com/a-/AOh14GiDPL6ta2d4oBPET8l9vFCvaEwSvBpDv9VBpjeXPw=s64",
      "userId": "07472538960919752630"
     },
     "user_tz": 300
    },
    "id": "fWkW9l2F3ZDA",
    "outputId": "8ef77f71-7774-464d-fca1-ee1210dab4f0"
   },
   "outputs": [
    {
     "name": "stdout",
     "output_type": "stream",
     "text": [
      "[[35.294 74.372 59.016 35.354  0.    50.075 23.442 48.333]\n",
      " [ 5.882 42.714 54.098 29.293  0.    39.642 11.657 16.667]\n",
      " [47.059 91.96  52.459  0.     0.    34.724 25.363 18.333]\n",
      " [ 5.882 44.724 54.098 23.232 11.111 41.878  3.8    0.   ]\n",
      " [ 0.    68.844 32.787 35.354 19.858 64.232 94.364 20.   ]]\n"
     ]
    }
   ],
   "source": [
    "# Exemple avec diabetes\n",
    "\n",
    "# Activer minmaxscaler avec un intervalle de 0 à 100\n",
    "scaler = MinMaxScaler(feature_range=(0, 100))\n",
    "\n",
    "# Transformer les données\n",
    "X_scaled = scaler.fit_transform(X)\n",
    "\n",
    "# Imprimer les valeurs d'entrée transformées (5 premières lignes seulement)\n",
    "set_printoptions(precision=3)\n",
    "print(X_scaled[0:5,:])"
   ]
  },
  {
   "cell_type": "markdown",
   "metadata": {
    "id": "h6IdEyfQ4jJC"
   },
   "source": [
    "## 6.2 Standardiser les données"
   ]
  },
  {
   "cell_type": "code",
   "execution_count": null,
   "metadata": {
    "id": "WYcZZ37P4Yhg"
   },
   "outputs": [],
   "source": [
    "from sklearn.preprocessing import StandardScaler"
   ]
  },
  {
   "cell_type": "code",
   "execution_count": null,
   "metadata": {
    "colab": {
     "base_uri": "https://localhost:8080/"
    },
    "executionInfo": {
     "elapsed": 305,
     "status": "ok",
     "timestamp": 1641851738694,
     "user": {
      "displayName": "Carl Grandmont",
      "photoUrl": "https://lh3.googleusercontent.com/a-/AOh14GiDPL6ta2d4oBPET8l9vFCvaEwSvBpDv9VBpjeXPw=s64",
      "userId": "07472538960919752630"
     },
     "user_tz": 300
    },
    "id": "_4c8ECL98DuR",
    "outputId": "99f64d0f-cb8d-4d7c-ac1b-40f5510261d6"
   },
   "outputs": [
    {
     "name": "stdout",
     "output_type": "stream",
     "text": [
      "myarray: \n",
      " [[  0]\n",
      " [ 25]\n",
      " [ 50]\n",
      " [ 75]\n",
      " [100]] \n",
      "\n",
      " myarray_std: \n",
      " [[-1.414]\n",
      " [-0.707]\n",
      " [ 0.   ]\n",
      " [ 0.707]\n",
      " [ 1.414]]\n"
     ]
    }
   ],
   "source": [
    "# Exemple avec le array simple\n",
    "std_scaler = StandardScaler()\n",
    "myarray_std = std_scaler.fit_transform(myarray)\n",
    "print(f'myarray: \\n {myarray} \\n\\n myarray_std: \\n {myarray_std}')"
   ]
  },
  {
   "cell_type": "code",
   "execution_count": null,
   "metadata": {
    "colab": {
     "base_uri": "https://localhost:8080/"
    },
    "executionInfo": {
     "elapsed": 313,
     "status": "ok",
     "timestamp": 1641851751836,
     "user": {
      "displayName": "Carl Grandmont",
      "photoUrl": "https://lh3.googleusercontent.com/a-/AOh14GiDPL6ta2d4oBPET8l9vFCvaEwSvBpDv9VBpjeXPw=s64",
      "userId": "07472538960919752630"
     },
     "user_tz": 300
    },
    "id": "FMxRocbb4wQX",
    "outputId": "6202118a-ca66-4822-9107-33bfc3671a75"
   },
   "outputs": [
    {
     "name": "stdout",
     "output_type": "stream",
     "text": [
      "[[ 0.64   0.848  0.15   0.907 -0.693  0.204  0.468  1.426]\n",
      " [-0.845 -1.123 -0.161  0.531 -0.693 -0.684 -0.365 -0.191]\n",
      " [ 1.234  1.944 -0.264 -1.288 -0.693 -1.103  0.604 -0.106]\n",
      " [-0.845 -0.998 -0.161  0.155  0.123 -0.494 -0.921 -1.042]\n",
      " [-1.142  0.504 -1.505  0.907  0.766  1.41   5.485 -0.02 ]]\n"
     ]
    }
   ],
   "source": [
    "# Exemple avec diabetes\n",
    "\n",
    "# Activer standardscaler\n",
    "scaler = StandardScaler()\n",
    "\n",
    "# Transformer les données\n",
    "X_scaled = scaler.fit_transform(X)\n",
    "\n",
    "# Imprimer les valeurs d'entrée transformées (5 premières lignes seulement)\n",
    "set_printoptions(precision=3)\n",
    "print(X_scaled[0:5,:])"
   ]
  },
  {
   "cell_type": "markdown",
   "metadata": {
    "id": "VqYgHlRf6d3A"
   },
   "source": [
    "## 6.3 Normaliser les données"
   ]
  },
  {
   "cell_type": "code",
   "execution_count": null,
   "metadata": {
    "id": "9faZOX_E448S"
   },
   "outputs": [],
   "source": [
    "from sklearn.preprocessing import Normalizer"
   ]
  },
  {
   "cell_type": "code",
   "execution_count": null,
   "metadata": {
    "colab": {
     "base_uri": "https://localhost:8080/"
    },
    "executionInfo": {
     "elapsed": 6,
     "status": "ok",
     "timestamp": 1641851784298,
     "user": {
      "displayName": "Carl Grandmont",
      "photoUrl": "https://lh3.googleusercontent.com/a-/AOh14GiDPL6ta2d4oBPET8l9vFCvaEwSvBpDv9VBpjeXPw=s64",
      "userId": "07472538960919752630"
     },
     "user_tz": 300
    },
    "id": "hfXH2YZd-I8n",
    "outputId": "06bace99-ce6f-44ba-f826-30c5eee81a27"
   },
   "outputs": [
    {
     "name": "stdout",
     "output_type": "stream",
     "text": [
      "myarray: \n",
      " [[  0]\n",
      " [ 25]\n",
      " [ 50]\n",
      " [ 75]\n",
      " [100]] \n",
      "\n",
      " myarray_norm: \n",
      " [[0.]\n",
      " [1.]\n",
      " [1.]\n",
      " [1.]\n",
      " [1.]]\n"
     ]
    }
   ],
   "source": [
    "# Exemple avec le array simple\n",
    "norm_scaler = Normalizer()\n",
    "myarray_norm = norm_scaler.fit_transform(myarray)\n",
    "print(f'myarray: \\n {myarray} \\n\\n myarray_norm: \\n {myarray_norm}')"
   ]
  },
  {
   "cell_type": "code",
   "execution_count": null,
   "metadata": {
    "colab": {
     "base_uri": "https://localhost:8080/"
    },
    "executionInfo": {
     "elapsed": 246,
     "status": "ok",
     "timestamp": 1641851787954,
     "user": {
      "displayName": "Carl Grandmont",
      "photoUrl": "https://lh3.googleusercontent.com/a-/AOh14GiDPL6ta2d4oBPET8l9vFCvaEwSvBpDv9VBpjeXPw=s64",
      "userId": "07472538960919752630"
     },
     "user_tz": 300
    },
    "id": "gEFDWlax6kHZ",
    "outputId": "5884e073-7ba3-475c-9a24-ffdeee2d2830"
   },
   "outputs": [
    {
     "name": "stdout",
     "output_type": "stream",
     "text": [
      "[[0.034 0.828 0.403 0.196 0.    0.188 0.004 0.28 ]\n",
      " [0.008 0.716 0.556 0.244 0.    0.224 0.003 0.261]\n",
      " [0.04  0.924 0.323 0.    0.    0.118 0.003 0.162]\n",
      " [0.007 0.588 0.436 0.152 0.622 0.186 0.001 0.139]\n",
      " [0.    0.596 0.174 0.152 0.731 0.188 0.01  0.144]]\n"
     ]
    }
   ],
   "source": [
    "# Exemple avec diabetes\n",
    "\n",
    "# Activer normalizer\n",
    "scaler = Normalizer()\n",
    "\n",
    "# Transformer les données\n",
    "X_scaled = scaler.fit_transform(X)\n",
    "\n",
    "# Imprimer les valeurs d'entrée transformées (5 premières lignes seulement)\n",
    "set_printoptions(precision=3)\n",
    "print(X_scaled[0:5,:])"
   ]
  },
  {
   "cell_type": "markdown",
   "metadata": {
    "id": "CKMauteI69d4"
   },
   "source": [
    "## 6.4 Binariser les données"
   ]
  },
  {
   "cell_type": "code",
   "execution_count": null,
   "metadata": {
    "id": "ID5yDerP6-38"
   },
   "outputs": [],
   "source": [
    "from sklearn.preprocessing import Binarizer"
   ]
  },
  {
   "cell_type": "code",
   "execution_count": null,
   "metadata": {
    "colab": {
     "base_uri": "https://localhost:8080/"
    },
    "executionInfo": {
     "elapsed": 263,
     "status": "ok",
     "timestamp": 1641851796037,
     "user": {
      "displayName": "Carl Grandmont",
      "photoUrl": "https://lh3.googleusercontent.com/a-/AOh14GiDPL6ta2d4oBPET8l9vFCvaEwSvBpDv9VBpjeXPw=s64",
      "userId": "07472538960919752630"
     },
     "user_tz": 300
    },
    "id": "idFesWrH-I1b",
    "outputId": "aa8dc9f2-44af-4a65-b1de-ef21c2d2a22a"
   },
   "outputs": [
    {
     "name": "stdout",
     "output_type": "stream",
     "text": [
      "myarray: \n",
      " [[  0]\n",
      " [ 25]\n",
      " [ 50]\n",
      " [ 75]\n",
      " [100]] \n",
      "\n",
      " myarray_bin: \n",
      " [[0]\n",
      " [0]\n",
      " [0]\n",
      " [1]\n",
      " [1]]\n"
     ]
    }
   ],
   "source": [
    "# Exemple avec le array simple\n",
    "bin_scaler = Binarizer(threshold=50)\n",
    "myarray_bin = bin_scaler.fit_transform(myarray)\n",
    "print(f'myarray: \\n {myarray} \\n\\n myarray_bin: \\n {myarray_bin}')"
   ]
  },
  {
   "cell_type": "code",
   "execution_count": null,
   "metadata": {
    "colab": {
     "base_uri": "https://localhost:8080/",
     "height": 206
    },
    "executionInfo": {
     "elapsed": 814,
     "status": "ok",
     "timestamp": 1641851802034,
     "user": {
      "displayName": "Carl Grandmont",
      "photoUrl": "https://lh3.googleusercontent.com/a-/AOh14GiDPL6ta2d4oBPET8l9vFCvaEwSvBpDv9VBpjeXPw=s64",
      "userId": "07472538960919752630"
     },
     "user_tz": 300
    },
    "id": "ZhYH95mygMCS",
    "outputId": "5280977b-2f93-4ae6-bfaa-00822ac01b6d"
   },
   "outputs": [
    {
     "data": {
      "text/html": [
       "\n",
       "  <div id=\"df-a06125dd-f418-4816-97a5-7c674efdfe17\">\n",
       "    <div class=\"colab-df-container\">\n",
       "      <div>\n",
       "<style scoped>\n",
       "    .dataframe tbody tr th:only-of-type {\n",
       "        vertical-align: middle;\n",
       "    }\n",
       "\n",
       "    .dataframe tbody tr th {\n",
       "        vertical-align: top;\n",
       "    }\n",
       "\n",
       "    .dataframe thead th {\n",
       "        text-align: right;\n",
       "    }\n",
       "</style>\n",
       "<table border=\"1\" class=\"dataframe\">\n",
       "  <thead>\n",
       "    <tr style=\"text-align: right;\">\n",
       "      <th></th>\n",
       "      <th>preg</th>\n",
       "      <th>plas</th>\n",
       "      <th>pres</th>\n",
       "      <th>skin</th>\n",
       "      <th>test</th>\n",
       "      <th>mass</th>\n",
       "      <th>pedi</th>\n",
       "      <th>age</th>\n",
       "      <th>class</th>\n",
       "    </tr>\n",
       "  </thead>\n",
       "  <tbody>\n",
       "    <tr>\n",
       "      <th>0</th>\n",
       "      <td>6</td>\n",
       "      <td>148</td>\n",
       "      <td>72</td>\n",
       "      <td>35</td>\n",
       "      <td>0</td>\n",
       "      <td>33.6</td>\n",
       "      <td>0.627</td>\n",
       "      <td>50</td>\n",
       "      <td>1</td>\n",
       "    </tr>\n",
       "    <tr>\n",
       "      <th>1</th>\n",
       "      <td>1</td>\n",
       "      <td>85</td>\n",
       "      <td>66</td>\n",
       "      <td>29</td>\n",
       "      <td>0</td>\n",
       "      <td>26.6</td>\n",
       "      <td>0.351</td>\n",
       "      <td>31</td>\n",
       "      <td>0</td>\n",
       "    </tr>\n",
       "    <tr>\n",
       "      <th>2</th>\n",
       "      <td>8</td>\n",
       "      <td>183</td>\n",
       "      <td>64</td>\n",
       "      <td>0</td>\n",
       "      <td>0</td>\n",
       "      <td>23.3</td>\n",
       "      <td>0.672</td>\n",
       "      <td>32</td>\n",
       "      <td>1</td>\n",
       "    </tr>\n",
       "    <tr>\n",
       "      <th>3</th>\n",
       "      <td>1</td>\n",
       "      <td>89</td>\n",
       "      <td>66</td>\n",
       "      <td>23</td>\n",
       "      <td>94</td>\n",
       "      <td>28.1</td>\n",
       "      <td>0.167</td>\n",
       "      <td>21</td>\n",
       "      <td>0</td>\n",
       "    </tr>\n",
       "    <tr>\n",
       "      <th>4</th>\n",
       "      <td>0</td>\n",
       "      <td>137</td>\n",
       "      <td>40</td>\n",
       "      <td>35</td>\n",
       "      <td>168</td>\n",
       "      <td>43.1</td>\n",
       "      <td>2.288</td>\n",
       "      <td>33</td>\n",
       "      <td>1</td>\n",
       "    </tr>\n",
       "  </tbody>\n",
       "</table>\n",
       "</div>\n",
       "      <button class=\"colab-df-convert\" onclick=\"convertToInteractive('df-a06125dd-f418-4816-97a5-7c674efdfe17')\"\n",
       "              title=\"Convert this dataframe to an interactive table.\"\n",
       "              style=\"display:none;\">\n",
       "        \n",
       "  <svg xmlns=\"http://www.w3.org/2000/svg\" height=\"24px\"viewBox=\"0 0 24 24\"\n",
       "       width=\"24px\">\n",
       "    <path d=\"M0 0h24v24H0V0z\" fill=\"none\"/>\n",
       "    <path d=\"M18.56 5.44l.94 2.06.94-2.06 2.06-.94-2.06-.94-.94-2.06-.94 2.06-2.06.94zm-11 1L8.5 8.5l.94-2.06 2.06-.94-2.06-.94L8.5 2.5l-.94 2.06-2.06.94zm10 10l.94 2.06.94-2.06 2.06-.94-2.06-.94-.94-2.06-.94 2.06-2.06.94z\"/><path d=\"M17.41 7.96l-1.37-1.37c-.4-.4-.92-.59-1.43-.59-.52 0-1.04.2-1.43.59L10.3 9.45l-7.72 7.72c-.78.78-.78 2.05 0 2.83L4 21.41c.39.39.9.59 1.41.59.51 0 1.02-.2 1.41-.59l7.78-7.78 2.81-2.81c.8-.78.8-2.07 0-2.86zM5.41 20L4 18.59l7.72-7.72 1.47 1.35L5.41 20z\"/>\n",
       "  </svg>\n",
       "      </button>\n",
       "      \n",
       "  <style>\n",
       "    .colab-df-container {\n",
       "      display:flex;\n",
       "      flex-wrap:wrap;\n",
       "      gap: 12px;\n",
       "    }\n",
       "\n",
       "    .colab-df-convert {\n",
       "      background-color: #E8F0FE;\n",
       "      border: none;\n",
       "      border-radius: 50%;\n",
       "      cursor: pointer;\n",
       "      display: none;\n",
       "      fill: #1967D2;\n",
       "      height: 32px;\n",
       "      padding: 0 0 0 0;\n",
       "      width: 32px;\n",
       "    }\n",
       "\n",
       "    .colab-df-convert:hover {\n",
       "      background-color: #E2EBFA;\n",
       "      box-shadow: 0px 1px 2px rgba(60, 64, 67, 0.3), 0px 1px 3px 1px rgba(60, 64, 67, 0.15);\n",
       "      fill: #174EA6;\n",
       "    }\n",
       "\n",
       "    [theme=dark] .colab-df-convert {\n",
       "      background-color: #3B4455;\n",
       "      fill: #D2E3FC;\n",
       "    }\n",
       "\n",
       "    [theme=dark] .colab-df-convert:hover {\n",
       "      background-color: #434B5C;\n",
       "      box-shadow: 0px 1px 3px 1px rgba(0, 0, 0, 0.15);\n",
       "      filter: drop-shadow(0px 1px 2px rgba(0, 0, 0, 0.3));\n",
       "      fill: #FFFFFF;\n",
       "    }\n",
       "  </style>\n",
       "\n",
       "      <script>\n",
       "        const buttonEl =\n",
       "          document.querySelector('#df-a06125dd-f418-4816-97a5-7c674efdfe17 button.colab-df-convert');\n",
       "        buttonEl.style.display =\n",
       "          google.colab.kernel.accessAllowed ? 'block' : 'none';\n",
       "\n",
       "        async function convertToInteractive(key) {\n",
       "          const element = document.querySelector('#df-a06125dd-f418-4816-97a5-7c674efdfe17');\n",
       "          const dataTable =\n",
       "            await google.colab.kernel.invokeFunction('convertToInteractive',\n",
       "                                                     [key], {});\n",
       "          if (!dataTable) return;\n",
       "\n",
       "          const docLinkHtml = 'Like what you see? Visit the ' +\n",
       "            '<a target=\"_blank\" href=https://colab.research.google.com/notebooks/data_table.ipynb>data table notebook</a>'\n",
       "            + ' to learn more about interactive tables.';\n",
       "          element.innerHTML = '';\n",
       "          dataTable['output_type'] = 'display_data';\n",
       "          await google.colab.output.renderOutput(dataTable, element);\n",
       "          const docLink = document.createElement('div');\n",
       "          docLink.innerHTML = docLinkHtml;\n",
       "          element.appendChild(docLink);\n",
       "        }\n",
       "      </script>\n",
       "    </div>\n",
       "  </div>\n",
       "  "
      ],
      "text/plain": [
       "   preg  plas  pres  skin  test  mass   pedi  age  class\n",
       "0     6   148    72    35     0  33.6  0.627   50      1\n",
       "1     1    85    66    29     0  26.6  0.351   31      0\n",
       "2     8   183    64     0     0  23.3  0.672   32      1\n",
       "3     1    89    66    23    94  28.1  0.167   21      0\n",
       "4     0   137    40    35   168  43.1  2.288   33      1"
      ]
     },
     "execution_count": 37,
     "metadata": {},
     "output_type": "execute_result"
    }
   ],
   "source": [
    "data.head()"
   ]
  },
  {
   "cell_type": "code",
   "execution_count": null,
   "metadata": {
    "colab": {
     "base_uri": "https://localhost:8080/"
    },
    "executionInfo": {
     "elapsed": 257,
     "status": "ok",
     "timestamp": 1641851823592,
     "user": {
      "displayName": "Carl Grandmont",
      "photoUrl": "https://lh3.googleusercontent.com/a-/AOh14GiDPL6ta2d4oBPET8l9vFCvaEwSvBpDv9VBpjeXPw=s64",
      "userId": "07472538960919752630"
     },
     "user_tz": 300
    },
    "id": "jVtdXQFV6-39",
    "outputId": "3f5504b3-dfe3-4500-c657-e4c93d228c2a"
   },
   "outputs": [
    {
     "name": "stdout",
     "output_type": "stream",
     "text": [
      "[[1. 1. 1. 1. 0. 1. 1. 1.]\n",
      " [1. 1. 1. 1. 0. 1. 1. 1.]\n",
      " [1. 1. 1. 0. 0. 1. 1. 1.]\n",
      " [1. 1. 1. 1. 1. 1. 1. 1.]\n",
      " [0. 1. 1. 1. 1. 1. 1. 1.]]\n"
     ]
    }
   ],
   "source": [
    "# Activer Binarizer avec un seuil de 0\n",
    "scaler = Binarizer(threshold=0)\n",
    "\n",
    "# Transformer les données\n",
    "X_scaled = scaler.fit_transform(X)\n",
    "\n",
    "# Imprimer les valeurs d'entrée transformées (5 premières lignes seulement)\n",
    "set_printoptions(precision=3)\n",
    "print(X_scaled[0:5,:])"
   ]
  },
  {
   "cell_type": "code",
   "execution_count": null,
   "metadata": {
    "colab": {
     "base_uri": "https://localhost:8080/"
    },
    "executionInfo": {
     "elapsed": 259,
     "status": "ok",
     "timestamp": 1641851827488,
     "user": {
      "displayName": "Carl Grandmont",
      "photoUrl": "https://lh3.googleusercontent.com/a-/AOh14GiDPL6ta2d4oBPET8l9vFCvaEwSvBpDv9VBpjeXPw=s64",
      "userId": "07472538960919752630"
     },
     "user_tz": 300
    },
    "id": "xlmGT3E-68sI",
    "outputId": "009c3493-bb7b-4a3b-ccd2-09e50d58b399"
   },
   "outputs": [
    {
     "name": "stdout",
     "output_type": "stream",
     "text": [
      "[[0. 1. 1. 1. 0. 1. 0. 1.]\n",
      " [0. 1. 1. 1. 0. 1. 0. 1.]\n",
      " [0. 1. 1. 0. 0. 1. 0. 1.]\n",
      " [0. 1. 1. 1. 1. 1. 0. 1.]\n",
      " [0. 1. 1. 1. 1. 1. 0. 1.]]\n"
     ]
    }
   ],
   "source": [
    "# Exemple avec diabetes\n",
    "\n",
    "# Activer Binarizer avec un seuil de 20\n",
    "scaler = Binarizer(threshold=20)\n",
    "\n",
    "# Transformer les données\n",
    "X_scaled = scaler.fit_transform(X)\n",
    "\n",
    "# Imprimer les valeurs d'entrée transformées (5 premières lignes seulement)\n",
    "set_printoptions(precision=3)\n",
    "print(X_scaled[0:5,:])"
   ]
  },
  {
   "cell_type": "markdown",
   "metadata": {
    "id": "J3gEKihIKkzX"
   },
   "source": [
    "## **LEÇON #6 - EXERCICE CONTINU**\n",
    "\n",
    "> *Utiliser votre notebook individuel `notebook_pratique_classification_binaire.ipynb`*\n",
    "\n",
    "### Description\n",
    "En utilisant le notebook pratique que vous avez commencer à utiliser durant la dernière leçon, accomplir les tâches énumérées ci-dessous.\n",
    "\n",
    "> **Répondre aux questions dans une cellule de texte Markdown au fur et à mesure que vous progressez.**\n",
    "\n",
    "> **Refaites rouler le code en entier avant de commencer cet exercice.** Utiliser le menu Exécution/Tout exécuter pour y parvenir.\n",
    "\n",
    "## Tâches à accomplir :\n",
    "1. Questions théoriques sur le jeu de données\n",
    "  * **Question 1.1**: Y a-t-il des variables catégoriques dans le jeu de données? \n",
    "  * **Question 1.2**: Identifier le type de données pour chacune des variables.\n",
    "2. Préparer les données de `banknotes` pour effectuer les transformations.\n",
    "3. Appliquer au jeu de données `banknotes` les 4 méthodes de transformation vues dans cette leçon. Prenez bien soin de les nommer au fur et à mesure.\n",
    "  * **Question 2.1** : En fonction de ce qu'on a vu dans les 2 dernières leçons (statistiques descriptives et visualisations), parmis les 4 transformations, y en a-t-il une qui vous paraît plus adéquate pour les données de `banknote`? Veuillez la nommer et expliquer votre réflexion en 1-2 phrases.\n"
   ]
  },
  {
   "cell_type": "code",
   "execution_count": null,
   "metadata": {},
   "outputs": [],
   "source": []
  }
 ],
 "metadata": {
  "colab": {
   "collapsed_sections": [],
   "name": "leçon_6_théorie.ipynb",
   "provenance": []
  },
  "kernelspec": {
   "display_name": "Python 3",
   "name": "python3"
  },
  "language_info": {
   "name": "python"
  }
 },
 "nbformat": 4,
 "nbformat_minor": 0
}
