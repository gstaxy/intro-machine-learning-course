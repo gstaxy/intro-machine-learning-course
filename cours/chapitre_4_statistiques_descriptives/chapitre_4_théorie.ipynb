{
 "cells": [
  {
   "cell_type": "markdown",
   "metadata": {
    "id": "CcfUC1mVEm_u"
   },
   "source": [
    "# Atelier théorique #4 - **Statistiques descriptives**\n",
    "\n",
    "## Objectifs de cette leçon\n",
    "1. Obtenir un **aperçu des données**\n",
    "2. Réviser les **dimensions du jeu de données**\n",
    "3. Identifier les **types de variables** dans le jeu de données\n",
    "5. Faire un **sommaire des classes** de la variable à prédire\n",
    "6. Effectuer des **statistiques descriptives** sur les variables du jeu de données\n",
    "7. Observer la **distribution des variables** du jeu de données\n",
    "\n",
    "> Les étapes montrées dans ce Notebook sont utilisées dans CHAQUE projet d'apprentissage automatique."
   ]
  },
  {
   "cell_type": "code",
   "execution_count": null,
   "metadata": {
    "id": "965CMXkSDGox"
   },
   "outputs": [],
   "source": [
    "# Importer la librairie pandas\n",
    "import pandas as pd\n",
    "\n",
    "# Télécharger le jeu de données\n",
    "data = pd.read_csv('diabetes.csv')\n",
    "\n",
    "# Remplacer le nom des colonnes\n",
    "colnames = ['preg', 'plas', 'pres', 'skin', 'test', 'mass', 'pedi', 'age', 'class']\n",
    "data.columns = colnames"
   ]
  },
  {
   "cell_type": "markdown",
   "metadata": {
    "id": "YSKlHrf0JuJm"
   },
   "source": [
    "### 1. Aperçu des données\n",
    "\n",
    "Jeter un coup d'oeil aux données brutes permet de révéler des indices qu'il n'est pas possible de découvrir autrement.\n",
    "\n",
    "On peut utiliser la fonction `.head()` pour un aperçu des premières lignes ou  la fonction `.tail()` pour un aperçu des dernières lignes.\n",
    "\n",
    "Documentation : \n",
    "* head : https://pandas.pydata.org/pandas-docs/stable/reference/api/pandas.DataFrame.head.html\n",
    "* tail : https://pandas.pydata.org/pandas-docs/stable/reference/api/pandas.DataFrame.tail.html#pandas.DataFrame.tail\n",
    "\n",
    "\n",
    "#### L'intuition\n",
    "Observer les données brutes offre aussi l'occasion de développer notre **intuition** sur les données. En visualisant les données tabulaires, on parvient à comprendre mieux l'utilité des données et cela nous permettra de développer des modèles plus adéquats dans les prochaines étapes. **L'intuition est une des qualité essentielle à acquérir pour devenir un scientifique de données.**\n",
    "\n",
    "\n",
    "\n"
   ]
  },
  {
   "cell_type": "code",
   "execution_count": null,
   "metadata": {
    "colab": {
     "base_uri": "https://localhost:8080/",
     "height": 361
    },
    "executionInfo": {
     "elapsed": 153,
     "status": "ok",
     "timestamp": 1629983854849,
     "user": {
      "displayName": "Guillaume Slevan-Tremblay",
      "photoUrl": "",
      "userId": "06724317504996977159"
     },
     "user_tz": 420
    },
    "id": "D2XdMPS_Kbcd",
    "outputId": "65f012e7-3455-4631-d5e0-0cbc5afb248c"
   },
   "outputs": [
    {
     "data": {
      "text/html": [
       "<div>\n",
       "<style scoped>\n",
       "    .dataframe tbody tr th:only-of-type {\n",
       "        vertical-align: middle;\n",
       "    }\n",
       "\n",
       "    .dataframe tbody tr th {\n",
       "        vertical-align: top;\n",
       "    }\n",
       "\n",
       "    .dataframe thead th {\n",
       "        text-align: right;\n",
       "    }\n",
       "</style>\n",
       "<table border=\"1\" class=\"dataframe\">\n",
       "  <thead>\n",
       "    <tr style=\"text-align: right;\">\n",
       "      <th></th>\n",
       "      <th>preg</th>\n",
       "      <th>plas</th>\n",
       "      <th>pres</th>\n",
       "      <th>skin</th>\n",
       "      <th>test</th>\n",
       "      <th>mass</th>\n",
       "      <th>pedi</th>\n",
       "      <th>age</th>\n",
       "      <th>class</th>\n",
       "    </tr>\n",
       "  </thead>\n",
       "  <tbody>\n",
       "    <tr>\n",
       "      <th>0</th>\n",
       "      <td>6</td>\n",
       "      <td>148</td>\n",
       "      <td>72</td>\n",
       "      <td>35</td>\n",
       "      <td>0</td>\n",
       "      <td>33.6</td>\n",
       "      <td>0.627</td>\n",
       "      <td>50</td>\n",
       "      <td>1</td>\n",
       "    </tr>\n",
       "    <tr>\n",
       "      <th>1</th>\n",
       "      <td>1</td>\n",
       "      <td>85</td>\n",
       "      <td>66</td>\n",
       "      <td>29</td>\n",
       "      <td>0</td>\n",
       "      <td>26.6</td>\n",
       "      <td>0.351</td>\n",
       "      <td>31</td>\n",
       "      <td>0</td>\n",
       "    </tr>\n",
       "    <tr>\n",
       "      <th>2</th>\n",
       "      <td>8</td>\n",
       "      <td>183</td>\n",
       "      <td>64</td>\n",
       "      <td>0</td>\n",
       "      <td>0</td>\n",
       "      <td>23.3</td>\n",
       "      <td>0.672</td>\n",
       "      <td>32</td>\n",
       "      <td>1</td>\n",
       "    </tr>\n",
       "    <tr>\n",
       "      <th>3</th>\n",
       "      <td>1</td>\n",
       "      <td>89</td>\n",
       "      <td>66</td>\n",
       "      <td>23</td>\n",
       "      <td>94</td>\n",
       "      <td>28.1</td>\n",
       "      <td>0.167</td>\n",
       "      <td>21</td>\n",
       "      <td>0</td>\n",
       "    </tr>\n",
       "    <tr>\n",
       "      <th>4</th>\n",
       "      <td>0</td>\n",
       "      <td>137</td>\n",
       "      <td>40</td>\n",
       "      <td>35</td>\n",
       "      <td>168</td>\n",
       "      <td>43.1</td>\n",
       "      <td>2.288</td>\n",
       "      <td>33</td>\n",
       "      <td>1</td>\n",
       "    </tr>\n",
       "    <tr>\n",
       "      <th>5</th>\n",
       "      <td>5</td>\n",
       "      <td>116</td>\n",
       "      <td>74</td>\n",
       "      <td>0</td>\n",
       "      <td>0</td>\n",
       "      <td>25.6</td>\n",
       "      <td>0.201</td>\n",
       "      <td>30</td>\n",
       "      <td>0</td>\n",
       "    </tr>\n",
       "    <tr>\n",
       "      <th>6</th>\n",
       "      <td>3</td>\n",
       "      <td>78</td>\n",
       "      <td>50</td>\n",
       "      <td>32</td>\n",
       "      <td>88</td>\n",
       "      <td>31.0</td>\n",
       "      <td>0.248</td>\n",
       "      <td>26</td>\n",
       "      <td>1</td>\n",
       "    </tr>\n",
       "    <tr>\n",
       "      <th>7</th>\n",
       "      <td>10</td>\n",
       "      <td>115</td>\n",
       "      <td>0</td>\n",
       "      <td>0</td>\n",
       "      <td>0</td>\n",
       "      <td>35.3</td>\n",
       "      <td>0.134</td>\n",
       "      <td>29</td>\n",
       "      <td>0</td>\n",
       "    </tr>\n",
       "    <tr>\n",
       "      <th>8</th>\n",
       "      <td>2</td>\n",
       "      <td>197</td>\n",
       "      <td>70</td>\n",
       "      <td>45</td>\n",
       "      <td>543</td>\n",
       "      <td>30.5</td>\n",
       "      <td>0.158</td>\n",
       "      <td>53</td>\n",
       "      <td>1</td>\n",
       "    </tr>\n",
       "    <tr>\n",
       "      <th>9</th>\n",
       "      <td>8</td>\n",
       "      <td>125</td>\n",
       "      <td>96</td>\n",
       "      <td>0</td>\n",
       "      <td>0</td>\n",
       "      <td>0.0</td>\n",
       "      <td>0.232</td>\n",
       "      <td>54</td>\n",
       "      <td>1</td>\n",
       "    </tr>\n",
       "  </tbody>\n",
       "</table>\n",
       "</div>"
      ],
      "text/plain": [
       "   preg  plas  pres  skin  test  mass   pedi  age  class\n",
       "0     6   148    72    35     0  33.6  0.627   50      1\n",
       "1     1    85    66    29     0  26.6  0.351   31      0\n",
       "2     8   183    64     0     0  23.3  0.672   32      1\n",
       "3     1    89    66    23    94  28.1  0.167   21      0\n",
       "4     0   137    40    35   168  43.1  2.288   33      1\n",
       "5     5   116    74     0     0  25.6  0.201   30      0\n",
       "6     3    78    50    32    88  31.0  0.248   26      1\n",
       "7    10   115     0     0     0  35.3  0.134   29      0\n",
       "8     2   197    70    45   543  30.5  0.158   53      1\n",
       "9     8   125    96     0     0   0.0  0.232   54      1"
      ]
     },
     "execution_count": 5,
     "metadata": {},
     "output_type": "execute_result"
    }
   ],
   "source": [
    "# Aperçu des 20 premières lignes du jeu de données\n",
    "data.head(10)"
   ]
  },
  {
   "cell_type": "markdown",
   "metadata": {
    "id": "K-FRAoe7RVSL"
   },
   "source": [
    "### 2. Dimensions du jeu de données\n",
    "\n",
    "On peut obtenir les dimensions et la grandeur du jeu de données avec la propriété `.shape`.\n",
    "\n",
    "Il est aussi possible d'extraire les titres de colonnes et de lignes avec `.columns` et `.index`.\n",
    "\n",
    "Documentation : \n",
    "* shape : https://pandas.pydata.org/pandas-docs/stable/reference/api/pandas.DataFrame.shape.html\n",
    "* columns : https://pandas.pydata.org/pandas-docs/stable/reference/api/pandas.DataFrame.columns.html\n",
    "* index : https://pandas.pydata.org/pandas-docs/stable/reference/api/pandas.DataFrame.index.html"
   ]
  },
  {
   "cell_type": "code",
   "execution_count": null,
   "metadata": {
    "colab": {
     "base_uri": "https://localhost:8080/"
    },
    "executionInfo": {
     "elapsed": 266,
     "status": "ok",
     "timestamp": 1629983954734,
     "user": {
      "displayName": "Guillaume Slevan-Tremblay",
      "photoUrl": "",
      "userId": "06724317504996977159"
     },
     "user_tz": 420
    },
    "id": "vbJRJ2uAL5TQ",
    "outputId": "331a81ac-7511-4498-d87e-19bd7d7af6e2"
   },
   "outputs": [
    {
     "data": {
      "text/plain": [
       "(768, 9)"
      ]
     },
     "execution_count": 6,
     "metadata": {},
     "output_type": "execute_result"
    }
   ],
   "source": [
    "# Dimension du jeu de données\n",
    "data.shape"
   ]
  },
  {
   "cell_type": "code",
   "execution_count": null,
   "metadata": {
    "colab": {
     "base_uri": "https://localhost:8080/"
    },
    "executionInfo": {
     "elapsed": 233,
     "status": "ok",
     "timestamp": 1629983997536,
     "user": {
      "displayName": "Guillaume Slevan-Tremblay",
      "photoUrl": "",
      "userId": "06724317504996977159"
     },
     "user_tz": 420
    },
    "id": "QD5WvfFwVOXq",
    "outputId": "fd738ed6-beac-487d-b064-104ca6e59a2a"
   },
   "outputs": [
    {
     "data": {
      "text/plain": [
       "Index(['preg', 'plas', 'pres', 'skin', 'test', 'mass', 'pedi', 'age', 'class'], dtype='object')"
      ]
     },
     "execution_count": 7,
     "metadata": {},
     "output_type": "execute_result"
    }
   ],
   "source": [
    "# Noms des colonnes\n",
    "data.columns"
   ]
  },
  {
   "cell_type": "code",
   "execution_count": null,
   "metadata": {
    "colab": {
     "base_uri": "https://localhost:8080/"
    },
    "executionInfo": {
     "elapsed": 135,
     "status": "ok",
     "timestamp": 1629984043116,
     "user": {
      "displayName": "Guillaume Slevan-Tremblay",
      "photoUrl": "",
      "userId": "06724317504996977159"
     },
     "user_tz": 420
    },
    "id": "Ams8jjtgVW2h",
    "outputId": "4ccac1a4-ebe9-4b45-c517-f38471007a06"
   },
   "outputs": [
    {
     "data": {
      "text/plain": [
       "RangeIndex(start=0, stop=768, step=1)"
      ]
     },
     "execution_count": 8,
     "metadata": {},
     "output_type": "execute_result"
    }
   ],
   "source": [
    "# Index des lignes\n",
    "data.index"
   ]
  },
  {
   "cell_type": "code",
   "execution_count": null,
   "metadata": {
    "colab": {
     "base_uri": "https://localhost:8080/"
    },
    "executionInfo": {
     "elapsed": 175,
     "status": "ok",
     "timestamp": 1629984226833,
     "user": {
      "displayName": "Guillaume Slevan-Tremblay",
      "photoUrl": "",
      "userId": "06724317504996977159"
     },
     "user_tz": 420
    },
    "id": "PbCbg2lrVl1G",
    "outputId": "011e1728-cea2-46fa-d687-c608c6cec576"
   },
   "outputs": [
    {
     "name": "stdout",
     "output_type": "stream",
     "text": [
      "Nombre de colonnes: 9\n",
      "Nombre de lignes: 768\n"
     ]
    }
   ],
   "source": [
    "# Nombre de colonnes\n",
    "print(f'Nombre de colonnes: {len(data.columns)}')\n",
    "print(f'Nombre de lignes: {len(data.index)}')"
   ]
  },
  {
   "cell_type": "markdown",
   "metadata": {
    "id": "7KXSvRs2SAQg"
   },
   "source": [
    "Les résultats indiquent que le jeu de données contient **768 lignes** et **9 colonnes**.\n",
    "\n",
    "Quelques points importants : \n",
    "1. Trop de lignes pourrait ralentir l'entraînement des algorithmes et la manipulation des données.\n",
    "2. Trop de colonnes pourrait réduire la performance des algorithmes et nuire à l'explication des modèles."
   ]
  },
  {
   "cell_type": "markdown",
   "metadata": {
    "id": "p_CNDof9USJA"
   },
   "source": [
    "### 3. Types de données\n",
    "\n",
    "Il est essentiel d'identifier les types de données qui sont présents dans un jeu de données avant de commencer à le manipuler et à faire des analyses. \n",
    "\n",
    "La propriété `.dtypes` et la méthode `.info()` permettent tous deux d'explorer les types de données. \n",
    "\n",
    "Documentation : \n",
    "* dtypes : https://pandas.pydata.org/pandas-docs/stable/reference/api/pandas.DataFrame.dtypes.html\n",
    "* info() : https://pandas.pydata.org/pandas-docs/stable/reference/api/pandas.DataFrame.info.html \n"
   ]
  },
  {
   "cell_type": "code",
   "execution_count": null,
   "metadata": {
    "colab": {
     "base_uri": "https://localhost:8080/",
     "height": 205
    },
    "executionInfo": {
     "elapsed": 165,
     "status": "ok",
     "timestamp": 1629985552534,
     "user": {
      "displayName": "Guillaume Slevan-Tremblay",
      "photoUrl": "",
      "userId": "06724317504996977159"
     },
     "user_tz": 420
    },
    "id": "b2F_WjuHtZpF",
    "outputId": "28d07927-0f85-41d8-b33c-edb7768b9673"
   },
   "outputs": [
    {
     "data": {
      "text/html": [
       "<div>\n",
       "<style scoped>\n",
       "    .dataframe tbody tr th:only-of-type {\n",
       "        vertical-align: middle;\n",
       "    }\n",
       "\n",
       "    .dataframe tbody tr th {\n",
       "        vertical-align: top;\n",
       "    }\n",
       "\n",
       "    .dataframe thead th {\n",
       "        text-align: right;\n",
       "    }\n",
       "</style>\n",
       "<table border=\"1\" class=\"dataframe\">\n",
       "  <thead>\n",
       "    <tr style=\"text-align: right;\">\n",
       "      <th></th>\n",
       "      <th>preg</th>\n",
       "      <th>plas</th>\n",
       "      <th>pres</th>\n",
       "      <th>skin</th>\n",
       "      <th>test</th>\n",
       "      <th>mass</th>\n",
       "      <th>pedi</th>\n",
       "      <th>age</th>\n",
       "      <th>class</th>\n",
       "    </tr>\n",
       "  </thead>\n",
       "  <tbody>\n",
       "    <tr>\n",
       "      <th>0</th>\n",
       "      <td>6</td>\n",
       "      <td>148</td>\n",
       "      <td>72</td>\n",
       "      <td>35</td>\n",
       "      <td>0</td>\n",
       "      <td>33.6</td>\n",
       "      <td>0.627</td>\n",
       "      <td>50</td>\n",
       "      <td>1</td>\n",
       "    </tr>\n",
       "    <tr>\n",
       "      <th>1</th>\n",
       "      <td>1</td>\n",
       "      <td>85</td>\n",
       "      <td>66</td>\n",
       "      <td>29</td>\n",
       "      <td>0</td>\n",
       "      <td>26.6</td>\n",
       "      <td>0.351</td>\n",
       "      <td>31</td>\n",
       "      <td>0</td>\n",
       "    </tr>\n",
       "    <tr>\n",
       "      <th>2</th>\n",
       "      <td>8</td>\n",
       "      <td>183</td>\n",
       "      <td>64</td>\n",
       "      <td>0</td>\n",
       "      <td>0</td>\n",
       "      <td>23.3</td>\n",
       "      <td>0.672</td>\n",
       "      <td>32</td>\n",
       "      <td>1</td>\n",
       "    </tr>\n",
       "    <tr>\n",
       "      <th>3</th>\n",
       "      <td>1</td>\n",
       "      <td>89</td>\n",
       "      <td>66</td>\n",
       "      <td>23</td>\n",
       "      <td>94</td>\n",
       "      <td>28.1</td>\n",
       "      <td>0.167</td>\n",
       "      <td>21</td>\n",
       "      <td>0</td>\n",
       "    </tr>\n",
       "    <tr>\n",
       "      <th>4</th>\n",
       "      <td>0</td>\n",
       "      <td>137</td>\n",
       "      <td>40</td>\n",
       "      <td>35</td>\n",
       "      <td>168</td>\n",
       "      <td>43.1</td>\n",
       "      <td>2.288</td>\n",
       "      <td>33</td>\n",
       "      <td>1</td>\n",
       "    </tr>\n",
       "  </tbody>\n",
       "</table>\n",
       "</div>"
      ],
      "text/plain": [
       "   preg  plas  pres  skin  test  mass   pedi  age  class\n",
       "0     6   148    72    35     0  33.6  0.627   50      1\n",
       "1     1    85    66    29     0  26.6  0.351   31      0\n",
       "2     8   183    64     0     0  23.3  0.672   32      1\n",
       "3     1    89    66    23    94  28.1  0.167   21      0\n",
       "4     0   137    40    35   168  43.1  2.288   33      1"
      ]
     },
     "execution_count": 10,
     "metadata": {},
     "output_type": "execute_result"
    }
   ],
   "source": [
    "data.head()"
   ]
  },
  {
   "cell_type": "code",
   "execution_count": null,
   "metadata": {
    "colab": {
     "base_uri": "https://localhost:8080/"
    },
    "executionInfo": {
     "elapsed": 300,
     "status": "ok",
     "timestamp": 1629985687616,
     "user": {
      "displayName": "Guillaume Slevan-Tremblay",
      "photoUrl": "",
      "userId": "06724317504996977159"
     },
     "user_tz": 420
    },
    "id": "ai7PkQm5R8G9",
    "outputId": "5f0d5d18-59cd-4cac-c660-8be22d86fc74"
   },
   "outputs": [
    {
     "data": {
      "text/plain": [
       "preg       int64\n",
       "plas       int64\n",
       "pres       int64\n",
       "skin       int64\n",
       "test       int64\n",
       "mass     float64\n",
       "pedi     float64\n",
       "age        int64\n",
       "class      int64\n",
       "dtype: object"
      ]
     },
     "execution_count": 11,
     "metadata": {},
     "output_type": "execute_result"
    }
   ],
   "source": [
    "# Pour chaque variable, obtenir seulement le type de données\n",
    "data.dtypes"
   ]
  },
  {
   "cell_type": "markdown",
   "metadata": {
    "id": "5rbsxHdeJZNv"
   },
   "source": [
    "En plus d'identifier les types de données, `.info()` permet aussi de voir s'il y a des **valeurs nulles** dans le jeu de données. "
   ]
  },
  {
   "cell_type": "code",
   "execution_count": null,
   "metadata": {
    "colab": {
     "base_uri": "https://localhost:8080/"
    },
    "executionInfo": {
     "elapsed": 159,
     "status": "ok",
     "timestamp": 1629985740366,
     "user": {
      "displayName": "Guillaume Slevan-Tremblay",
      "photoUrl": "",
      "userId": "06724317504996977159"
     },
     "user_tz": 420
    },
    "id": "OAet8LNRUXGK",
    "outputId": "fd07f36c-42cd-4b7f-8163-281e5b6fe55f"
   },
   "outputs": [
    {
     "name": "stdout",
     "output_type": "stream",
     "text": [
      "<class 'pandas.core.frame.DataFrame'>\n",
      "RangeIndex: 768 entries, 0 to 767\n",
      "Data columns (total 9 columns):\n",
      " #   Column  Non-Null Count  Dtype  \n",
      "---  ------  --------------  -----  \n",
      " 0   preg    768 non-null    int64  \n",
      " 1   plas    768 non-null    int64  \n",
      " 2   pres    768 non-null    int64  \n",
      " 3   skin    768 non-null    int64  \n",
      " 4   test    768 non-null    int64  \n",
      " 5   mass    768 non-null    float64\n",
      " 6   pedi    768 non-null    float64\n",
      " 7   age     768 non-null    int64  \n",
      " 8   class   768 non-null    int64  \n",
      "dtypes: float64(2), int64(7)\n",
      "memory usage: 54.1 KB\n"
     ]
    }
   ],
   "source": [
    "# Pour chaque variable, obtenir le type de données ET un compte de valeur non-nulle\n",
    "data.info()"
   ]
  },
  {
   "cell_type": "markdown",
   "metadata": {
    "id": "URP4JVp9Uv0g"
   },
   "source": [
    "### 4. Statistiques descriptives\n",
    "\n",
    "Voici l'information qu'il est possible d'obtenir avec `.describe()`.\n",
    "* Compte (count)\n",
    "* Moyenne (mean)\n",
    "* Écart-type (std)\n",
    "* Valeur minimum (min)\n",
    "* 25e percentile (25%)\n",
    "* Médiane (50%)\n",
    "* 75e percentile (75%)\n",
    "* Valeur maximum (max)\n",
    "\n",
    "Documentation : \n",
    "* describe : https://pandas.pydata.org/pandas-docs/stable/reference/api/pandas.DataFrame.describe.html#pandas.DataFrame.describe"
   ]
  },
  {
   "cell_type": "code",
   "execution_count": null,
   "metadata": {
    "colab": {
     "base_uri": "https://localhost:8080/",
     "height": 299
    },
    "executionInfo": {
     "elapsed": 143,
     "status": "ok",
     "timestamp": 1629987283827,
     "user": {
      "displayName": "Guillaume Slevan-Tremblay",
      "photoUrl": "",
      "userId": "06724317504996977159"
     },
     "user_tz": 420
    },
    "id": "vWMG7P6qU2wJ",
    "outputId": "77f8f724-5539-411b-bc39-5bb96b397dfb"
   },
   "outputs": [
    {
     "data": {
      "text/html": [
       "<div>\n",
       "<style scoped>\n",
       "    .dataframe tbody tr th:only-of-type {\n",
       "        vertical-align: middle;\n",
       "    }\n",
       "\n",
       "    .dataframe tbody tr th {\n",
       "        vertical-align: top;\n",
       "    }\n",
       "\n",
       "    .dataframe thead th {\n",
       "        text-align: right;\n",
       "    }\n",
       "</style>\n",
       "<table border=\"1\" class=\"dataframe\">\n",
       "  <thead>\n",
       "    <tr style=\"text-align: right;\">\n",
       "      <th></th>\n",
       "      <th>preg</th>\n",
       "      <th>plas</th>\n",
       "      <th>pres</th>\n",
       "      <th>skin</th>\n",
       "      <th>test</th>\n",
       "      <th>mass</th>\n",
       "      <th>pedi</th>\n",
       "      <th>age</th>\n",
       "      <th>class</th>\n",
       "    </tr>\n",
       "  </thead>\n",
       "  <tbody>\n",
       "    <tr>\n",
       "      <th>count</th>\n",
       "      <td>768.000000</td>\n",
       "      <td>768.000000</td>\n",
       "      <td>768.000000</td>\n",
       "      <td>768.000000</td>\n",
       "      <td>768.000000</td>\n",
       "      <td>768.000000</td>\n",
       "      <td>768.000000</td>\n",
       "      <td>768.000000</td>\n",
       "      <td>768.000000</td>\n",
       "    </tr>\n",
       "    <tr>\n",
       "      <th>mean</th>\n",
       "      <td>3.845052</td>\n",
       "      <td>120.894531</td>\n",
       "      <td>69.105469</td>\n",
       "      <td>20.536458</td>\n",
       "      <td>79.799479</td>\n",
       "      <td>31.992578</td>\n",
       "      <td>0.471876</td>\n",
       "      <td>33.240885</td>\n",
       "      <td>0.348958</td>\n",
       "    </tr>\n",
       "    <tr>\n",
       "      <th>std</th>\n",
       "      <td>3.369578</td>\n",
       "      <td>31.972618</td>\n",
       "      <td>19.355807</td>\n",
       "      <td>15.952218</td>\n",
       "      <td>115.244002</td>\n",
       "      <td>7.884160</td>\n",
       "      <td>0.331329</td>\n",
       "      <td>11.760232</td>\n",
       "      <td>0.476951</td>\n",
       "    </tr>\n",
       "    <tr>\n",
       "      <th>min</th>\n",
       "      <td>0.000000</td>\n",
       "      <td>0.000000</td>\n",
       "      <td>0.000000</td>\n",
       "      <td>0.000000</td>\n",
       "      <td>0.000000</td>\n",
       "      <td>0.000000</td>\n",
       "      <td>0.078000</td>\n",
       "      <td>21.000000</td>\n",
       "      <td>0.000000</td>\n",
       "    </tr>\n",
       "    <tr>\n",
       "      <th>25%</th>\n",
       "      <td>1.000000</td>\n",
       "      <td>99.000000</td>\n",
       "      <td>62.000000</td>\n",
       "      <td>0.000000</td>\n",
       "      <td>0.000000</td>\n",
       "      <td>27.300000</td>\n",
       "      <td>0.243750</td>\n",
       "      <td>24.000000</td>\n",
       "      <td>0.000000</td>\n",
       "    </tr>\n",
       "    <tr>\n",
       "      <th>50%</th>\n",
       "      <td>3.000000</td>\n",
       "      <td>117.000000</td>\n",
       "      <td>72.000000</td>\n",
       "      <td>23.000000</td>\n",
       "      <td>30.500000</td>\n",
       "      <td>32.000000</td>\n",
       "      <td>0.372500</td>\n",
       "      <td>29.000000</td>\n",
       "      <td>0.000000</td>\n",
       "    </tr>\n",
       "    <tr>\n",
       "      <th>75%</th>\n",
       "      <td>6.000000</td>\n",
       "      <td>140.250000</td>\n",
       "      <td>80.000000</td>\n",
       "      <td>32.000000</td>\n",
       "      <td>127.250000</td>\n",
       "      <td>36.600000</td>\n",
       "      <td>0.626250</td>\n",
       "      <td>41.000000</td>\n",
       "      <td>1.000000</td>\n",
       "    </tr>\n",
       "    <tr>\n",
       "      <th>max</th>\n",
       "      <td>17.000000</td>\n",
       "      <td>199.000000</td>\n",
       "      <td>122.000000</td>\n",
       "      <td>99.000000</td>\n",
       "      <td>846.000000</td>\n",
       "      <td>67.100000</td>\n",
       "      <td>2.420000</td>\n",
       "      <td>81.000000</td>\n",
       "      <td>1.000000</td>\n",
       "    </tr>\n",
       "  </tbody>\n",
       "</table>\n",
       "</div>"
      ],
      "text/plain": [
       "             preg        plas        pres  ...        pedi         age       class\n",
       "count  768.000000  768.000000  768.000000  ...  768.000000  768.000000  768.000000\n",
       "mean     3.845052  120.894531   69.105469  ...    0.471876   33.240885    0.348958\n",
       "std      3.369578   31.972618   19.355807  ...    0.331329   11.760232    0.476951\n",
       "min      0.000000    0.000000    0.000000  ...    0.078000   21.000000    0.000000\n",
       "25%      1.000000   99.000000   62.000000  ...    0.243750   24.000000    0.000000\n",
       "50%      3.000000  117.000000   72.000000  ...    0.372500   29.000000    0.000000\n",
       "75%      6.000000  140.250000   80.000000  ...    0.626250   41.000000    1.000000\n",
       "max     17.000000  199.000000  122.000000  ...    2.420000   81.000000    1.000000\n",
       "\n",
       "[8 rows x 9 columns]"
      ]
     },
     "execution_count": 13,
     "metadata": {},
     "output_type": "execute_result"
    }
   ],
   "source": [
    "# Obtenir une description sommaire des données\n",
    "data.describe()"
   ]
  },
  {
   "cell_type": "markdown",
   "metadata": {
    "id": "ouxQapdTWKPw"
   },
   "source": [
    "### 5. Sommaire des classes à prédire\n",
    "\n",
    "Tel que mentionné précédemment, la classe à prédire (communément appelé `target` ou `class`) doit aussi être explorer pour s'assurer d'avoir un jeu de données balancé.\n",
    "\n",
    "Documentation : \n",
    "* groupby() : https://pandas.pydata.org/pandas-docs/stable/reference/api/pandas.DataFrame.groupby.html\n",
    "* size() : https://pandas.pydata.org/pandas-docs/stable/reference/api/pandas.DataFrame.size.html "
   ]
  },
  {
   "cell_type": "code",
   "execution_count": null,
   "metadata": {
    "colab": {
     "base_uri": "https://localhost:8080/"
    },
    "executionInfo": {
     "elapsed": 133,
     "status": "ok",
     "timestamp": 1629990241116,
     "user": {
      "displayName": "Marie-Ève Malette",
      "photoUrl": "",
      "userId": "14146988184797558663"
     },
     "user_tz": 240
    },
    "id": "sf2BKb8uU8FP",
    "outputId": "cc5a0836-2084-4b49-9256-3ea73aa1871b"
   },
   "outputs": [
    {
     "data": {
      "text/plain": [
       "class\n",
       "0    500\n",
       "1    268\n",
       "dtype: int64"
      ]
     },
     "execution_count": 13,
     "metadata": {},
     "output_type": "execute_result"
    }
   ],
   "source": [
    "# Évaluer si le jeu de données est balancé\n",
    "data.groupby('class').size()"
   ]
  },
  {
   "cell_type": "code",
   "execution_count": null,
   "metadata": {
    "id": "SOmwYV_-CAp_"
   },
   "outputs": [],
   "source": []
  },
  {
   "cell_type": "markdown",
   "metadata": {
    "id": "gC1gDFQ_W-Xs"
   },
   "source": [
    "### 6. Corrélations entre les variables\n",
    "\n",
    "La matrice de corrélation permet de voir toutes les corrélations pour chaque paire de variables du jeu de données. \n",
    "\n",
    "La valeur de la corrélation suit un gradient de -1 à 1. Elle peut donc être...\n",
    "* Positive (+) ou Négative (-)\n",
    "* Forte (1 ou -1) ou Nulle (0)\n",
    "\n",
    "Documentation : \n",
    "* corr() : https://pandas.pydata.org/pandas-docs/stable/reference/api/pandas.DataFrame.corr.html "
   ]
  },
  {
   "cell_type": "code",
   "execution_count": null,
   "metadata": {
    "colab": {
     "base_uri": "https://localhost:8080/",
     "height": 331
    },
    "executionInfo": {
     "elapsed": 124,
     "status": "ok",
     "timestamp": 1629991225430,
     "user": {
      "displayName": "Marie-Ève Malette",
      "photoUrl": "",
      "userId": "14146988184797558663"
     },
     "user_tz": 240
    },
    "id": "adhUOEutWp9h",
    "outputId": "d174ce48-6830-42ec-c880-67c9d66c3be8"
   },
   "outputs": [
    {
     "data": {
      "text/html": [
       "<div>\n",
       "<style scoped>\n",
       "    .dataframe tbody tr th:only-of-type {\n",
       "        vertical-align: middle;\n",
       "    }\n",
       "\n",
       "    .dataframe tbody tr th {\n",
       "        vertical-align: top;\n",
       "    }\n",
       "\n",
       "    .dataframe thead th {\n",
       "        text-align: right;\n",
       "    }\n",
       "</style>\n",
       "<table border=\"1\" class=\"dataframe\">\n",
       "  <thead>\n",
       "    <tr style=\"text-align: right;\">\n",
       "      <th></th>\n",
       "      <th>preg</th>\n",
       "      <th>plas</th>\n",
       "      <th>pres</th>\n",
       "      <th>skin</th>\n",
       "      <th>test</th>\n",
       "      <th>mass</th>\n",
       "      <th>pedi</th>\n",
       "      <th>age</th>\n",
       "      <th>class</th>\n",
       "    </tr>\n",
       "  </thead>\n",
       "  <tbody>\n",
       "    <tr>\n",
       "      <th>preg</th>\n",
       "      <td>1.000000</td>\n",
       "      <td>0.129459</td>\n",
       "      <td>0.141282</td>\n",
       "      <td>-0.081672</td>\n",
       "      <td>-0.073535</td>\n",
       "      <td>0.017683</td>\n",
       "      <td>-0.033523</td>\n",
       "      <td>0.544341</td>\n",
       "      <td>0.221898</td>\n",
       "    </tr>\n",
       "    <tr>\n",
       "      <th>plas</th>\n",
       "      <td>0.129459</td>\n",
       "      <td>1.000000</td>\n",
       "      <td>0.152590</td>\n",
       "      <td>0.057328</td>\n",
       "      <td>0.331357</td>\n",
       "      <td>0.221071</td>\n",
       "      <td>0.137337</td>\n",
       "      <td>0.263514</td>\n",
       "      <td>0.466581</td>\n",
       "    </tr>\n",
       "    <tr>\n",
       "      <th>pres</th>\n",
       "      <td>0.141282</td>\n",
       "      <td>0.152590</td>\n",
       "      <td>1.000000</td>\n",
       "      <td>0.207371</td>\n",
       "      <td>0.088933</td>\n",
       "      <td>0.281805</td>\n",
       "      <td>0.041265</td>\n",
       "      <td>0.239528</td>\n",
       "      <td>0.065068</td>\n",
       "    </tr>\n",
       "    <tr>\n",
       "      <th>skin</th>\n",
       "      <td>-0.081672</td>\n",
       "      <td>0.057328</td>\n",
       "      <td>0.207371</td>\n",
       "      <td>1.000000</td>\n",
       "      <td>0.436783</td>\n",
       "      <td>0.392573</td>\n",
       "      <td>0.183928</td>\n",
       "      <td>-0.113970</td>\n",
       "      <td>0.074752</td>\n",
       "    </tr>\n",
       "    <tr>\n",
       "      <th>test</th>\n",
       "      <td>-0.073535</td>\n",
       "      <td>0.331357</td>\n",
       "      <td>0.088933</td>\n",
       "      <td>0.436783</td>\n",
       "      <td>1.000000</td>\n",
       "      <td>0.197859</td>\n",
       "      <td>0.185071</td>\n",
       "      <td>-0.042163</td>\n",
       "      <td>0.130548</td>\n",
       "    </tr>\n",
       "    <tr>\n",
       "      <th>mass</th>\n",
       "      <td>0.017683</td>\n",
       "      <td>0.221071</td>\n",
       "      <td>0.281805</td>\n",
       "      <td>0.392573</td>\n",
       "      <td>0.197859</td>\n",
       "      <td>1.000000</td>\n",
       "      <td>0.140647</td>\n",
       "      <td>0.036242</td>\n",
       "      <td>0.292695</td>\n",
       "    </tr>\n",
       "    <tr>\n",
       "      <th>pedi</th>\n",
       "      <td>-0.033523</td>\n",
       "      <td>0.137337</td>\n",
       "      <td>0.041265</td>\n",
       "      <td>0.183928</td>\n",
       "      <td>0.185071</td>\n",
       "      <td>0.140647</td>\n",
       "      <td>1.000000</td>\n",
       "      <td>0.033561</td>\n",
       "      <td>0.173844</td>\n",
       "    </tr>\n",
       "    <tr>\n",
       "      <th>age</th>\n",
       "      <td>0.544341</td>\n",
       "      <td>0.263514</td>\n",
       "      <td>0.239528</td>\n",
       "      <td>-0.113970</td>\n",
       "      <td>-0.042163</td>\n",
       "      <td>0.036242</td>\n",
       "      <td>0.033561</td>\n",
       "      <td>1.000000</td>\n",
       "      <td>0.238356</td>\n",
       "    </tr>\n",
       "    <tr>\n",
       "      <th>class</th>\n",
       "      <td>0.221898</td>\n",
       "      <td>0.466581</td>\n",
       "      <td>0.065068</td>\n",
       "      <td>0.074752</td>\n",
       "      <td>0.130548</td>\n",
       "      <td>0.292695</td>\n",
       "      <td>0.173844</td>\n",
       "      <td>0.238356</td>\n",
       "      <td>1.000000</td>\n",
       "    </tr>\n",
       "  </tbody>\n",
       "</table>\n",
       "</div>"
      ],
      "text/plain": [
       "           preg      plas      pres  ...      pedi       age     class\n",
       "preg   1.000000  0.129459  0.141282  ... -0.033523  0.544341  0.221898\n",
       "plas   0.129459  1.000000  0.152590  ...  0.137337  0.263514  0.466581\n",
       "pres   0.141282  0.152590  1.000000  ...  0.041265  0.239528  0.065068\n",
       "skin  -0.081672  0.057328  0.207371  ...  0.183928 -0.113970  0.074752\n",
       "test  -0.073535  0.331357  0.088933  ...  0.185071 -0.042163  0.130548\n",
       "mass   0.017683  0.221071  0.281805  ...  0.140647  0.036242  0.292695\n",
       "pedi  -0.033523  0.137337  0.041265  ...  1.000000  0.033561  0.173844\n",
       "age    0.544341  0.263514  0.239528  ...  0.033561  1.000000  0.238356\n",
       "class  0.221898  0.466581  0.065068  ...  0.173844  0.238356  1.000000\n",
       "\n",
       "[9 rows x 9 columns]"
      ]
     },
     "execution_count": 14,
     "metadata": {},
     "output_type": "execute_result"
    }
   ],
   "source": [
    "# Produire un tableau de corrélations de Pearson\n",
    "data.corr(method='pearson')"
   ]
  },
  {
   "cell_type": "markdown",
   "metadata": {
    "id": "0RIFKmKWYKMq"
   },
   "source": [
    "### 7. Distribution et assimétrie (\"skewness\") des variables \n",
    "\n",
    "Plusieurs algorithmes d'apprentissage automatique assume la normalité des données, c'est-à-dire un distribution Gaussienne. \n",
    "\n",
    "La valeur d'assimétrie peut être négative (de la gauche) ou positive (de la droite). Une valeur de 0 signifie une distribution simétrique, donc normale.\n",
    "\n",
    "De façon générale, une valeur entre -2 et +2 est considérée acceptable.\n",
    "\n",
    "Documentation :\n",
    "* skew : https://pandas.pydata.org/pandas-docs/stable/reference/api/pandas.DataFrame.skew.html"
   ]
  },
  {
   "cell_type": "code",
   "execution_count": null,
   "metadata": {
    "colab": {
     "base_uri": "https://localhost:8080/",
     "height": 317
    },
    "executionInfo": {
     "elapsed": 274,
     "status": "ok",
     "timestamp": 1629992352971,
     "user": {
      "displayName": "Marie-Ève Malette",
      "photoUrl": "",
      "userId": "14146988184797558663"
     },
     "user_tz": 240
    },
    "id": "tB14in4UGuOz",
    "outputId": "965aa41d-971e-4364-ff53-ac27f5cfa2e0"
   },
   "outputs": [
    {
     "data": {
      "text/plain": [
       "(array([1., 0., 0., 0., 0., 1., 0., 0., 2., 4.]),\n",
       " array([52. , 56.6, 61.2, 65.8, 70.4, 75. , 79.6, 84.2, 88.8, 93.4, 98. ]),\n",
       " <a list of 10 Patch objects>)"
      ]
     },
     "execution_count": 16,
     "metadata": {},
     "output_type": "execute_result"
    },
    {
     "data": {
      "image/png": "[encoded data removed]",
      "text/plain": [
       "<Figure size 432x288 with 1 Axes>"
      ]
     },
     "metadata": {
      "needs_background": "light"
     },
     "output_type": "display_data"
    }
   ],
   "source": [
    "import numpy as np\n",
    "import matplotlib.pyplot as plt\n",
    "myarray = np.array([96, 94, 90, 95, 75, 89, 52, 98])\n",
    "plt.hist(myarray)"
   ]
  },
  {
   "cell_type": "code",
   "execution_count": null,
   "metadata": {
    "colab": {
     "base_uri": "https://localhost:8080/"
    },
    "executionInfo": {
     "elapsed": 132,
     "status": "ok",
     "timestamp": 1629992574584,
     "user": {
      "displayName": "Marie-Ève Malette",
      "photoUrl": "",
      "userId": "14146988184797558663"
     },
     "user_tz": 240
    },
    "id": "EiAa0kLOXThJ",
    "outputId": "cbe2ae1b-aa50-4091-b46a-5e0cf667cbc5"
   },
   "outputs": [
    {
     "data": {
      "text/plain": [
       "preg     0.901674\n",
       "plas     0.173754\n",
       "pres    -1.843608\n",
       "skin     0.109372\n",
       "test     2.272251\n",
       "mass    -0.428982\n",
       "pedi     1.919911\n",
       "age      1.129597\n",
       "class    0.635017\n",
       "dtype: float64"
      ]
     },
     "execution_count": 17,
     "metadata": {},
     "output_type": "execute_result"
    }
   ],
   "source": [
    "# Obtenir les valeurs d'asymétrie pour chaque variable\n",
    "data.skew()"
   ]
  },
  {
   "cell_type": "markdown",
   "metadata": {
    "id": "CastwhDOaBGa"
   },
   "source": [
    "### Sommaire\n",
    "\n",
    "Dans cette leçon, on a appris plusieurs méthodes afin d'explorer un jeu de données avec des statistiques descriptives.\n",
    "\n",
    "Nouvelles méthodes apprises :\n",
    "* data.dtypes\n",
    "* data.info()\n",
    "* data.describe()\n",
    "* data.groupby().size()\n",
    "* data.corr(method=\"pearson\")\n",
    "* data.skew\n",
    "\n",
    "\n",
    "### Suivant - Visualisation des données\n",
    "\n",
    "Vous verrez entre autre dans la prochaine leçon comment... \n",
    "* Visualiser les corrélations dans un graphique.\n",
    "* Visualiser la distribution des données dans un graphique.\n"
   ]
  },
  {
   "cell_type": "markdown",
   "metadata": {
    "id": "wjRJ52bdh8ZW"
   },
   "source": [
    "## **LEÇON #4 - EXERCICE PRATIQUE**\n",
    "\n",
    "> *Utiliser votre notebook individuel `chapitre_3_pratique_classification_binaire.ipynb`*\n",
    "\n",
    "### Description\n",
    "En utilisant le notebook pratique que vous avez commencer à utiliser durant la dernière leçon, accomplir les tâches énumérées ci-dessous.\n",
    "\n",
    "> **Répondre aux questions dans une cellule de texte Markdown au fur et à mesure que vous progressez.**\n",
    "\n",
    "## Tâches à accomplir :\n",
    "1. Refaites rouler les cellules de code de la dernière leçon.\n",
    "  * Vous devriez par le fait même obtenir à nouveau un aperçu et la structure de base du jeu de données. \n",
    "  * C'est une bonne occasion de se rafraîchir la mémoire sur les codes écrits précédemment tout en s'assurant qu'ils fonctionnent toujours bien. **Vous pouvez d'ailleurs constamment l'améliorer!**\n",
    "2. Obtenir les types de données pour chaque variable. \n",
    "  * **Question 2.1 :** Quels sont les types de données pour chaque variable?\n",
    "  * **Question 2.2 :** Y a-t-il des valeurs nulles dans le jeu de données?\n",
    "3. Extraire la description statistique sommaire des variables.\n",
    "  * **Question 3.1 :** Veuillez classer les variables de la moyenne la plus élevé à celle la plus basse.\n",
    "4. Effectuer le sommaire des classes à prédire de la colonne `class`.\n",
    "  * **Question 4.1 :** Est-ce que les classes sont balancées?\n",
    "  * **Question 4.2 :** Quelle classe est la plus fréquente?\n",
    "5. Produire la matrice de corrélation entres les différentes variables.\n",
    "  * **Question 5.1 :** Quelles sont les deux variables avec la plus **forte** corrélation?\n",
    "  * **Question 5.2 :** Quelles sont les deux variables avec la plus **faible** corrélation?\n",
    "6. Vérifier la normalité des données en calculant leur assimétrie. \n",
    "  * **Question 6.1:** Quelle est la variable qui dévie le plus d'une distribution normale? En d'autres mots, quelle est la variable la plus assimétrique? \n",
    "  * **Question 6.2:** Est-ce que cette variable présente une assimétrie positive ou négative?"
   ]
  },
  {
   "cell_type": "markdown",
   "metadata": {},
   "source": []
  },
  {
   "cell_type": "code",
   "execution_count": null,
   "metadata": {
    "id": "SNsoWULEv9CU"
   },
   "outputs": [],
   "source": []
  }
 ],
 "metadata": {
  "colab": {
   "collapsed_sections": [],
   "name": "leçon_4_théorie.ipynb",
   "provenance": []
  },
  "kernelspec": {
   "display_name": "Python 3",
   "name": "python3"
  },
  "language_info": {
   "name": "python"
  }
 },
 "nbformat": 4,
 "nbformat_minor": 0
}
