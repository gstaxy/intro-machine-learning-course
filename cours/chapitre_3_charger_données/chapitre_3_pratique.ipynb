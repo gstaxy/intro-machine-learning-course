{
 "cells": [
  {
   "cell_type": "markdown",
   "id": "61951c65-684c-4662-807f-838f34d960d8",
   "metadata": {
    "id": "61951c65-684c-4662-807f-838f34d960d8"
   },
   "source": [
    "# Notebook Pratique - Classification Binaire\n",
    "\n",
    "## Instructions importantes!\n",
    "* Ce Notebook sera utilisé en continu tout au long du cours. Il sera donc important de le garder bien structuré et ordonné.\n",
    "* À chaque leçon, vous allez rajouter une section à ce Notebook avec les exercices associés aux apprentissages du cours. \n",
    "* À la fin du cours, vous obtiendrez un Notebook complet représentant l'entièreté d'un projet d'apprentissage automatique.\n",
    "* Ce Notebook sera unique et personnalisé pour chaque élève. \n",
    "* **Il vous servira donc de référence pour votre projet d'intégration final.**\n",
    "\n",
    "## Information sur le jeu de données\n",
    "\n",
    "Tout au long des ateliers, vous allez utiliser ce même jeu de données à plusieurs reprises.\n",
    "\n",
    "Il s'agit du jeu de données `banknote.csv` représentant des mesures prises sur des photos de billets de banque afin de déterminer s'ils sont des vrais (class = 0) ou des faux (class = 1). \n",
    "\n",
    "Lien vers le jeu de données : https://archive.ics.uci.edu/ml/datasets/banknote+authentication#\n",
    "\n",
    "Voici les colonnes du jeu de données\n",
    "\n",
    "| Nom original | Nom officiel | Nom pratique |\n",
    "|--------------|--------------|--------------|\n",
    "| feature_1    | Variance     | variance     |\n",
    "| feature_2    | Skewness     | skewness     |\n",
    "| feature_3    | Curtosis     | curtosis     |\n",
    "| feature_4    | Entropy      | entropy      |\n",
    "| prediction   | Class        | class        |\n",
    "\n",
    "Il y a un total de 1372 billets de banque qui ont été mesurés. Chaque ligne du jeu de données représente les valeurs mesurées pour un billet."
   ]
  },
  {
   "cell_type": "markdown",
   "id": "373d9888",
   "metadata": {},
   "source": []
  },
  {
   "cell_type": "code",
   "execution_count": null,
   "id": "tk__ugm9vL3z",
   "metadata": {
    "id": "tk__ugm9vL3z"
   },
   "outputs": [],
   "source": []
  }
 ],
 "metadata": {
  "colab": {
   "collapsed_sections": [],
   "name": "notebook_pratique_classification_binaire.ipynb",
   "provenance": []
  },
  "kernelspec": {
   "display_name": "Python 3",
   "name": "python3"
  },
  "language_info": {
   "name": "python"
  }
 },
 "nbformat": 4,
 "nbformat_minor": 5
}
