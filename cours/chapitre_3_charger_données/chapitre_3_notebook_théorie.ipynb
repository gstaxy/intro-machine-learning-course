{
 "cells": [
  {
   "cell_type": "markdown",
   "id": "b5923b79-b78a-48da-a943-7f2fa7b23192",
   "metadata": {
    "id": "b5923b79-b78a-48da-a943-7f2fa7b23192"
   },
   "source": [
    "# Atelier Théorique #3 - **Charger des données**\n",
    "\n",
    "## Comment télécharger les données\n",
    "\n",
    "Avant d'être utilisées, les données doivent être téléchargés dans le Notebook.\n",
    "\n",
    "Le format le plus couramment utilisé pour enregistrer des données est .CSV. \n",
    "\n",
    "Par contre, il est courant de rencontrer des fichiers de types différents.\n",
    "\n",
    "## Objectifs de l'atelier:\n",
    "1. Télécharger des jeux de données à partir d'un fichier avec l'extension .CSV \n",
    "2. Expérimenter le téléchargement de données avec Pandas.\n",
    "3. Effectuer une modification simple sur le jeu de données de base.\n",
    "\n",
    "## Jeu de données\n",
    "\n",
    "Diabète chez les Indiens Pima : https://archive.ics.uci.edu/ml/datasets/diabetes\n",
    "\n",
    "### Téléchargement avec Pandas\n",
    "Tel que vu dans l'atelier précédent, Pandas est une librarie très utilisée en apprentissage automatique. \n",
    "\n",
    "Nous allons donc l'utiliser pour effectuer le téléchargement initial des données."
   ]
  },
  {
   "cell_type": "code",
   "execution_count": null,
   "id": "064bddb3-4385-441d-8b94-d2ab45e14554",
   "metadata": {
    "id": "064bddb3-4385-441d-8b94-d2ab45e14554"
   },
   "outputs": [],
   "source": [
    "import pandas as pd"
   ]
  },
  {
   "cell_type": "markdown",
   "id": "1b72689e-2593-4be4-92b9-6915ae385c46",
   "metadata": {
    "id": "1b72689e-2593-4be4-92b9-6915ae385c46"
   },
   "source": [
    "### Téléchargement des données\n",
    "\n",
    "La fonction **read_csv()** de Pandas sera utilisée.\n",
    "\n",
    "Il est utile de jeter un coup d'oeil aux jeux de données avant de l'importer pour connaître ses caractéristiques. L'application bloc note est utile dans cette situation.\n",
    "\n",
    "\n",
    "\n"
   ]
  },
  {
   "cell_type": "markdown",
   "id": "3VWpMUrIB0VX",
   "metadata": {
    "id": "3VWpMUrIB0VX"
   },
   "source": [
    "#### Méthode 1 - Les données sont disponibles localement / **Version manuelle**\n",
    "\n",
    "*Suivre les instructions dans le Power Point de cette leçon.*"
   ]
  },
  {
   "cell_type": "code",
   "execution_count": null,
   "id": "Yr95huEgB02I",
   "metadata": {
    "id": "Yr95huEgB02I"
   },
   "outputs": [],
   "source": [
    "# Télécharger le jeu de données\n",
    "data = pd.read_csv('diabetes.csv')"
   ]
  },
  {
   "cell_type": "code",
   "execution_count": null,
   "id": "GAaImef4TYvM",
   "metadata": {
    "colab": {
     "base_uri": "https://localhost:8080/"
    },
    "executionInfo": {
     "elapsed": 120,
     "status": "ok",
     "timestamp": 1629911622787,
     "user": {
      "displayName": "Marie-Ève Malette",
      "photoUrl": "",
      "userId": "14146988184797558663"
     },
     "user_tz": 240
    },
    "id": "GAaImef4TYvM",
    "outputId": "02010da9-8ecf-4043-8a3e-59047a9e592d"
   },
   "outputs": [
    {
     "name": "stdout",
     "output_type": "stream",
     "text": [
      "     Pregnancies  Glucose  ...  Age  Outcome\n",
      "0              6      148  ...   50        1\n",
      "1              1       85  ...   31        0\n",
      "2              8      183  ...   32        1\n",
      "3              1       89  ...   21        0\n",
      "4              0      137  ...   33        1\n",
      "..           ...      ...  ...  ...      ...\n",
      "763           10      101  ...   63        0\n",
      "764            2      122  ...   27        0\n",
      "765            5      121  ...   30        0\n",
      "766            1      126  ...   47        1\n",
      "767            1       93  ...   23        0\n",
      "\n",
      "[768 rows x 9 columns]\n"
     ]
    }
   ],
   "source": [
    "print(data)"
   ]
  },
  {
   "cell_type": "markdown",
   "id": "i0W1Eslo9YcZ",
   "metadata": {
    "id": "i0W1Eslo9YcZ"
   },
   "source": [
    "#### Méthode 2 - Les données sont disponibles localement /  **Version code**\n",
    "\n",
    "**Étapes à suivre**\n",
    "1. Télécharger le jeu de données sur votre ordinateur local.\n",
    "2. Importer le jeu de données en mémoire dans le Notebook.\n",
    "3. Télécharger le jeu de données dans l'environnement de travail du Notebook."
   ]
  },
  {
   "cell_type": "code",
   "execution_count": null,
   "id": "f1c20cad-0eae-4eae-bc1b-f2e139259e0f",
   "metadata": {
    "colab": {
     "base_uri": "https://localhost:8080/",
     "height": 73,
     "resources": {
      "http://localhost:8080/nbextensions/google.colab/files.js": {
       "data": "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",
       "headers": [
        [
         "content-type",
         "application/javascript"
        ]
       ],
       "ok": true,
       "status": 200,
       "status_text": ""
      }
     }
    },
    "executionInfo": {
     "elapsed": 12869,
     "status": "ok",
     "timestamp": 1629911681202,
     "user": {
      "displayName": "Marie-Ève Malette",
      "photoUrl": "",
      "userId": "14146988184797558663"
     },
     "user_tz": 240
    },
    "id": "f1c20cad-0eae-4eae-bc1b-f2e139259e0f",
    "outputId": "601603ef-33d1-46aa-8b5d-512f89ef51ab"
   },
   "outputs": [
    {
     "data": {
      "text/html": [
       "\n",
       "     <input type=\"file\" id=\"files-54818e23-b94f-48e1-8dc1-bf83d6fb0b39\" name=\"files[]\" multiple disabled\n",
       "        style=\"border:none\" />\n",
       "     <output id=\"result-54818e23-b94f-48e1-8dc1-bf83d6fb0b39\">\n",
       "      Upload widget is only available when the cell has been executed in the\n",
       "      current browser session. Please rerun this cell to enable.\n",
       "      </output>\n",
       "      <script src=\"/nbextensions/google.colab/files.js\"></script> "
      ],
      "text/plain": [
       "<IPython.core.display.HTML object>"
      ]
     },
     "metadata": {},
     "output_type": "display_data"
    },
    {
     "name": "stdout",
     "output_type": "stream",
     "text": [
      "Saving diabetes.csv to diabetes (1).csv\n"
     ]
    }
   ],
   "source": [
    "# Importer le jeu de données à partir de votre ordinateur local\n",
    "from google.colab import files\n",
    "uploaded = files.upload()"
   ]
  },
  {
   "cell_type": "code",
   "execution_count": null,
   "id": "sdFAUOX5DP0z",
   "metadata": {
    "id": "sdFAUOX5DP0z"
   },
   "outputs": [],
   "source": [
    "# Télécharger le jeu de données\n",
    "data = pd.read_csv('diabetes.csv')"
   ]
  },
  {
   "cell_type": "code",
   "execution_count": null,
   "id": "wBIPdzq2Tzt1",
   "metadata": {
    "colab": {
     "base_uri": "https://localhost:8080/"
    },
    "executionInfo": {
     "elapsed": 115,
     "status": "ok",
     "timestamp": 1629911732811,
     "user": {
      "displayName": "Marie-Ève Malette",
      "photoUrl": "",
      "userId": "14146988184797558663"
     },
     "user_tz": 240
    },
    "id": "wBIPdzq2Tzt1",
    "outputId": "c365eec8-1b2f-42d0-a028-87e0eede3520"
   },
   "outputs": [
    {
     "name": "stdout",
     "output_type": "stream",
     "text": [
      "     Pregnancies  Glucose  ...  Age  Outcome\n",
      "0              6      148  ...   50        1\n",
      "1              1       85  ...   31        0\n",
      "2              8      183  ...   32        1\n",
      "3              1       89  ...   21        0\n",
      "4              0      137  ...   33        1\n",
      "..           ...      ...  ...  ...      ...\n",
      "763           10      101  ...   63        0\n",
      "764            2      122  ...   27        0\n",
      "765            5      121  ...   30        0\n",
      "766            1      126  ...   47        1\n",
      "767            1       93  ...   23        0\n",
      "\n",
      "[768 rows x 9 columns]\n"
     ]
    }
   ],
   "source": [
    "print(data)"
   ]
  },
  {
   "cell_type": "markdown",
   "id": "79cfaf88-3dd5-4ba8-80d6-c513445d58a9",
   "metadata": {
    "id": "79cfaf88-3dd5-4ba8-80d6-c513445d58a9"
   },
   "source": [
    "### Vérifier l'intégrité des données\n",
    "\n",
    "Pour s'assurer qu'on a bel et bien téléchargé les données correctement, il est possible de vérifier la taille complète du jeu de données. Cette stratégie permet de confirmer que les données sont complètes."
   ]
  },
  {
   "cell_type": "code",
   "execution_count": null,
   "id": "c6cfa152-4541-4840-a492-d8175ae91e67",
   "metadata": {
    "colab": {
     "base_uri": "https://localhost:8080/"
    },
    "executionInfo": {
     "elapsed": 143,
     "status": "ok",
     "timestamp": 1629911827471,
     "user": {
      "displayName": "Marie-Ève Malette",
      "photoUrl": "",
      "userId": "14146988184797558663"
     },
     "user_tz": 240
    },
    "id": "c6cfa152-4541-4840-a492-d8175ae91e67",
    "outputId": "13ec820e-c224-4ec2-b510-1eb70f0625af"
   },
   "outputs": [
    {
     "name": "stdout",
     "output_type": "stream",
     "text": [
      "(768, 9)\n",
      "Taille du jeu de données Diabète: (768, 9)\n"
     ]
    }
   ],
   "source": [
    "# Pour connaître la taille du jeu de données\n",
    "print(data.shape)\n",
    "\n",
    "# Pour imprimer la taille avec une description\n",
    "print(f'Taille du jeu de données Diabète: {data.shape}')"
   ]
  },
  {
   "cell_type": "code",
   "execution_count": null,
   "id": "9f5c8f61-8729-48f1-abc7-f87583931adc",
   "metadata": {
    "colab": {
     "base_uri": "https://localhost:8080/"
    },
    "executionInfo": {
     "elapsed": 118,
     "status": "ok",
     "timestamp": 1629911905900,
     "user": {
      "displayName": "Marie-Ève Malette",
      "photoUrl": "",
      "userId": "14146988184797558663"
     },
     "user_tz": 240
    },
    "id": "9f5c8f61-8729-48f1-abc7-f87583931adc",
    "outputId": "974b82ee-22a9-41a2-d3df-6106a52b966a"
   },
   "outputs": [
    {
     "name": "stdout",
     "output_type": "stream",
     "text": [
      "Nombre de lignes: 768\n",
      "Nombre de colonnes: 9\n"
     ]
    }
   ],
   "source": [
    "# Pour extraire séparément le nombre de lignes et de colonnes\n",
    "print(f'Nombre de lignes: {data.shape[0]}')\n",
    "print(f'Nombre de colonnes: {data.shape[1]}')"
   ]
  },
  {
   "cell_type": "markdown",
   "id": "559bf4b2-47bf-4f3b-baf3-c24151830290",
   "metadata": {
    "id": "559bf4b2-47bf-4f3b-baf3-c24151830290"
   },
   "source": [
    "### Obtenir un aperçu du jeu de données\n",
    "\n",
    "Lorsqu'on importe un jeu de données pour la première fois, la première étape est de visualiser les données pour commencer à développer une compréhension des données. \n",
    "\n",
    "Pour obtenir un aperçu visuel du jeu de données qu'on vient de télécharger, la méthode `head()` de Pandas permet d'extraire par défaut les 5 premières lignes."
   ]
  },
  {
   "cell_type": "code",
   "execution_count": null,
   "id": "16f760fd-e4fa-41e1-a3de-d6caa1352c7f",
   "metadata": {
    "colab": {
     "base_uri": "https://localhost:8080/",
     "height": 206
    },
    "executionInfo": {
     "elapsed": 135,
     "status": "ok",
     "timestamp": 1629911946861,
     "user": {
      "displayName": "Marie-Ève Malette",
      "photoUrl": "",
      "userId": "14146988184797558663"
     },
     "user_tz": 240
    },
    "id": "16f760fd-e4fa-41e1-a3de-d6caa1352c7f",
    "outputId": "4c9d078b-96a3-47a1-81d5-13b28464de27"
   },
   "outputs": [
    {
     "data": {
      "text/html": [
       "<div>\n",
       "<style scoped>\n",
       "    .dataframe tbody tr th:only-of-type {\n",
       "        vertical-align: middle;\n",
       "    }\n",
       "\n",
       "    .dataframe tbody tr th {\n",
       "        vertical-align: top;\n",
       "    }\n",
       "\n",
       "    .dataframe thead th {\n",
       "        text-align: right;\n",
       "    }\n",
       "</style>\n",
       "<table border=\"1\" class=\"dataframe\">\n",
       "  <thead>\n",
       "    <tr style=\"text-align: right;\">\n",
       "      <th></th>\n",
       "      <th>Pregnancies</th>\n",
       "      <th>Glucose</th>\n",
       "      <th>BloodPressure</th>\n",
       "      <th>SkinThickness</th>\n",
       "      <th>Insulin</th>\n",
       "      <th>BMI</th>\n",
       "      <th>DiabetesPedigreeFunction</th>\n",
       "      <th>Age</th>\n",
       "      <th>Outcome</th>\n",
       "    </tr>\n",
       "  </thead>\n",
       "  <tbody>\n",
       "    <tr>\n",
       "      <th>0</th>\n",
       "      <td>6</td>\n",
       "      <td>148</td>\n",
       "      <td>72</td>\n",
       "      <td>35</td>\n",
       "      <td>0</td>\n",
       "      <td>33.6</td>\n",
       "      <td>0.627</td>\n",
       "      <td>50</td>\n",
       "      <td>1</td>\n",
       "    </tr>\n",
       "    <tr>\n",
       "      <th>1</th>\n",
       "      <td>1</td>\n",
       "      <td>85</td>\n",
       "      <td>66</td>\n",
       "      <td>29</td>\n",
       "      <td>0</td>\n",
       "      <td>26.6</td>\n",
       "      <td>0.351</td>\n",
       "      <td>31</td>\n",
       "      <td>0</td>\n",
       "    </tr>\n",
       "    <tr>\n",
       "      <th>2</th>\n",
       "      <td>8</td>\n",
       "      <td>183</td>\n",
       "      <td>64</td>\n",
       "      <td>0</td>\n",
       "      <td>0</td>\n",
       "      <td>23.3</td>\n",
       "      <td>0.672</td>\n",
       "      <td>32</td>\n",
       "      <td>1</td>\n",
       "    </tr>\n",
       "    <tr>\n",
       "      <th>3</th>\n",
       "      <td>1</td>\n",
       "      <td>89</td>\n",
       "      <td>66</td>\n",
       "      <td>23</td>\n",
       "      <td>94</td>\n",
       "      <td>28.1</td>\n",
       "      <td>0.167</td>\n",
       "      <td>21</td>\n",
       "      <td>0</td>\n",
       "    </tr>\n",
       "    <tr>\n",
       "      <th>4</th>\n",
       "      <td>0</td>\n",
       "      <td>137</td>\n",
       "      <td>40</td>\n",
       "      <td>35</td>\n",
       "      <td>168</td>\n",
       "      <td>43.1</td>\n",
       "      <td>2.288</td>\n",
       "      <td>33</td>\n",
       "      <td>1</td>\n",
       "    </tr>\n",
       "  </tbody>\n",
       "</table>\n",
       "</div>"
      ],
      "text/plain": [
       "   Pregnancies  Glucose  BloodPressure  ...  DiabetesPedigreeFunction  Age  Outcome\n",
       "0            6      148             72  ...                     0.627   50        1\n",
       "1            1       85             66  ...                     0.351   31        0\n",
       "2            8      183             64  ...                     0.672   32        1\n",
       "3            1       89             66  ...                     0.167   21        0\n",
       "4            0      137             40  ...                     2.288   33        1\n",
       "\n",
       "[5 rows x 9 columns]"
      ]
     },
     "execution_count": 9,
     "metadata": {},
     "output_type": "execute_result"
    }
   ],
   "source": [
    "# Pour avoir un aperçu des premières lignes du jeu de données (5 par défaut)\n",
    "data.head()"
   ]
  },
  {
   "cell_type": "code",
   "execution_count": null,
   "id": "15b98d8a-ccaa-4af1-b5b0-e0162ef6fd4a",
   "metadata": {
    "colab": {
     "base_uri": "https://localhost:8080/",
     "height": 300
    },
    "executionInfo": {
     "elapsed": 118,
     "status": "ok",
     "timestamp": 1629911965781,
     "user": {
      "displayName": "Marie-Ève Malette",
      "photoUrl": "",
      "userId": "14146988184797558663"
     },
     "user_tz": 240
    },
    "id": "15b98d8a-ccaa-4af1-b5b0-e0162ef6fd4a",
    "outputId": "18882848-260e-49c4-b62c-89051a6b30d1"
   },
   "outputs": [
    {
     "data": {
      "text/html": [
       "<div>\n",
       "<style scoped>\n",
       "    .dataframe tbody tr th:only-of-type {\n",
       "        vertical-align: middle;\n",
       "    }\n",
       "\n",
       "    .dataframe tbody tr th {\n",
       "        vertical-align: top;\n",
       "    }\n",
       "\n",
       "    .dataframe thead th {\n",
       "        text-align: right;\n",
       "    }\n",
       "</style>\n",
       "<table border=\"1\" class=\"dataframe\">\n",
       "  <thead>\n",
       "    <tr style=\"text-align: right;\">\n",
       "      <th></th>\n",
       "      <th>Pregnancies</th>\n",
       "      <th>Glucose</th>\n",
       "      <th>BloodPressure</th>\n",
       "      <th>SkinThickness</th>\n",
       "      <th>Insulin</th>\n",
       "      <th>BMI</th>\n",
       "      <th>DiabetesPedigreeFunction</th>\n",
       "      <th>Age</th>\n",
       "      <th>Outcome</th>\n",
       "    </tr>\n",
       "  </thead>\n",
       "  <tbody>\n",
       "    <tr>\n",
       "      <th>0</th>\n",
       "      <td>6</td>\n",
       "      <td>148</td>\n",
       "      <td>72</td>\n",
       "      <td>35</td>\n",
       "      <td>0</td>\n",
       "      <td>33.6</td>\n",
       "      <td>0.627</td>\n",
       "      <td>50</td>\n",
       "      <td>1</td>\n",
       "    </tr>\n",
       "    <tr>\n",
       "      <th>1</th>\n",
       "      <td>1</td>\n",
       "      <td>85</td>\n",
       "      <td>66</td>\n",
       "      <td>29</td>\n",
       "      <td>0</td>\n",
       "      <td>26.6</td>\n",
       "      <td>0.351</td>\n",
       "      <td>31</td>\n",
       "      <td>0</td>\n",
       "    </tr>\n",
       "    <tr>\n",
       "      <th>2</th>\n",
       "      <td>8</td>\n",
       "      <td>183</td>\n",
       "      <td>64</td>\n",
       "      <td>0</td>\n",
       "      <td>0</td>\n",
       "      <td>23.3</td>\n",
       "      <td>0.672</td>\n",
       "      <td>32</td>\n",
       "      <td>1</td>\n",
       "    </tr>\n",
       "    <tr>\n",
       "      <th>3</th>\n",
       "      <td>1</td>\n",
       "      <td>89</td>\n",
       "      <td>66</td>\n",
       "      <td>23</td>\n",
       "      <td>94</td>\n",
       "      <td>28.1</td>\n",
       "      <td>0.167</td>\n",
       "      <td>21</td>\n",
       "      <td>0</td>\n",
       "    </tr>\n",
       "    <tr>\n",
       "      <th>4</th>\n",
       "      <td>0</td>\n",
       "      <td>137</td>\n",
       "      <td>40</td>\n",
       "      <td>35</td>\n",
       "      <td>168</td>\n",
       "      <td>43.1</td>\n",
       "      <td>2.288</td>\n",
       "      <td>33</td>\n",
       "      <td>1</td>\n",
       "    </tr>\n",
       "    <tr>\n",
       "      <th>5</th>\n",
       "      <td>5</td>\n",
       "      <td>116</td>\n",
       "      <td>74</td>\n",
       "      <td>0</td>\n",
       "      <td>0</td>\n",
       "      <td>25.6</td>\n",
       "      <td>0.201</td>\n",
       "      <td>30</td>\n",
       "      <td>0</td>\n",
       "    </tr>\n",
       "    <tr>\n",
       "      <th>6</th>\n",
       "      <td>3</td>\n",
       "      <td>78</td>\n",
       "      <td>50</td>\n",
       "      <td>32</td>\n",
       "      <td>88</td>\n",
       "      <td>31.0</td>\n",
       "      <td>0.248</td>\n",
       "      <td>26</td>\n",
       "      <td>1</td>\n",
       "    </tr>\n",
       "    <tr>\n",
       "      <th>7</th>\n",
       "      <td>10</td>\n",
       "      <td>115</td>\n",
       "      <td>0</td>\n",
       "      <td>0</td>\n",
       "      <td>0</td>\n",
       "      <td>35.3</td>\n",
       "      <td>0.134</td>\n",
       "      <td>29</td>\n",
       "      <td>0</td>\n",
       "    </tr>\n",
       "  </tbody>\n",
       "</table>\n",
       "</div>"
      ],
      "text/plain": [
       "   Pregnancies  Glucose  BloodPressure  ...  DiabetesPedigreeFunction  Age  Outcome\n",
       "0            6      148             72  ...                     0.627   50        1\n",
       "1            1       85             66  ...                     0.351   31        0\n",
       "2            8      183             64  ...                     0.672   32        1\n",
       "3            1       89             66  ...                     0.167   21        0\n",
       "4            0      137             40  ...                     2.288   33        1\n",
       "5            5      116             74  ...                     0.201   30        0\n",
       "6            3       78             50  ...                     0.248   26        1\n",
       "7           10      115              0  ...                     0.134   29        0\n",
       "\n",
       "[8 rows x 9 columns]"
      ]
     },
     "execution_count": 10,
     "metadata": {},
     "output_type": "execute_result"
    }
   ],
   "source": [
    "# Pour avoir un plus grand aperçu, ajouter l'argument 'nombre de lignes' entre les parenthèses\n",
    "# Dans l'exemple suivant, inscrire 8 entre parenthèse indique le nombre de lignes à imprimer\n",
    "data.head(8)"
   ]
  },
  {
   "cell_type": "code",
   "execution_count": null,
   "id": "2iTepe3JUwDQ",
   "metadata": {
    "colab": {
     "base_uri": "https://localhost:8080/",
     "height": 163
    },
    "executionInfo": {
     "elapsed": 120,
     "status": "ok",
     "timestamp": 1629912023535,
     "user": {
      "displayName": "Marie-Ève Malette",
      "photoUrl": "",
      "userId": "14146988184797558663"
     },
     "user_tz": 240
    },
    "id": "2iTepe3JUwDQ",
    "outputId": "54bbd062-d18c-42cc-c0e5-4d6f46986543"
   },
   "outputs": [
    {
     "data": {
      "text/html": [
       "<div>\n",
       "<style scoped>\n",
       "    .dataframe tbody tr th:only-of-type {\n",
       "        vertical-align: middle;\n",
       "    }\n",
       "\n",
       "    .dataframe tbody tr th {\n",
       "        vertical-align: top;\n",
       "    }\n",
       "\n",
       "    .dataframe thead th {\n",
       "        text-align: right;\n",
       "    }\n",
       "</style>\n",
       "<table border=\"1\" class=\"dataframe\">\n",
       "  <thead>\n",
       "    <tr style=\"text-align: right;\">\n",
       "      <th></th>\n",
       "      <th>Pregnancies</th>\n",
       "      <th>Glucose</th>\n",
       "      <th>BloodPressure</th>\n",
       "      <th>SkinThickness</th>\n",
       "      <th>Insulin</th>\n",
       "      <th>BMI</th>\n",
       "      <th>DiabetesPedigreeFunction</th>\n",
       "      <th>Age</th>\n",
       "      <th>Outcome</th>\n",
       "    </tr>\n",
       "  </thead>\n",
       "  <tbody>\n",
       "    <tr>\n",
       "      <th>765</th>\n",
       "      <td>5</td>\n",
       "      <td>121</td>\n",
       "      <td>72</td>\n",
       "      <td>23</td>\n",
       "      <td>112</td>\n",
       "      <td>26.2</td>\n",
       "      <td>0.245</td>\n",
       "      <td>30</td>\n",
       "      <td>0</td>\n",
       "    </tr>\n",
       "    <tr>\n",
       "      <th>766</th>\n",
       "      <td>1</td>\n",
       "      <td>126</td>\n",
       "      <td>60</td>\n",
       "      <td>0</td>\n",
       "      <td>0</td>\n",
       "      <td>30.1</td>\n",
       "      <td>0.349</td>\n",
       "      <td>47</td>\n",
       "      <td>1</td>\n",
       "    </tr>\n",
       "    <tr>\n",
       "      <th>767</th>\n",
       "      <td>1</td>\n",
       "      <td>93</td>\n",
       "      <td>70</td>\n",
       "      <td>31</td>\n",
       "      <td>0</td>\n",
       "      <td>30.4</td>\n",
       "      <td>0.315</td>\n",
       "      <td>23</td>\n",
       "      <td>0</td>\n",
       "    </tr>\n",
       "  </tbody>\n",
       "</table>\n",
       "</div>"
      ],
      "text/plain": [
       "     Pregnancies  Glucose  ...  Age  Outcome\n",
       "765            5      121  ...   30        0\n",
       "766            1      126  ...   47        1\n",
       "767            1       93  ...   23        0\n",
       "\n",
       "[3 rows x 9 columns]"
      ]
     },
     "execution_count": 12,
     "metadata": {},
     "output_type": "execute_result"
    }
   ],
   "source": [
    "# Pour avoir un aperçu des dernieres lignes du jeu de données (5 par défaut)\n",
    "data.tail(3)"
   ]
  },
  {
   "cell_type": "markdown",
   "id": "5dce8bcc-4c2d-4cc2-876a-4730e804bc0e",
   "metadata": {
    "id": "5dce8bcc-4c2d-4cc2-876a-4730e804bc0e"
   },
   "source": [
    "On peut donc avoir un aperçu du nombre de lignes désirées avec cette méthode. Très pratique!"
   ]
  },
  {
   "cell_type": "markdown",
   "id": "a2706b76-aaa7-4c1b-aff0-89d87325a846",
   "metadata": {
    "id": "a2706b76-aaa7-4c1b-aff0-89d87325a846"
   },
   "source": [
    "### Manipuler les noms de colonnes\n",
    "\n",
    "On observe que les noms de colonnes sont en général très longs. Ce n'est pas pratique en programmation d'avoir à constamment écrire de longs termes. \n",
    "\n",
    "Pour éviter ce problème, il est possible de changer le nom des colonnes pour les rendre plus facile à utiliser.\n",
    "\n",
    "Quelques pratiques à suivre pour choisir un bon nom de colonne:\n",
    "1. Ne pas mettre de majuscules.\n",
    "2. Ne pas laisser d'espaces et utiliser des traits de soulignement (\"underscore\").\n",
    "  * **Mauvais** exemple : `Longueur main`\n",
    "  * **Bon** exemple : `longuer_main`\n",
    "  \n",
    "3. Utiliser des noms courts, précis et informatifs.\n",
    "  * **Mauvais** exemple : `la_longueur_de_la_main`\n",
    "  * **Bon** exemple : `longueur_main`\n",
    "\n",
    "Équivalence des colonnes :\n",
    "\n",
    "| Nom original             | Nom raccourci |\n",
    "|:--------------------------|---------------|\n",
    "| Pregnancies              | preg          |\n",
    "| Glucose                  | plas          |\n",
    "| BloodPressure            | pres          |\n",
    "| SkinThickness            | skin          |\n",
    "| Insulin                  | test          |\n",
    "| BMI                      | mass          |\n",
    "| DiabetesPedigreeFunction | pedi          |\n",
    "| Age                      | age           |\n",
    "| Outcome                  | class         |\n",
    "\n",
    "La colonne `class` correspond au diagnostic associé à l'individu sur cette ligne, soit...\n",
    "* **0  = pas de diabète**\n",
    "* **1 = affecté par le diabète** "
   ]
  },
  {
   "cell_type": "code",
   "execution_count": null,
   "id": "6a819ef8-870a-42e1-8f50-842b945d8888",
   "metadata": {
    "id": "6a819ef8-870a-42e1-8f50-842b945d8888"
   },
   "outputs": [],
   "source": [
    "# Définir les nouveaux noms des colonnes dans une liste (en ordre)\n",
    "colnames = ['preg', 'plas', 'pres', 'skin', 'test', 'mass', 'pedi', 'age', 'class']"
   ]
  },
  {
   "cell_type": "code",
   "execution_count": null,
   "id": "4589f608-8878-4b95-8d8d-dbedbf8a238c",
   "metadata": {
    "id": "4589f608-8878-4b95-8d8d-dbedbf8a238c"
   },
   "outputs": [],
   "source": [
    "# Assigner les nouveaux noms de colonnes dans le jeu de données\n",
    "data.columns = colnames"
   ]
  },
  {
   "cell_type": "code",
   "execution_count": null,
   "id": "dqBu0vFFV_nX",
   "metadata": {
    "colab": {
     "base_uri": "https://localhost:8080/"
    },
    "executionInfo": {
     "elapsed": 121,
     "status": "ok",
     "timestamp": 1629912313242,
     "user": {
      "displayName": "Marie-Ève Malette",
      "photoUrl": "",
      "userId": "14146988184797558663"
     },
     "user_tz": 240
    },
    "id": "dqBu0vFFV_nX",
    "outputId": "75584a7e-894d-4c52-e6eb-8fb6299b5549"
   },
   "outputs": [
    {
     "name": "stdout",
     "output_type": "stream",
     "text": [
      "Index(['preg', 'plas', 'pres', 'skin', 'test', 'mass', 'pedi', 'age', 'class'], dtype='object')\n"
     ]
    }
   ],
   "source": [
    "print(data.columns)"
   ]
  },
  {
   "cell_type": "code",
   "execution_count": null,
   "id": "059c81d9-746e-46e8-b4ca-affe55208f7f",
   "metadata": {
    "colab": {
     "base_uri": "https://localhost:8080/",
     "height": 112
    },
    "executionInfo": {
     "elapsed": 268,
     "status": "ok",
     "timestamp": 1629912333598,
     "user": {
      "displayName": "Marie-Ève Malette",
      "photoUrl": "",
      "userId": "14146988184797558663"
     },
     "user_tz": 240
    },
    "id": "059c81d9-746e-46e8-b4ca-affe55208f7f",
    "outputId": "f1f0e0b6-3d13-42cd-dc95-e2fb950a4ce2"
   },
   "outputs": [
    {
     "data": {
      "text/html": [
       "<div>\n",
       "<style scoped>\n",
       "    .dataframe tbody tr th:only-of-type {\n",
       "        vertical-align: middle;\n",
       "    }\n",
       "\n",
       "    .dataframe tbody tr th {\n",
       "        vertical-align: top;\n",
       "    }\n",
       "\n",
       "    .dataframe thead th {\n",
       "        text-align: right;\n",
       "    }\n",
       "</style>\n",
       "<table border=\"1\" class=\"dataframe\">\n",
       "  <thead>\n",
       "    <tr style=\"text-align: right;\">\n",
       "      <th></th>\n",
       "      <th>preg</th>\n",
       "      <th>plas</th>\n",
       "      <th>pres</th>\n",
       "      <th>skin</th>\n",
       "      <th>test</th>\n",
       "      <th>mass</th>\n",
       "      <th>pedi</th>\n",
       "      <th>age</th>\n",
       "      <th>class</th>\n",
       "    </tr>\n",
       "  </thead>\n",
       "  <tbody>\n",
       "    <tr>\n",
       "      <th>0</th>\n",
       "      <td>6</td>\n",
       "      <td>148</td>\n",
       "      <td>72</td>\n",
       "      <td>35</td>\n",
       "      <td>0</td>\n",
       "      <td>33.6</td>\n",
       "      <td>0.627</td>\n",
       "      <td>50</td>\n",
       "      <td>1</td>\n",
       "    </tr>\n",
       "    <tr>\n",
       "      <th>1</th>\n",
       "      <td>1</td>\n",
       "      <td>85</td>\n",
       "      <td>66</td>\n",
       "      <td>29</td>\n",
       "      <td>0</td>\n",
       "      <td>26.6</td>\n",
       "      <td>0.351</td>\n",
       "      <td>31</td>\n",
       "      <td>0</td>\n",
       "    </tr>\n",
       "  </tbody>\n",
       "</table>\n",
       "</div>"
      ],
      "text/plain": [
       "   preg  plas  pres  skin  test  mass   pedi  age  class\n",
       "0     6   148    72    35     0  33.6  0.627   50      1\n",
       "1     1    85    66    29     0  26.6  0.351   31      0"
      ]
     },
     "execution_count": 16,
     "metadata": {},
     "output_type": "execute_result"
    }
   ],
   "source": [
    "# Vérifier les changements sur les deux premières lignes\n",
    "data.head(2)"
   ]
  },
  {
   "cell_type": "markdown",
   "id": "d1d8971e-db55-4682-b70b-00608c5d3425",
   "metadata": {
    "id": "d1d8971e-db55-4682-b70b-00608c5d3425"
   },
   "source": [
    "### Sommaire\n",
    "\n",
    "On a vu comment télécharger des données dans un tableau avec Pandas ainsi qu'une technique pour changer les noms de colonnes.\n",
    "\n",
    "Nouvelles méthodes apprises :\n",
    "* pd.read_csv()\n",
    "* data.shape\n",
    "* data.head()\n",
    "* data.columns"
   ]
  },
  {
   "cell_type": "markdown",
   "id": "f1218fec-fed4-4c06-8b3f-f94cbdeb24e9",
   "metadata": {
    "id": "f1218fec-fed4-4c06-8b3f-f94cbdeb24e9"
   },
   "source": [
    "## **LEÇON #3 - EXERCICE CONTINU**\n",
    "\n",
    "> *Utiliser votre notebook individuel `chapitre_3_pratique_classification_binaire.ipynb`*\n",
    "\n",
    "### Description\n",
    "Télécharger le jeu de données sur les billets de banque (*banknote.csv*) qui est disponible dans le dossier du cours sur Google Classroom. \n",
    "\n",
    "### Tâches à accomplir :\n",
    "1. Télécharger le jeu de données.\n",
    "2. Vérifier la taille du jeu de données.\n",
    "3. Explorer visuellement les 10 premières lignes du jeu de données.\n",
    "4. Modifier le nom des colonnes en leur attribuant les noms pratiques mentionnés dans la description des données ci-haut. "
   ]
  },
  {
   "cell_type": "markdown",
   "id": "edf854fa",
   "metadata": {},
   "source": []
  }
 ],
 "metadata": {
  "colab": {
   "collapsed_sections": [],
   "name": "leçon_3_théorie.ipynb",
   "provenance": []
  },
  "kernelspec": {
   "display_name": "Python 3",
   "name": "python3"
  },
  "language_info": {
   "name": "python"
  }
 },
 "nbformat": 4,
 "nbformat_minor": 5
}
