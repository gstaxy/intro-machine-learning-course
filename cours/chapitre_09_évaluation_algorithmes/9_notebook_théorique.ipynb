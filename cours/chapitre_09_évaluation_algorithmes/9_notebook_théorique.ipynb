{
 "cells": [
  {
   "cell_type": "markdown",
   "metadata": {
    "id": "08qsUZHbEget"
   },
   "source": [
    "# Atelier théorique #9 - **Évaluation d'algorithmes**\n",
    "\n",
    "### Objectifs de cette leçon\n",
    "1. Se familiariser avec les métriques d'évaluation utilisés dans les problèmes de classification et de régression.\n",
    "2. Apprendre à interpréter les métriques d'évaluation.\n",
    "3. Être en mesure de sélectionner le bon métrique d'évaluation en fonction de la problématique et de l'algorithme.\n",
    "\n",
    "### Étapes\n",
    "Chaque bloc de code est construit selon la même logique.\n",
    "1. Création d'un modèle à l'aide d'un algorithme.\n",
    "  * Un algorithme de régression logistique est utilisé pour la classification.\n",
    "  * Un algorithme de régression linéaire est utilisé pour la régression.\n",
    "2. Application d'une validation croisée de 10 itérations.\n",
    "3. Évaluation du modèle avec un métrique."
   ]
  },
  {
   "cell_type": "markdown",
   "metadata": {
    "id": "zmFE6jbwz8cE"
   },
   "source": [
    "### Charger les données et ajouter les titres de colonnes"
   ]
  },
  {
   "cell_type": "markdown",
   "metadata": {
    "id": "XHbM0gopHaTo"
   },
   "source": [
    "## 1. Classification\n",
    "\n",
    "1. Précision de classification\n",
    "2. Matrice de confusion\n",
    "3. Rapport de classification\n",
    "4. Aire sous la courbe ROC\n"
   ]
  },
  {
   "cell_type": "markdown",
   "metadata": {
    "id": "XNXcPhq1Ik-I"
   },
   "source": [
    "### Importer le jeu de données Diabiètes pour la classification"
   ]
  },
  {
   "cell_type": "code",
   "execution_count": null,
   "metadata": {
    "colab": {
     "base_uri": "https://localhost:8080/",
     "height": 205
    },
    "executionInfo": {
     "elapsed": 176,
     "status": "ok",
     "timestamp": 1634589370482,
     "user": {
      "displayName": "Guillaume Slevan-Tremblay",
      "photoUrl": "https://lh3.googleusercontent.com/a/default-user=s64",
      "userId": "06724317504996977159"
     },
     "user_tz": 420
    },
    "id": "H95ryCUmMSLO",
    "outputId": "55e585ef-0084-44e2-d111-84c0866ff5f9"
   },
   "outputs": [
    {
     "data": {
      "text/html": [
       "<div>\n",
       "<style scoped>\n",
       "    .dataframe tbody tr th:only-of-type {\n",
       "        vertical-align: middle;\n",
       "    }\n",
       "\n",
       "    .dataframe tbody tr th {\n",
       "        vertical-align: top;\n",
       "    }\n",
       "\n",
       "    .dataframe thead th {\n",
       "        text-align: right;\n",
       "    }\n",
       "</style>\n",
       "<table border=\"1\" class=\"dataframe\">\n",
       "  <thead>\n",
       "    <tr style=\"text-align: right;\">\n",
       "      <th></th>\n",
       "      <th>preg</th>\n",
       "      <th>plas</th>\n",
       "      <th>pres</th>\n",
       "      <th>skin</th>\n",
       "      <th>test</th>\n",
       "      <th>mass</th>\n",
       "      <th>pedi</th>\n",
       "      <th>age</th>\n",
       "      <th>class</th>\n",
       "    </tr>\n",
       "  </thead>\n",
       "  <tbody>\n",
       "    <tr>\n",
       "      <th>0</th>\n",
       "      <td>6</td>\n",
       "      <td>148</td>\n",
       "      <td>72</td>\n",
       "      <td>35</td>\n",
       "      <td>0</td>\n",
       "      <td>33.6</td>\n",
       "      <td>0.627</td>\n",
       "      <td>50</td>\n",
       "      <td>1</td>\n",
       "    </tr>\n",
       "    <tr>\n",
       "      <th>1</th>\n",
       "      <td>1</td>\n",
       "      <td>85</td>\n",
       "      <td>66</td>\n",
       "      <td>29</td>\n",
       "      <td>0</td>\n",
       "      <td>26.6</td>\n",
       "      <td>0.351</td>\n",
       "      <td>31</td>\n",
       "      <td>0</td>\n",
       "    </tr>\n",
       "    <tr>\n",
       "      <th>2</th>\n",
       "      <td>8</td>\n",
       "      <td>183</td>\n",
       "      <td>64</td>\n",
       "      <td>0</td>\n",
       "      <td>0</td>\n",
       "      <td>23.3</td>\n",
       "      <td>0.672</td>\n",
       "      <td>32</td>\n",
       "      <td>1</td>\n",
       "    </tr>\n",
       "    <tr>\n",
       "      <th>3</th>\n",
       "      <td>1</td>\n",
       "      <td>89</td>\n",
       "      <td>66</td>\n",
       "      <td>23</td>\n",
       "      <td>94</td>\n",
       "      <td>28.1</td>\n",
       "      <td>0.167</td>\n",
       "      <td>21</td>\n",
       "      <td>0</td>\n",
       "    </tr>\n",
       "    <tr>\n",
       "      <th>4</th>\n",
       "      <td>0</td>\n",
       "      <td>137</td>\n",
       "      <td>40</td>\n",
       "      <td>35</td>\n",
       "      <td>168</td>\n",
       "      <td>43.1</td>\n",
       "      <td>2.288</td>\n",
       "      <td>33</td>\n",
       "      <td>1</td>\n",
       "    </tr>\n",
       "  </tbody>\n",
       "</table>\n",
       "</div>"
      ],
      "text/plain": [
       "   preg  plas  pres  skin  test  mass   pedi  age  class\n",
       "0     6   148    72    35     0  33.6  0.627   50      1\n",
       "1     1    85    66    29     0  26.6  0.351   31      0\n",
       "2     8   183    64     0     0  23.3  0.672   32      1\n",
       "3     1    89    66    23    94  28.1  0.167   21      0\n",
       "4     0   137    40    35   168  43.1  2.288   33      1"
      ]
     },
     "execution_count": 1,
     "metadata": {},
     "output_type": "execute_result"
    }
   ],
   "source": [
    "# Importer la librairie pandas\n",
    "import pandas as pd\n",
    "\n",
    "# Télécharger le jeu de données\n",
    "data = pd.read_csv('diabetes.csv')\n",
    "\n",
    "# Remplacer le nom des colonnes\n",
    "colnames = ['preg', 'plas', 'pres', 'skin', 'test', 'mass', 'pedi', 'age', 'class']\n",
    "data.columns = colnames\n",
    "\n",
    "data.head()"
   ]
  },
  {
   "cell_type": "markdown",
   "metadata": {
    "id": "8oWfUZcDzYOU"
   },
   "source": [
    "### Séparer les données en sous-ensemble X et y"
   ]
  },
  {
   "cell_type": "code",
   "execution_count": null,
   "metadata": {
    "id": "ZlfyTxjdXeat"
   },
   "outputs": [],
   "source": [
    "# Préparation des données\n",
    "X = data.iloc[:, 0:8]\n",
    "y = data.iloc[:, 8]"
   ]
  },
  {
   "cell_type": "code",
   "execution_count": null,
   "metadata": {
    "colab": {
     "base_uri": "https://localhost:8080/",
     "height": 205
    },
    "executionInfo": {
     "elapsed": 11,
     "status": "ok",
     "timestamp": 1634589370633,
     "user": {
      "displayName": "Guillaume Slevan-Tremblay",
      "photoUrl": "https://lh3.googleusercontent.com/a/default-user=s64",
      "userId": "06724317504996977159"
     },
     "user_tz": 420
    },
    "id": "qLHFwu66wngt",
    "outputId": "caa79f4c-e254-48e1-9403-e8ca351a1bfe"
   },
   "outputs": [
    {
     "data": {
      "text/html": [
       "<div>\n",
       "<style scoped>\n",
       "    .dataframe tbody tr th:only-of-type {\n",
       "        vertical-align: middle;\n",
       "    }\n",
       "\n",
       "    .dataframe tbody tr th {\n",
       "        vertical-align: top;\n",
       "    }\n",
       "\n",
       "    .dataframe thead th {\n",
       "        text-align: right;\n",
       "    }\n",
       "</style>\n",
       "<table border=\"1\" class=\"dataframe\">\n",
       "  <thead>\n",
       "    <tr style=\"text-align: right;\">\n",
       "      <th></th>\n",
       "      <th>preg</th>\n",
       "      <th>plas</th>\n",
       "      <th>pres</th>\n",
       "      <th>skin</th>\n",
       "      <th>test</th>\n",
       "      <th>mass</th>\n",
       "      <th>pedi</th>\n",
       "      <th>age</th>\n",
       "    </tr>\n",
       "  </thead>\n",
       "  <tbody>\n",
       "    <tr>\n",
       "      <th>0</th>\n",
       "      <td>6</td>\n",
       "      <td>148</td>\n",
       "      <td>72</td>\n",
       "      <td>35</td>\n",
       "      <td>0</td>\n",
       "      <td>33.6</td>\n",
       "      <td>0.627</td>\n",
       "      <td>50</td>\n",
       "    </tr>\n",
       "    <tr>\n",
       "      <th>1</th>\n",
       "      <td>1</td>\n",
       "      <td>85</td>\n",
       "      <td>66</td>\n",
       "      <td>29</td>\n",
       "      <td>0</td>\n",
       "      <td>26.6</td>\n",
       "      <td>0.351</td>\n",
       "      <td>31</td>\n",
       "    </tr>\n",
       "    <tr>\n",
       "      <th>2</th>\n",
       "      <td>8</td>\n",
       "      <td>183</td>\n",
       "      <td>64</td>\n",
       "      <td>0</td>\n",
       "      <td>0</td>\n",
       "      <td>23.3</td>\n",
       "      <td>0.672</td>\n",
       "      <td>32</td>\n",
       "    </tr>\n",
       "    <tr>\n",
       "      <th>3</th>\n",
       "      <td>1</td>\n",
       "      <td>89</td>\n",
       "      <td>66</td>\n",
       "      <td>23</td>\n",
       "      <td>94</td>\n",
       "      <td>28.1</td>\n",
       "      <td>0.167</td>\n",
       "      <td>21</td>\n",
       "    </tr>\n",
       "    <tr>\n",
       "      <th>4</th>\n",
       "      <td>0</td>\n",
       "      <td>137</td>\n",
       "      <td>40</td>\n",
       "      <td>35</td>\n",
       "      <td>168</td>\n",
       "      <td>43.1</td>\n",
       "      <td>2.288</td>\n",
       "      <td>33</td>\n",
       "    </tr>\n",
       "  </tbody>\n",
       "</table>\n",
       "</div>"
      ],
      "text/plain": [
       "   preg  plas  pres  skin  test  mass   pedi  age\n",
       "0     6   148    72    35     0  33.6  0.627   50\n",
       "1     1    85    66    29     0  26.6  0.351   31\n",
       "2     8   183    64     0     0  23.3  0.672   32\n",
       "3     1    89    66    23    94  28.1  0.167   21\n",
       "4     0   137    40    35   168  43.1  2.288   33"
      ]
     },
     "execution_count": 3,
     "metadata": {},
     "output_type": "execute_result"
    }
   ],
   "source": [
    "# Imprimer l'aperçu des colonnes incluses dans X\n",
    "X.head()"
   ]
  },
  {
   "cell_type": "code",
   "execution_count": null,
   "metadata": {
    "colab": {
     "base_uri": "https://localhost:8080/"
    },
    "executionInfo": {
     "elapsed": 12,
     "status": "ok",
     "timestamp": 1634589370635,
     "user": {
      "displayName": "Guillaume Slevan-Tremblay",
      "photoUrl": "https://lh3.googleusercontent.com/a/default-user=s64",
      "userId": "06724317504996977159"
     },
     "user_tz": 420
    },
    "id": "GsOVXOKEyYHt",
    "outputId": "14f515fa-0dda-418a-d475-12a0850c75c5"
   },
   "outputs": [
    {
     "data": {
      "text/plain": [
       "0    1\n",
       "1    0\n",
       "2    1\n",
       "3    0\n",
       "4    1\n",
       "Name: class, dtype: int64"
      ]
     },
     "execution_count": 4,
     "metadata": {},
     "output_type": "execute_result"
    }
   ],
   "source": [
    "# Imprimer les colonnes incluses dans y\n",
    "y.head()"
   ]
  },
  {
   "cell_type": "markdown",
   "metadata": {
    "id": "bXb8lTYkJBv-"
   },
   "source": [
    "## 1.1 Précision de classification\n",
    "\n",
    "> Définir l'argument `scoring='accuracy'` dans la fonction `cross_val_score`\n",
    "."
   ]
  },
  {
   "cell_type": "code",
   "execution_count": null,
   "metadata": {
    "id": "c7XXYOUpJCC4"
   },
   "outputs": [],
   "source": [
    "# Importer les librairies\n",
    "from sklearn.model_selection import cross_val_score\n",
    "from sklearn.linear_model import LogisticRegression"
   ]
  },
  {
   "cell_type": "code",
   "execution_count": null,
   "metadata": {
    "id": "Me_PSKYoJIuV"
   },
   "outputs": [],
   "source": [
    "# Définir le modèle à utiliser\n",
    "lr_model = LogisticRegression(max_iter=1000)\n",
    "\n",
    "# Appliquer la validation croisée\n",
    "cv_scores = cross_val_score(lr_model, X, y, cv=10, scoring='accuracy')"
   ]
  },
  {
   "cell_type": "code",
   "execution_count": null,
   "metadata": {
    "colab": {
     "base_uri": "https://localhost:8080/"
    },
    "executionInfo": {
     "elapsed": 10,
     "status": "ok",
     "timestamp": 1634589372746,
     "user": {
      "displayName": "Guillaume Slevan-Tremblay",
      "photoUrl": "https://lh3.googleusercontent.com/a/default-user=s64",
      "userId": "06724317504996977159"
     },
     "user_tz": 420
    },
    "id": "Pqiw554_Lqe6",
    "outputId": "d7bc1574-351b-41fb-afe4-92858e50c218"
   },
   "outputs": [
    {
     "name": "stdout",
     "output_type": "stream",
     "text": [
      "Précision : 77.35% +/- 3.57%\n"
     ]
    }
   ],
   "source": [
    "# Extraire et imprimer la performance obtenue\n",
    "print(f\"Précision : {round(cv_scores.mean()*100.0, 2)}% +/- {round(cv_scores.std()*100.0, 2)}%\")"
   ]
  },
  {
   "cell_type": "markdown",
   "metadata": {
    "id": "cy9c3MUsJyzK"
   },
   "source": [
    "### 1.2 Matrice de confusion"
   ]
  },
  {
   "cell_type": "code",
   "execution_count": null,
   "metadata": {
    "id": "vANLTk_MJzF2"
   },
   "outputs": [],
   "source": [
    "# Importer les librairies\n",
    "from sklearn.model_selection import train_test_split\n",
    "from sklearn.linear_model import LogisticRegression\n",
    "from sklearn.metrics import confusion_matrix"
   ]
  },
  {
   "cell_type": "code",
   "execution_count": null,
   "metadata": {
    "id": "xrU9sCJdLEaT"
   },
   "outputs": [],
   "source": [
    "# Séparer le jeu de données en sous-ensemble d'entraînement et de test\n",
    "X_train, X_test, y_train, y_test = train_test_split(X, y, test_size=0.2, random_state=5)\n",
    "\n",
    "# Définir l'algorithme à utiliser\n",
    "lr_model = LogisticRegression(max_iter=1000)\n",
    "\n",
    "# Entraîner le modèle avec l'algorithme\n",
    "lr_model.fit(X_train, y_train)\n",
    "\n",
    "# Obtenir les prédictions pour la variable cible `class`\n",
    "y_pred = lr_model.predict(X_test)"
   ]
  },
  {
   "cell_type": "code",
   "execution_count": null,
   "metadata": {
    "colab": {
     "base_uri": "https://localhost:8080/"
    },
    "executionInfo": {
     "elapsed": 12,
     "status": "ok",
     "timestamp": 1634589373002,
     "user": {
      "displayName": "Guillaume Slevan-Tremblay",
      "photoUrl": "https://lh3.googleusercontent.com/a/default-user=s64",
      "userId": "06724317504996977159"
     },
     "user_tz": 420
    },
    "id": "AOZsxv3mLkXS",
    "outputId": "62c35f3d-d086-4757-a6f6-9972cf6998c0"
   },
   "outputs": [
    {
     "name": "stdout",
     "output_type": "stream",
     "text": [
      "[[89 11]\n",
      " [18 36]]\n"
     ]
    }
   ],
   "source": [
    "matrix = confusion_matrix(y_test, y_pred)\n",
    "print(matrix)"
   ]
  },
  {
   "cell_type": "markdown",
   "metadata": {
    "id": "Q9xUZD-GMaNh"
   },
   "source": [
    "#### Bonus - Visualiser la matrice de confusion\n",
    "\n",
    "En utilisant les librairies matplotlib et seaborn, il est possible d'obtenir un aperçu plus esthétique et descriptif de l'information contenue dans une matrice de confusion."
   ]
  },
  {
   "cell_type": "code",
   "execution_count": null,
   "metadata": {
    "colab": {
     "base_uri": "https://localhost:8080/",
     "height": 282
    },
    "executionInfo": {
     "elapsed": 463,
     "status": "ok",
     "timestamp": 1634589373455,
     "user": {
      "displayName": "Guillaume Slevan-Tremblay",
      "photoUrl": "https://lh3.googleusercontent.com/a/default-user=s64",
      "userId": "06724317504996977159"
     },
     "user_tz": 420
    },
    "id": "lvfzYyTsMZT8",
    "outputId": "fbb085f3-0eb1-4350-9bae-7f8ef05389f1"
   },
   "outputs": [
    {
     "data": {
      "image/png": "[encoded data removed]",
      "text/plain": [
       "<Figure size 432x288 with 2 Axes>"
      ]
     },
     "metadata": {
      "needs_background": "light"
     },
     "output_type": "display_data"
    }
   ],
   "source": [
    "import numpy as np\n",
    "import matplotlib.pyplot as plt\n",
    "import seaborn as sns\n",
    "\n",
    "group_names = ['Vrai Négatif','Faux Positif','Faux Négatif','Vrai Positif']\n",
    "group_counts = [\"{0:0.0f}\".format(value) for value in\n",
    "                matrix.flatten()]\n",
    "group_percentages = [\"{0:.2%}\".format(value) for value in\n",
    "                     matrix.flatten()/np.sum(matrix)]\n",
    "labels = [f\"{v1}\\n{v2}\\n{v3}\" for v1, v2, v3 in\n",
    "          zip(group_names,group_counts,group_percentages)]\n",
    "labels = np.asarray(labels).reshape(2,2)\n",
    "sns.heatmap(matrix, annot=labels, fmt='', cmap='Blues')\n",
    "plt.xlabel('Valeur Prédite', size=12)\n",
    "plt.ylabel('Valeur Réelle', size=12)\n",
    "plt.show()"
   ]
  },
  {
   "cell_type": "code",
   "execution_count": null,
   "metadata": {
    "colab": {
     "base_uri": "https://localhost:8080/"
    },
    "executionInfo": {
     "elapsed": 11,
     "status": "ok",
     "timestamp": 1634589373456,
     "user": {
      "displayName": "Guillaume Slevan-Tremblay",
      "photoUrl": "https://lh3.googleusercontent.com/a/default-user=s64",
      "userId": "06724317504996977159"
     },
     "user_tz": 420
    },
    "id": "grLhqF5LoaJU",
    "outputId": "b81a4187-fa6f-49a8-f1df-87df7a910682"
   },
   "outputs": [
    {
     "data": {
      "text/plain": [
       "array([['Vrai Négatif\\n89\\n57.79%', 'Faux Positif\\n11\\n7.14%'],\n",
       "       ['Faux Négatif\\n18\\n11.69%', 'Vrai Positif\\n36\\n23.38%']],\n",
       "      dtype='<U22')"
      ]
     },
     "execution_count": 12,
     "metadata": {},
     "output_type": "execute_result"
    }
   ],
   "source": [
    "labels"
   ]
  },
  {
   "cell_type": "code",
   "execution_count": null,
   "metadata": {
    "colab": {
     "base_uri": "https://localhost:8080/",
     "height": 279
    },
    "executionInfo": {
     "elapsed": 443,
     "status": "ok",
     "timestamp": 1634589383381,
     "user": {
      "displayName": "Guillaume Slevan-Tremblay",
      "photoUrl": "https://lh3.googleusercontent.com/a/default-user=s64",
      "userId": "06724317504996977159"
     },
     "user_tz": 420
    },
    "id": "iztr55OOONzJ",
    "outputId": "c29b4ce2-bbbd-4974-ae24-4136a6d2ecd9"
   },
   "outputs": [
    {
     "data": {
      "image/png": "[encoded data removed]",
      "text/plain": [
       "<Figure size 432x288 with 2 Axes>"
      ]
     },
     "metadata": {
      "needs_background": "light"
     },
     "output_type": "display_data"
    }
   ],
   "source": [
    "from sklearn.metrics import ConfusionMatrixDisplay\n",
    "import matplotlib.pyplot as plt\n",
    "\n",
    "disp = ConfusionMatrixDisplay(confusion_matrix=matrix, display_labels=lr_model.classes_)\n",
    "disp.plot()\n",
    "plt.show()"
   ]
  },
  {
   "cell_type": "markdown",
   "metadata": {
    "id": "89NplzfxJzig"
   },
   "source": [
    "# 1.3 Rapport de classification"
   ]
  },
  {
   "cell_type": "code",
   "execution_count": null,
   "metadata": {
    "id": "3Y7lVsX6Jz9O"
   },
   "outputs": [],
   "source": [
    "# Importer les librairies\n",
    "from sklearn.model_selection import train_test_split\n",
    "from sklearn.linear_model import LogisticRegression\n",
    "from sklearn.metrics import classification_report"
   ]
  },
  {
   "cell_type": "code",
   "execution_count": null,
   "metadata": {
    "id": "rgzvHkh9g_3E"
   },
   "outputs": [],
   "source": [
    "# Séparer le jeu de données en sous-ensemble d'entraînement et de test\n",
    "X_train, X_test, y_train, y_test = train_test_split(X, y, test_size=0.2, random_state=5)\n",
    "\n",
    "# Définir l'algorithme à utiliser\n",
    "lr_model = LogisticRegression(max_iter=1000)\n",
    "\n",
    "# Entraîner le modèle avec l'algorithme\n",
    "lr_model.fit(X_train, y_train)\n",
    "\n",
    "# Obtenir les prédictions pour la variable cible `class`\n",
    "y_pred = lr_model.predict(X_test)"
   ]
  },
  {
   "cell_type": "code",
   "execution_count": null,
   "metadata": {
    "colab": {
     "base_uri": "https://localhost:8080/"
    },
    "executionInfo": {
     "elapsed": 144,
     "status": "ok",
     "timestamp": 1634589422545,
     "user": {
      "displayName": "Guillaume Slevan-Tremblay",
      "photoUrl": "https://lh3.googleusercontent.com/a/default-user=s64",
      "userId": "06724317504996977159"
     },
     "user_tz": 420
    },
    "id": "aGRY78cIhD-k",
    "outputId": "5a6dc3ac-33f2-4ed8-ffb8-1fdc92b98827"
   },
   "outputs": [
    {
     "name": "stdout",
     "output_type": "stream",
     "text": [
      "              precision    recall  f1-score   support\n",
      "\n",
      "           0       0.83      0.89      0.86       100\n",
      "           1       0.77      0.67      0.71        54\n",
      "\n",
      "    accuracy                           0.81       154\n",
      "   macro avg       0.80      0.78      0.79       154\n",
      "weighted avg       0.81      0.81      0.81       154\n",
      "\n"
     ]
    }
   ],
   "source": [
    "report = classification_report(y_test, y_pred)\n",
    "print(report)"
   ]
  },
  {
   "cell_type": "markdown",
   "metadata": {
    "id": "cupBdp1ZJxsw"
   },
   "source": [
    "### 1.4 Aire sous la courbe ROC\n",
    "\n",
    "> Définir l'argument `scoring='roc_auc'` dans la fonction `cross_val_score`"
   ]
  },
  {
   "cell_type": "code",
   "execution_count": null,
   "metadata": {
    "id": "A7hSn289JyFB"
   },
   "outputs": [],
   "source": [
    "# Importer les librairies\n",
    "from sklearn.model_selection import cross_val_score\n",
    "from sklearn.linear_model import LogisticRegression\n",
    "from sklearn.metrics import plot_roc_curve"
   ]
  },
  {
   "cell_type": "code",
   "execution_count": null,
   "metadata": {
    "id": "fipUAWviK2rb"
   },
   "outputs": [],
   "source": [
    "# Définir le modèle à utiliser\n",
    "lr_model = LogisticRegression(max_iter=1000)\n",
    "\n",
    "# Appliquer la validation croisée\n",
    "cv_scores = cross_val_score(lr_model, X, y, cv=10, scoring='roc_auc')"
   ]
  },
  {
   "cell_type": "code",
   "execution_count": null,
   "metadata": {
    "colab": {
     "base_uri": "https://localhost:8080/"
    },
    "executionInfo": {
     "elapsed": 5,
     "status": "ok",
     "timestamp": 1634590449651,
     "user": {
      "displayName": "Guillaume Slevan-Tremblay",
      "photoUrl": "https://lh3.googleusercontent.com/a/default-user=s64",
      "userId": "06724317504996977159"
     },
     "user_tz": 420
    },
    "id": "UKreW4D5Lmgh",
    "outputId": "3f84e4ad-9d67-4067-c4ba-d7349aa28854"
   },
   "outputs": [
    {
     "name": "stdout",
     "output_type": "stream",
     "text": [
      "Précision : 0.829 +/- 0.037\n"
     ]
    }
   ],
   "source": [
    "# Extraire et imprimer la performance obtenue\n",
    "print(f\"Précision : {round(cv_scores.mean(), 3)} +/- {round(cv_scores.std(), 3)}\")"
   ]
  },
  {
   "cell_type": "markdown",
   "metadata": {
    "id": "8kSo9DLpUiOA"
   },
   "source": [
    "#### Bonus : Graphique de l'aire sous la courbe ROC"
   ]
  },
  {
   "cell_type": "code",
   "execution_count": null,
   "metadata": {
    "id": "S3G5v_1DUqfg"
   },
   "outputs": [],
   "source": [
    "# Séparer le jeu de données en sous-ensemble d'entraînement et de test\n",
    "X_train, X_test, y_train, y_test = train_test_split(X, y, test_size=0.2, random_state=5)\n",
    "\n",
    "# Définir l'algorithme à utiliser\n",
    "lr_model = LogisticRegression(max_iter=1000)\n",
    "\n",
    "# Entraîner le modèle avec l'algorithme\n",
    "lr_model.fit(X_train, y_train)\n",
    "\n",
    "# Obtenir les prédictions pour la variable cible `class`\n",
    "y_pred = lr_model.predict(X_test)"
   ]
  },
  {
   "cell_type": "code",
   "execution_count": null,
   "metadata": {
    "colab": {
     "base_uri": "https://localhost:8080/",
     "height": 279
    },
    "executionInfo": {
     "elapsed": 325,
     "status": "ok",
     "timestamp": 1634590524766,
     "user": {
      "displayName": "Guillaume Slevan-Tremblay",
      "photoUrl": "https://lh3.googleusercontent.com/a/default-user=s64",
      "userId": "06724317504996977159"
     },
     "user_tz": 420
    },
    "id": "4YYzSUipUPoF",
    "outputId": "9e2e1460-18e7-42e5-cb80-b37248666b55"
   },
   "outputs": [
    {
     "data": {
      "image/png": "[encoded data removed]",
      "text/plain": [
       "<Figure size 432x288 with 1 Axes>"
      ]
     },
     "metadata": {
      "needs_background": "light"
     },
     "output_type": "display_data"
    }
   ],
   "source": [
    "plot_roc_curve(lr_model, X_test, y_test) \n",
    "plt.show()"
   ]
  },
  {
   "cell_type": "markdown",
   "metadata": {
    "id": "qE1QU90XHzWO"
   },
   "source": [
    "## 2. Régression\n",
    "\n",
    "1. Erreur moyenne absolue (MAE)\n",
    "2. Erreur quadratique moyenne (MSE)\n",
    "3. R carré (R2)"
   ]
  },
  {
   "cell_type": "markdown",
   "metadata": {
    "id": "84QL0aBOoYfG"
   },
   "source": [
    "## NOUVEAU JEU DE DONNÉES\n",
    "\n",
    "### Importer et charger le jeu de données\n",
    "Dans les exemples impliquant des problèmes de régression, nous allons utiliser le jeu de données `energy_efficiency.csv` comme exemple."
   ]
  },
  {
   "cell_type": "code",
   "execution_count": null,
   "metadata": {
    "colab": {
     "base_uri": "https://localhost:8080/",
     "height": 242
    },
    "executionInfo": {
     "elapsed": 163,
     "status": "ok",
     "timestamp": 1634592496716,
     "user": {
      "displayName": "Guillaume Slevan-Tremblay",
      "photoUrl": "https://lh3.googleusercontent.com/a/default-user=s64",
      "userId": "06724317504996977159"
     },
     "user_tz": 420
    },
    "id": "rXgOjPrAH_WW",
    "outputId": "4775df47-388d-4a73-bc05-26cced53ecf9"
   },
   "outputs": [
    {
     "data": {
      "text/html": [
       "<div>\n",
       "<style scoped>\n",
       "    .dataframe tbody tr th:only-of-type {\n",
       "        vertical-align: middle;\n",
       "    }\n",
       "\n",
       "    .dataframe tbody tr th {\n",
       "        vertical-align: top;\n",
       "    }\n",
       "\n",
       "    .dataframe thead th {\n",
       "        text-align: right;\n",
       "    }\n",
       "</style>\n",
       "<table border=\"1\" class=\"dataframe\">\n",
       "  <thead>\n",
       "    <tr style=\"text-align: right;\">\n",
       "      <th></th>\n",
       "      <th>relative_compactness</th>\n",
       "      <th>surface_area</th>\n",
       "      <th>wall_area</th>\n",
       "      <th>roof_area</th>\n",
       "      <th>overall_height</th>\n",
       "      <th>orientation</th>\n",
       "      <th>glazing_area</th>\n",
       "      <th>glazing_area _distribution</th>\n",
       "      <th>heating_load</th>\n",
       "      <th>cooling_load</th>\n",
       "    </tr>\n",
       "  </thead>\n",
       "  <tbody>\n",
       "    <tr>\n",
       "      <th>0</th>\n",
       "      <td>0.98</td>\n",
       "      <td>514.5</td>\n",
       "      <td>294.0</td>\n",
       "      <td>110.25</td>\n",
       "      <td>7.0</td>\n",
       "      <td>2</td>\n",
       "      <td>0.0</td>\n",
       "      <td>0</td>\n",
       "      <td>15.55</td>\n",
       "      <td>21.33</td>\n",
       "    </tr>\n",
       "    <tr>\n",
       "      <th>1</th>\n",
       "      <td>0.98</td>\n",
       "      <td>514.5</td>\n",
       "      <td>294.0</td>\n",
       "      <td>110.25</td>\n",
       "      <td>7.0</td>\n",
       "      <td>3</td>\n",
       "      <td>0.0</td>\n",
       "      <td>0</td>\n",
       "      <td>15.55</td>\n",
       "      <td>21.33</td>\n",
       "    </tr>\n",
       "    <tr>\n",
       "      <th>2</th>\n",
       "      <td>0.98</td>\n",
       "      <td>514.5</td>\n",
       "      <td>294.0</td>\n",
       "      <td>110.25</td>\n",
       "      <td>7.0</td>\n",
       "      <td>4</td>\n",
       "      <td>0.0</td>\n",
       "      <td>0</td>\n",
       "      <td>15.55</td>\n",
       "      <td>21.33</td>\n",
       "    </tr>\n",
       "    <tr>\n",
       "      <th>3</th>\n",
       "      <td>0.98</td>\n",
       "      <td>514.5</td>\n",
       "      <td>294.0</td>\n",
       "      <td>110.25</td>\n",
       "      <td>7.0</td>\n",
       "      <td>5</td>\n",
       "      <td>0.0</td>\n",
       "      <td>0</td>\n",
       "      <td>15.55</td>\n",
       "      <td>21.33</td>\n",
       "    </tr>\n",
       "    <tr>\n",
       "      <th>4</th>\n",
       "      <td>0.90</td>\n",
       "      <td>563.5</td>\n",
       "      <td>318.5</td>\n",
       "      <td>122.50</td>\n",
       "      <td>7.0</td>\n",
       "      <td>2</td>\n",
       "      <td>0.0</td>\n",
       "      <td>0</td>\n",
       "      <td>20.84</td>\n",
       "      <td>28.28</td>\n",
       "    </tr>\n",
       "  </tbody>\n",
       "</table>\n",
       "</div>"
      ],
      "text/plain": [
       "   relative_compactness  surface_area  ...  heating_load  cooling_load\n",
       "0                  0.98         514.5  ...         15.55         21.33\n",
       "1                  0.98         514.5  ...         15.55         21.33\n",
       "2                  0.98         514.5  ...         15.55         21.33\n",
       "3                  0.98         514.5  ...         15.55         21.33\n",
       "4                  0.90         563.5  ...         20.84         28.28\n",
       "\n",
       "[5 rows x 10 columns]"
      ]
     },
     "execution_count": 26,
     "metadata": {},
     "output_type": "execute_result"
    }
   ],
   "source": [
    "# Importer la librairie pandas\n",
    "import pandas as pd\n",
    "\n",
    "# Télécharger le jeu de données\n",
    "data2 = pd.read_csv('energy_efficiency.csv')\n",
    "\n",
    "# Observer le jeu de données brute\n",
    "data2.head()"
   ]
  },
  {
   "cell_type": "code",
   "execution_count": null,
   "metadata": {
    "colab": {
     "base_uri": "https://localhost:8080/",
     "height": 205
    },
    "executionInfo": {
     "elapsed": 140,
     "status": "ok",
     "timestamp": 1634592506689,
     "user": {
      "displayName": "Guillaume Slevan-Tremblay",
      "photoUrl": "https://lh3.googleusercontent.com/a/default-user=s64",
      "userId": "06724317504996977159"
     },
     "user_tz": 420
    },
    "id": "zLA3ql5ymbvj",
    "outputId": "f59a87cd-f2f0-4666-c502-31d19ebebbf0"
   },
   "outputs": [
    {
     "data": {
      "text/html": [
       "<div>\n",
       "<style scoped>\n",
       "    .dataframe tbody tr th:only-of-type {\n",
       "        vertical-align: middle;\n",
       "    }\n",
       "\n",
       "    .dataframe tbody tr th {\n",
       "        vertical-align: top;\n",
       "    }\n",
       "\n",
       "    .dataframe thead th {\n",
       "        text-align: right;\n",
       "    }\n",
       "</style>\n",
       "<table border=\"1\" class=\"dataframe\">\n",
       "  <thead>\n",
       "    <tr style=\"text-align: right;\">\n",
       "      <th></th>\n",
       "      <th>compact</th>\n",
       "      <th>surface</th>\n",
       "      <th>wall</th>\n",
       "      <th>roof</th>\n",
       "      <th>height</th>\n",
       "      <th>orient</th>\n",
       "      <th>glazing</th>\n",
       "      <th>glazing_dist</th>\n",
       "      <th>heating</th>\n",
       "      <th>cooling</th>\n",
       "    </tr>\n",
       "  </thead>\n",
       "  <tbody>\n",
       "    <tr>\n",
       "      <th>0</th>\n",
       "      <td>0.98</td>\n",
       "      <td>514.5</td>\n",
       "      <td>294.0</td>\n",
       "      <td>110.25</td>\n",
       "      <td>7.0</td>\n",
       "      <td>2</td>\n",
       "      <td>0.0</td>\n",
       "      <td>0</td>\n",
       "      <td>15.55</td>\n",
       "      <td>21.33</td>\n",
       "    </tr>\n",
       "    <tr>\n",
       "      <th>1</th>\n",
       "      <td>0.98</td>\n",
       "      <td>514.5</td>\n",
       "      <td>294.0</td>\n",
       "      <td>110.25</td>\n",
       "      <td>7.0</td>\n",
       "      <td>3</td>\n",
       "      <td>0.0</td>\n",
       "      <td>0</td>\n",
       "      <td>15.55</td>\n",
       "      <td>21.33</td>\n",
       "    </tr>\n",
       "    <tr>\n",
       "      <th>2</th>\n",
       "      <td>0.98</td>\n",
       "      <td>514.5</td>\n",
       "      <td>294.0</td>\n",
       "      <td>110.25</td>\n",
       "      <td>7.0</td>\n",
       "      <td>4</td>\n",
       "      <td>0.0</td>\n",
       "      <td>0</td>\n",
       "      <td>15.55</td>\n",
       "      <td>21.33</td>\n",
       "    </tr>\n",
       "    <tr>\n",
       "      <th>3</th>\n",
       "      <td>0.98</td>\n",
       "      <td>514.5</td>\n",
       "      <td>294.0</td>\n",
       "      <td>110.25</td>\n",
       "      <td>7.0</td>\n",
       "      <td>5</td>\n",
       "      <td>0.0</td>\n",
       "      <td>0</td>\n",
       "      <td>15.55</td>\n",
       "      <td>21.33</td>\n",
       "    </tr>\n",
       "    <tr>\n",
       "      <th>4</th>\n",
       "      <td>0.90</td>\n",
       "      <td>563.5</td>\n",
       "      <td>318.5</td>\n",
       "      <td>122.50</td>\n",
       "      <td>7.0</td>\n",
       "      <td>2</td>\n",
       "      <td>0.0</td>\n",
       "      <td>0</td>\n",
       "      <td>20.84</td>\n",
       "      <td>28.28</td>\n",
       "    </tr>\n",
       "  </tbody>\n",
       "</table>\n",
       "</div>"
      ],
      "text/plain": [
       "   compact  surface   wall    roof  ...  glazing  glazing_dist  heating  cooling\n",
       "0     0.98    514.5  294.0  110.25  ...      0.0             0    15.55    21.33\n",
       "1     0.98    514.5  294.0  110.25  ...      0.0             0    15.55    21.33\n",
       "2     0.98    514.5  294.0  110.25  ...      0.0             0    15.55    21.33\n",
       "3     0.98    514.5  294.0  110.25  ...      0.0             0    15.55    21.33\n",
       "4     0.90    563.5  318.5  122.50  ...      0.0             0    20.84    28.28\n",
       "\n",
       "[5 rows x 10 columns]"
      ]
     },
     "execution_count": 27,
     "metadata": {},
     "output_type": "execute_result"
    }
   ],
   "source": [
    "# Remplacer le nom des colonnes\n",
    "colnames = ['compact', 'surface', 'wall', 'roof', 'height', 'orient', 'glazing', 'glazing_dist', 'heating', 'cooling']\n",
    "data2.columns = colnames\n",
    "\n",
    "# Observer le jeu de données avec les nouvelles colonnes\n",
    "data2.head()"
   ]
  },
  {
   "cell_type": "markdown",
   "metadata": {
    "id": "MxBMry03F7i0"
   },
   "source": [
    "### Explorer le jeu de données sommairement"
   ]
  },
  {
   "cell_type": "code",
   "execution_count": null,
   "metadata": {
    "colab": {
     "base_uri": "https://localhost:8080/"
    },
    "executionInfo": {
     "elapsed": 121,
     "status": "ok",
     "timestamp": 1634592513056,
     "user": {
      "displayName": "Guillaume Slevan-Tremblay",
      "photoUrl": "https://lh3.googleusercontent.com/a/default-user=s64",
      "userId": "06724317504996977159"
     },
     "user_tz": 420
    },
    "id": "bC9T6q80F_mk",
    "outputId": "d95661f6-574e-4641-a966-782183e1f48f"
   },
   "outputs": [
    {
     "data": {
      "text/plain": [
       "compact         float64\n",
       "surface         float64\n",
       "wall            float64\n",
       "roof            float64\n",
       "height          float64\n",
       "orient            int64\n",
       "glazing         float64\n",
       "glazing_dist      int64\n",
       "heating         float64\n",
       "cooling         float64\n",
       "dtype: object"
      ]
     },
     "execution_count": 28,
     "metadata": {},
     "output_type": "execute_result"
    }
   ],
   "source": [
    "data2.dtypes"
   ]
  },
  {
   "cell_type": "code",
   "execution_count": null,
   "metadata": {
    "colab": {
     "base_uri": "https://localhost:8080/"
    },
    "executionInfo": {
     "elapsed": 8,
     "status": "ok",
     "timestamp": 1634592513738,
     "user": {
      "displayName": "Guillaume Slevan-Tremblay",
      "photoUrl": "https://lh3.googleusercontent.com/a/default-user=s64",
      "userId": "06724317504996977159"
     },
     "user_tz": 420
    },
    "id": "ES765DBwGDVa",
    "outputId": "b51f216c-887c-4ddb-d4ad-09be931ff43d"
   },
   "outputs": [
    {
     "name": "stdout",
     "output_type": "stream",
     "text": [
      "<class 'pandas.core.frame.DataFrame'>\n",
      "RangeIndex: 768 entries, 0 to 767\n",
      "Data columns (total 10 columns):\n",
      " #   Column        Non-Null Count  Dtype  \n",
      "---  ------        --------------  -----  \n",
      " 0   compact       768 non-null    float64\n",
      " 1   surface       768 non-null    float64\n",
      " 2   wall          768 non-null    float64\n",
      " 3   roof          768 non-null    float64\n",
      " 4   height        768 non-null    float64\n",
      " 5   orient        768 non-null    int64  \n",
      " 6   glazing       768 non-null    float64\n",
      " 7   glazing_dist  768 non-null    int64  \n",
      " 8   heating       768 non-null    float64\n",
      " 9   cooling       768 non-null    float64\n",
      "dtypes: float64(8), int64(2)\n",
      "memory usage: 60.1 KB\n"
     ]
    }
   ],
   "source": [
    "data2.info()"
   ]
  },
  {
   "cell_type": "markdown",
   "metadata": {
    "id": "ipxsK_ZSvLWY"
   },
   "source": [
    "### Séparer les données en sous-ensemble X et y\n",
    "\n",
    "Attention! On a 2 variables cibles ici, `heating` et `cooling`.\n",
    "\n",
    "Pour les explications, nous allons utiliser `heating` seulement."
   ]
  },
  {
   "cell_type": "code",
   "execution_count": null,
   "metadata": {
    "colab": {
     "base_uri": "https://localhost:8080/",
     "height": 207
    },
    "executionInfo": {
     "elapsed": 303,
     "status": "error",
     "timestamp": 1634593134632,
     "user": {
      "displayName": "Carl Grandmont",
      "photoUrl": "https://lh3.googleusercontent.com/a-/AOh14GiDPL6ta2d4oBPET8l9vFCvaEwSvBpDv9VBpjeXPw=s64",
      "userId": "07472538960919752630"
     },
     "user_tz": 240
    },
    "id": "Zco62cBEvLWZ",
    "outputId": "c4019d1d-0b24-4fe2-ed26-d667d5a1c385"
   },
   "outputs": [
    {
     "ename": "NameError",
     "evalue": "ignored",
     "output_type": "error",
     "traceback": [
      "\u001b[0;31m---------------------------------------------------------------------------\u001b[0m",
      "\u001b[0;31mNameError\u001b[0m                                 Traceback (most recent call last)",
      "\u001b[0;32m<ipython-input-1-e53df3eac764>\u001b[0m in \u001b[0;36m<module>\u001b[0;34m()\u001b[0m\n\u001b[1;32m      1\u001b[0m \u001b[0;31m# Préparation des données\u001b[0m\u001b[0;34m\u001b[0m\u001b[0;34m\u001b[0m\u001b[0;34m\u001b[0m\u001b[0m\n\u001b[0;32m----> 2\u001b[0;31m \u001b[0mX\u001b[0m \u001b[0;34m=\u001b[0m \u001b[0mdata2\u001b[0m\u001b[0;34m.\u001b[0m\u001b[0miloc\u001b[0m\u001b[0;34m[\u001b[0m\u001b[0;34m:\u001b[0m\u001b[0;34m,\u001b[0m \u001b[0;36m0\u001b[0m\u001b[0;34m:\u001b[0m\u001b[0;36m8\u001b[0m\u001b[0;34m]\u001b[0m\u001b[0;34m\u001b[0m\u001b[0;34m\u001b[0m\u001b[0m\n\u001b[0m\u001b[1;32m      3\u001b[0m \u001b[0my\u001b[0m \u001b[0;34m=\u001b[0m \u001b[0mdata2\u001b[0m\u001b[0;34m.\u001b[0m\u001b[0miloc\u001b[0m\u001b[0;34m[\u001b[0m\u001b[0;34m:\u001b[0m\u001b[0;34m,\u001b[0m \u001b[0;36m8\u001b[0m\u001b[0;34m]\u001b[0m\u001b[0;34m\u001b[0m\u001b[0;34m\u001b[0m\u001b[0m\n",
      "\u001b[0;31mNameError\u001b[0m: name 'data2' is not defined"
     ]
    }
   ],
   "source": [
    "# Préparation des données\n",
    "X = data2.iloc[:, 0:8]\n",
    "y = data2.iloc[:, 8]"
   ]
  },
  {
   "cell_type": "code",
   "execution_count": null,
   "metadata": {
    "colab": {
     "base_uri": "https://localhost:8080/",
     "height": 205
    },
    "executionInfo": {
     "elapsed": 5,
     "status": "ok",
     "timestamp": 1634592520862,
     "user": {
      "displayName": "Guillaume Slevan-Tremblay",
      "photoUrl": "https://lh3.googleusercontent.com/a/default-user=s64",
      "userId": "06724317504996977159"
     },
     "user_tz": 420
    },
    "id": "AnN2UqWOvLWZ",
    "outputId": "318e027b-1c42-4aa5-eb78-8cae21425b89"
   },
   "outputs": [
    {
     "data": {
      "text/html": [
       "<div>\n",
       "<style scoped>\n",
       "    .dataframe tbody tr th:only-of-type {\n",
       "        vertical-align: middle;\n",
       "    }\n",
       "\n",
       "    .dataframe tbody tr th {\n",
       "        vertical-align: top;\n",
       "    }\n",
       "\n",
       "    .dataframe thead th {\n",
       "        text-align: right;\n",
       "    }\n",
       "</style>\n",
       "<table border=\"1\" class=\"dataframe\">\n",
       "  <thead>\n",
       "    <tr style=\"text-align: right;\">\n",
       "      <th></th>\n",
       "      <th>compact</th>\n",
       "      <th>surface</th>\n",
       "      <th>wall</th>\n",
       "      <th>roof</th>\n",
       "      <th>height</th>\n",
       "      <th>orient</th>\n",
       "      <th>glazing</th>\n",
       "      <th>glazing_dist</th>\n",
       "    </tr>\n",
       "  </thead>\n",
       "  <tbody>\n",
       "    <tr>\n",
       "      <th>0</th>\n",
       "      <td>0.98</td>\n",
       "      <td>514.5</td>\n",
       "      <td>294.0</td>\n",
       "      <td>110.25</td>\n",
       "      <td>7.0</td>\n",
       "      <td>2</td>\n",
       "      <td>0.0</td>\n",
       "      <td>0</td>\n",
       "    </tr>\n",
       "    <tr>\n",
       "      <th>1</th>\n",
       "      <td>0.98</td>\n",
       "      <td>514.5</td>\n",
       "      <td>294.0</td>\n",
       "      <td>110.25</td>\n",
       "      <td>7.0</td>\n",
       "      <td>3</td>\n",
       "      <td>0.0</td>\n",
       "      <td>0</td>\n",
       "    </tr>\n",
       "    <tr>\n",
       "      <th>2</th>\n",
       "      <td>0.98</td>\n",
       "      <td>514.5</td>\n",
       "      <td>294.0</td>\n",
       "      <td>110.25</td>\n",
       "      <td>7.0</td>\n",
       "      <td>4</td>\n",
       "      <td>0.0</td>\n",
       "      <td>0</td>\n",
       "    </tr>\n",
       "    <tr>\n",
       "      <th>3</th>\n",
       "      <td>0.98</td>\n",
       "      <td>514.5</td>\n",
       "      <td>294.0</td>\n",
       "      <td>110.25</td>\n",
       "      <td>7.0</td>\n",
       "      <td>5</td>\n",
       "      <td>0.0</td>\n",
       "      <td>0</td>\n",
       "    </tr>\n",
       "    <tr>\n",
       "      <th>4</th>\n",
       "      <td>0.90</td>\n",
       "      <td>563.5</td>\n",
       "      <td>318.5</td>\n",
       "      <td>122.50</td>\n",
       "      <td>7.0</td>\n",
       "      <td>2</td>\n",
       "      <td>0.0</td>\n",
       "      <td>0</td>\n",
       "    </tr>\n",
       "  </tbody>\n",
       "</table>\n",
       "</div>"
      ],
      "text/plain": [
       "   compact  surface   wall    roof  height  orient  glazing  glazing_dist\n",
       "0     0.98    514.5  294.0  110.25     7.0       2      0.0             0\n",
       "1     0.98    514.5  294.0  110.25     7.0       3      0.0             0\n",
       "2     0.98    514.5  294.0  110.25     7.0       4      0.0             0\n",
       "3     0.98    514.5  294.0  110.25     7.0       5      0.0             0\n",
       "4     0.90    563.5  318.5  122.50     7.0       2      0.0             0"
      ]
     },
     "execution_count": 31,
     "metadata": {},
     "output_type": "execute_result"
    }
   ],
   "source": [
    "# Imprimer l'aperçu des colonnes incluses dans X\n",
    "X.head()"
   ]
  },
  {
   "cell_type": "code",
   "execution_count": null,
   "metadata": {
    "colab": {
     "base_uri": "https://localhost:8080/"
    },
    "executionInfo": {
     "elapsed": 3,
     "status": "ok",
     "timestamp": 1634592521399,
     "user": {
      "displayName": "Guillaume Slevan-Tremblay",
      "photoUrl": "https://lh3.googleusercontent.com/a/default-user=s64",
      "userId": "06724317504996977159"
     },
     "user_tz": 420
    },
    "id": "xjvgZ8YovLWa",
    "outputId": "e0cfd94f-f95b-48d0-9c95-a85b7869dab2"
   },
   "outputs": [
    {
     "data": {
      "text/plain": [
       "0    15.55\n",
       "1    15.55\n",
       "2    15.55\n",
       "3    15.55\n",
       "4    20.84\n",
       "Name: heating, dtype: float64"
      ]
     },
     "execution_count": 32,
     "metadata": {},
     "output_type": "execute_result"
    }
   ],
   "source": [
    "# Imprimer les colonnes incluses dans y\n",
    "y.head()"
   ]
  },
  {
   "cell_type": "markdown",
   "metadata": {
    "id": "-6i642cH_ouY"
   },
   "source": [
    "### 2.1 Erreur moyenne absolue (MAE)\n",
    "\n",
    "> Définir l'argument `scoring='neg_mean_absolute_error'` dans la fonction `cross_val_score`"
   ]
  },
  {
   "cell_type": "code",
   "execution_count": null,
   "metadata": {
    "id": "uOkiTA6ioWk9"
   },
   "outputs": [],
   "source": [
    "from sklearn.model_selection import cross_val_score\n",
    "from sklearn.linear_model import LinearRegression"
   ]
  },
  {
   "cell_type": "code",
   "execution_count": null,
   "metadata": {
    "id": "1d1tOvC3vXYw"
   },
   "outputs": [],
   "source": [
    "# Définir le modèle à utiliser\n",
    "lr_model = LinearRegression()\n",
    "\n",
    "# Appliquer la validation croisée\n",
    "cv_scores = cross_val_score(lr_model, X, y, cv=10, scoring='neg_mean_absolute_error')"
   ]
  },
  {
   "cell_type": "code",
   "execution_count": null,
   "metadata": {
    "colab": {
     "base_uri": "https://localhost:8080/"
    },
    "executionInfo": {
     "elapsed": 122,
     "status": "ok",
     "timestamp": 1634592648851,
     "user": {
      "displayName": "Guillaume Slevan-Tremblay",
      "photoUrl": "https://lh3.googleusercontent.com/a/default-user=s64",
      "userId": "06724317504996977159"
     },
     "user_tz": 420
    },
    "id": "lvm01IC8vXYx",
    "outputId": "ec555781-2f2d-4281-904e-50461140c545"
   },
   "outputs": [
    {
     "name": "stdout",
     "output_type": "stream",
     "text": [
      "MAE : 2.247 +/- 0.629\n"
     ]
    }
   ],
   "source": [
    "# Extraire et imprimer la performance obtenue\n",
    "print(f\"MAE : {abs(round(cv_scores.mean(), 3))} +/- {round(cv_scores.std(), 3)}\")"
   ]
  },
  {
   "cell_type": "markdown",
   "metadata": {
    "id": "QrM7BIYK_tbh"
   },
   "source": [
    "### 2.2 Erreur quadratique moyenne (MSE)\n",
    "\n",
    "> Définir l'argument `scoring='neg_mean_squared_error'` dans la fonction `cross_val_score`"
   ]
  },
  {
   "cell_type": "code",
   "execution_count": null,
   "metadata": {
    "id": "4GNv0aU2vzvf"
   },
   "outputs": [],
   "source": [
    "# Définir le modèle à utiliser\n",
    "lr_model = LinearRegression()\n",
    "\n",
    "# Appliquer la validation croisée\n",
    "cv_scores = cross_val_score(lr_model, X, y, cv=10, scoring='neg_mean_squared_error')"
   ]
  },
  {
   "cell_type": "code",
   "execution_count": null,
   "metadata": {
    "colab": {
     "base_uri": "https://localhost:8080/"
    },
    "executionInfo": {
     "elapsed": 144,
     "status": "ok",
     "timestamp": 1634592683083,
     "user": {
      "displayName": "Guillaume Slevan-Tremblay",
      "photoUrl": "https://lh3.googleusercontent.com/a/default-user=s64",
      "userId": "06724317504996977159"
     },
     "user_tz": 420
    },
    "id": "_vHQgkz2vzvf",
    "outputId": "57afc614-aa88-46f3-fdb4-9d70d99dac0a"
   },
   "outputs": [
    {
     "name": "stdout",
     "output_type": "stream",
     "text": [
      "MSE : 9.933 +/- 5.685\n"
     ]
    }
   ],
   "source": [
    "# Extraire et imprimer la performance obtenue\n",
    "print(f\"MSE : {abs(round(cv_scores.mean(), 3))} +/- {round(cv_scores.std(), 3)}\")"
   ]
  },
  {
   "cell_type": "code",
   "execution_count": null,
   "metadata": {
    "colab": {
     "base_uri": "https://localhost:8080/"
    },
    "executionInfo": {
     "elapsed": 131,
     "status": "ok",
     "timestamp": 1634592685548,
     "user": {
      "displayName": "Guillaume Slevan-Tremblay",
      "photoUrl": "https://lh3.googleusercontent.com/a/default-user=s64",
      "userId": "06724317504996977159"
     },
     "user_tz": 420
    },
    "id": "Khml1sLlKib-",
    "outputId": "c3206568-40f2-43ad-9c0a-1569fd8889f5"
   },
   "outputs": [
    {
     "name": "stdout",
     "output_type": "stream",
     "text": [
      "RMSE : 3.152\n"
     ]
    }
   ],
   "source": [
    "# Calculer le RMSE\n",
    "from math import sqrt\n",
    "print(f'RMSE : {round(sqrt(abs(cv_scores.mean())), 3)}')"
   ]
  },
  {
   "cell_type": "markdown",
   "metadata": {
    "id": "vAjtHlZ3_zg9"
   },
   "source": [
    "### 2.3 R carré (R2)\n",
    "\n",
    "> Définir l'argument `scoring='r2'` dans la fonction `cross_val_score`"
   ]
  },
  {
   "cell_type": "code",
   "execution_count": null,
   "metadata": {
    "id": "lrsBNvG3v_vt"
   },
   "outputs": [],
   "source": [
    "# Définir le modèle à utiliser\n",
    "lr_model = LinearRegression()\n",
    "\n",
    "# Appliquer la validation croisée\n",
    "cv_scores = cross_val_score(lr_model, X, y, cv=10, scoring='r2')"
   ]
  },
  {
   "cell_type": "code",
   "execution_count": null,
   "metadata": {
    "colab": {
     "base_uri": "https://localhost:8080/"
    },
    "executionInfo": {
     "elapsed": 130,
     "status": "ok",
     "timestamp": 1634592704353,
     "user": {
      "displayName": "Guillaume Slevan-Tremblay",
      "photoUrl": "https://lh3.googleusercontent.com/a/default-user=s64",
      "userId": "06724317504996977159"
     },
     "user_tz": 420
    },
    "id": "O5gphjrSv_vu",
    "outputId": "953c185b-ea87-4000-f1ac-69ee597f07c1"
   },
   "outputs": [
    {
     "name": "stdout",
     "output_type": "stream",
     "text": [
      "R-Squared : 0.893 +/- 0.065\n"
     ]
    }
   ],
   "source": [
    "# Extraire et imprimer la performance obtenue\n",
    "print(f\"R-Squared : {round(cv_scores.mean(), 3)} +/- {round(cv_scores.std(), 3)}\")"
   ]
  },
  {
   "cell_type": "markdown",
   "metadata": {
    "id": "LW_SeJPcGKeD"
   },
   "source": [
    "## **LEÇON #9 - EXERCICE CONTINU**\n",
    "\n",
    "## Évaluation d'algorithmes\n",
    "\n",
    "> *Utiliser votre notebook individuel `notebook_pratique_classification_binaire.ipynb` pour les exercices concernant la classification.*\n",
    "\n",
    "> *Utiliser votre notebook individuel `notebook_pratique_régression.ipynb` pour les exercices concernant la régression.*\n",
    "\n",
    "### Description\n",
    "En utilisant les notebooks pratiques ci-dessus, accomplir les tâches énumérées ci-dessous.\n",
    "\n",
    "> **Répondre aux questions dans une cellule de texte Markdown au fur et à mesure que vous progressez.**\n",
    "\n",
    "> **Refaites rouler le code en entier avant de commencer cet exercice.** Utiliser le menu Exécution/Tout exécuter pour y parvenir.\n",
    "\n",
    "## Tâches à accomplir :\n",
    "\n",
    "### Classification\n",
    "En utilisant le jeu de données banknote `banknote.csv` et une régression logistique `LogisticRegression`...\n",
    "\n",
    "1. Évaluer l'algorithme en utilisant le métrique de précision (accuracy).\n",
    "  * 1.1 Quelle est la précision du modèle?\n",
    "2. Produire la matrice de confusion sous forme de figure.\n",
    "  * 2.1 Combien y a-t-il de faux négatifs?\n",
    "  * 2.2 Que cela signifie-t-il en mot? Écrire la réponse en une phrase.\n",
    "3. Produire le rapport de classification.\n",
    "  * 3.1 Quel est le score F1?\n",
    "4. Obtenir l'aire sous la courbe ROC.\n",
    "  * 4.1 Faire le graphique de la courbe ROC.\n",
    "  * 4.2 Quelle est la valeur de l'aire sous la courbe ROC? Que cela signifie-t-il?\n",
    "\n",
    "### Régression \n",
    "En utilisant le jeu de données concrete `concrete.csv` et une régression linéaire `LinearRegression`...\n",
    "1. Évaluer l'algorithme avec l'erreur absolue moyenne (MAE).\n",
    "2. Évaluer l'algorithme avec l'erreur quadratique moyenne (MSE) et calculer la racine carrée de l'erreur quadratique moyenne (RMSE).\n",
    "3. Évaluer l'algorithme avec le R-carré (R2)."
   ]
  },
  {
   "cell_type": "code",
   "execution_count": null,
   "metadata": {
    "id": "-vJsNFN0Nz7R"
   },
   "outputs": [],
   "source": []
  }
 ],
 "metadata": {
  "colab": {
   "collapsed_sections": [],
   "name": "leçon_9_théorie.ipynb",
   "provenance": []
  },
  "kernelspec": {
   "display_name": "Python 3",
   "name": "python3"
  },
  "language_info": {
   "name": "python"
  }
 },
 "nbformat": 4,
 "nbformat_minor": 0
}
