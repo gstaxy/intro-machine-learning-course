{
 "cells": [
  {
   "cell_type": "markdown",
   "metadata": {
    "id": "pVAFrPOpicAE"
   },
   "source": [
    "# Atelier Théorique 1\n",
    "\n",
    "## Écosystème Python pour l’apprentissage automatique\n",
    "\n",
    "Bienvenue dans l'univers des Notebook Jupyter!\n",
    "\n",
    "Il est maintenant temps **d'explorer** les différentes fonctions d'un Notebook.\n",
    "\n",
    "**Ceci est du texte.**\n",
    "\n",
    "\n",
    "```\n",
    "# Ce texte est au format code\n",
    "```\n",
    "\n",
    "\n",
    "*   Élément de liste\n",
    "*   Élément de liste"
   ]
  },
  {
   "cell_type": "code",
   "execution_count": 6,
   "metadata": {
    "colab": {
     "base_uri": "https://localhost:8080/"
    },
    "executionInfo": {
     "elapsed": 146,
     "status": "ok",
     "timestamp": 1629813933685,
     "user": {
      "displayName": "Guillaume Slevan-Tremblay",
      "photoUrl": "https://lh3.googleusercontent.com/a/default-user=s64",
      "userId": "06724317504996977159"
     },
     "user_tz": 420
    },
    "id": "K24_FcNSZvSb",
    "outputId": "1a58b816-cf80-491b-9999-a65cc43411da"
   },
   "outputs": [
    {
     "name": "stdout",
     "output_type": "stream",
     "text": [
      "Code Python\n"
     ]
    }
   ],
   "source": [
    "print(\"Code Python\")"
   ]
  },
  {
   "cell_type": "markdown",
   "metadata": {
    "id": "F9rbsEUkcN0r"
   },
   "source": [
    "Avec ce code, on voit qu'on peut imprimer du texte."
   ]
  },
  {
   "cell_type": "code",
   "execution_count": 5,
   "metadata": {
    "colab": {
     "base_uri": "https://localhost:8080/"
    },
    "executionInfo": {
     "elapsed": 212,
     "status": "ok",
     "timestamp": 1629813434673,
     "user": {
      "displayName": "Guillaume Slevan-Tremblay",
      "photoUrl": "https://lh3.googleusercontent.com/a/default-user=s64",
      "userId": "06724317504996977159"
     },
     "user_tz": 420
    },
    "id": "gYhpm8bTa_qj",
    "outputId": "0bbebb43-bbc0-4d71-fff4-038793801936"
   },
   "outputs": [
    {
     "name": "stdout",
     "output_type": "stream",
     "text": [
      "Langage Markdown\n"
     ]
    }
   ],
   "source": [
    "print(\"Langage Markdown\")"
   ]
  },
  {
   "cell_type": "markdown",
   "metadata": {
    "id": "2fR__BozicAK"
   },
   "source": [
    "## Cette cellule est un bloc de texte **Markdown**\n",
    "\n",
    "*Double clique sur la cellule pour modifier son contenu* \n",
    "\n",
    "On peut y écrire du texte pour documenter nos projets."
   ]
  },
  {
   "cell_type": "code",
   "execution_count": null,
   "metadata": {
    "id": "D2rbNQoNicAM",
    "outputId": "1e4d7d5c-ad2c-44ed-dce5-952e16a969c8"
   },
   "outputs": [
    {
     "name": "stdout",
     "output_type": "stream",
     "text": [
      "Hello World!\n"
     ]
    }
   ],
   "source": [
    "# Cette cellule est un bloc de code\n",
    "print('Hello World!')"
   ]
  },
  {
   "cell_type": "markdown",
   "metadata": {
    "id": "S3D9ivsq4hte"
   },
   "source": [
    "## **LEÇON #1 - EXERCICE PRATIQUE**\n",
    "\n",
    "### Description\n",
    "Cet exercice vise à explorer les fonctionalités d'un notebook. Se référer à l'aide mémoire sur Markdown pour les compléter les tâches.\n",
    "\n",
    "### Tâches à accomplir :\n",
    "1. Créer une cellule de texte Markdown et y inscrire les informations suivantes :\n",
    "  * Votre nom en grand titre (*header1*)\n",
    "  * Une liste numérotée de vos 3 groupes de musique préférés\n",
    "  * Le sport que vous pratiquez le plus souvent en **gras**\n",
    "2. Créer une cellule de code Python et y écrire le code pour imprimer \"Bonjour! Ceci est le premier code que j'écris dans un notebook!\"."
   ]
  },
  {
   "cell_type": "code",
   "execution_count": null,
   "metadata": {},
   "outputs": [],
   "source": [
    "# Débuter votre code ici"
   ]
  }
 ],
 "metadata": {
  "colab": {
   "collapsed_sections": [],
   "name": "leçon_1_exploration_du_notebook_pratique.ipynb",
   "provenance": [],
   "toc_visible": true
  },
  "kernelspec": {
   "display_name": "Python 3",
   "name": "python3"
  },
  "language_info": {
   "name": "python"
  }
 },
 "nbformat": 4,
 "nbformat_minor": 0
}
